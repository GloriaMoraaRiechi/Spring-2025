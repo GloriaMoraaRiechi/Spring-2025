{
  "nbformat": 4,
  "nbformat_minor": 0,
  "metadata": {
    "colab": {
      "provenance": [],
      "authorship_tag": "ABX9TyOMeNTvI5rs7tL9QsIhh/WK",
      "include_colab_link": true
    },
    "kernelspec": {
      "name": "python3",
      "display_name": "Python 3"
    },
    "language_info": {
      "name": "python"
    }
  },
  "cells": [
    {
      "cell_type": "markdown",
      "metadata": {
        "id": "view-in-github",
        "colab_type": "text"
      },
      "source": [
        "<a href=\"https://colab.research.google.com/github/GloriaMoraaRiechi/Spring-2025/blob/main/clustering.ipynb\" target=\"_parent\"><img src=\"https://colab.research.google.com/assets/colab-badge.svg\" alt=\"Open In Colab\"/></a>"
      ]
    },
    {
      "cell_type": "markdown",
      "source": [
        "The examined group comprised kernels belonging to three different varieties of wheat: Kama, Rosa and Canadian, 70 elements each, randomly selected for the experiment. High quality visualization of the internal kernel structure was detected using a soft X-ray technique. It is non-destructive and considerably cheaper than other more sophisticated imaging techniques like scanning microscopy or laser technology. The images were recorded on 13x18 cm X-ray KODAK plates. Studies were conducted using combine harvested wheat grain originating from experimental fields, explored at the Institute of Agrophysics of the Polish Academy of Sciences in Lublin. The data set can be used for the tasks of classification and cluster analysis."
      ],
      "metadata": {
        "id": "FKSFIyYKxn_J"
      }
    },
    {
      "cell_type": "markdown",
      "source": [
        "Attribute Information:To construct the data, seven geometric parameters of wheat kernels were measured:\n",
        "1. area A,\n",
        "2. perimeter P,\n",
        "3. compactness C = 4*pi*A/P^2,\n",
        "4. length of kernel,\n",
        "5. width of kernel,\n",
        "6. asymmetry coefficient\n",
        "7. length of kernel groove.\n",
        "\n",
        "All of these parameters were real-valued continuous.\n",
        "\n",
        "Apply K-means clustering using PySpark in Google Colab based on the seed.txt dataset\n",
        "\n",
        "Apply Gaussian Mixture Model with the same seed.txt dataset"
      ],
      "metadata": {
        "id": "6ijdSjHBx38s"
      }
    },
    {
      "cell_type": "code",
      "source": [
        "from pyspark.sql import SparkSession\n",
        "from pyspark.ml.clustering import KMeans, GaussianMixture\n",
        "from pyspark.ml.feature import VectorAssembler\n",
        "from pyspark.ml.evaluation import ClusteringEvaluator\n",
        "from pyspark.sql.functions import col, sum"
      ],
      "metadata": {
        "id": "TL7YZU1Tyixd"
      },
      "execution_count": null,
      "outputs": []
    },
    {
      "cell_type": "markdown",
      "source": [
        "Initialize spark session"
      ],
      "metadata": {
        "id": "QyFbiCANywlC"
      }
    },
    {
      "cell_type": "code",
      "source": [
        "spark = SparkSession.builder.appName(\"Clustering\").getOrCreate()"
      ],
      "metadata": {
        "id": "AMysuMOCy0wI"
      },
      "execution_count": null,
      "outputs": []
    },
    {
      "cell_type": "markdown",
      "source": [
        "Load dataset"
      ],
      "metadata": {
        "id": "CwwqC9KKy8NS"
      }
    },
    {
      "cell_type": "code",
      "source": [
        "from google.colab import files\n",
        "\n",
        "# Upload the file\n",
        "uploaded = files.upload()\n",
        "\n",
        "# Get the uploaded file name\n",
        "file_name = list(uploaded.keys())[0]\n",
        "\n",
        "# Read the file\n",
        "data = spark.read.csv(file_name, header=False, inferSchema=True, sep=\"\\t\")\n"
      ],
      "metadata": {
        "colab": {
          "base_uri": "https://localhost:8080/",
          "height": 73
        },
        "id": "XE5MyhU2y7Hy",
        "outputId": "fca2064b-86c1-43fb-e622-c1b7450b1d43"
      },
      "execution_count": null,
      "outputs": [
        {
          "output_type": "display_data",
          "data": {
            "text/plain": [
              "<IPython.core.display.HTML object>"
            ],
            "text/html": [
              "\n",
              "     <input type=\"file\" id=\"files-d9234858-0c27-41f6-a221-307ab2ac361a\" name=\"files[]\" multiple disabled\n",
              "        style=\"border:none\" />\n",
              "     <output id=\"result-d9234858-0c27-41f6-a221-307ab2ac361a\">\n",
              "      Upload widget is only available when the cell has been executed in the\n",
              "      current browser session. Please rerun this cell to enable.\n",
              "      </output>\n",
              "      <script>// Copyright 2017 Google LLC\n",
              "//\n",
              "// Licensed under the Apache License, Version 2.0 (the \"License\");\n",
              "// you may not use this file except in compliance with the License.\n",
              "// You may obtain a copy of the License at\n",
              "//\n",
              "//      http://www.apache.org/licenses/LICENSE-2.0\n",
              "//\n",
              "// Unless required by applicable law or agreed to in writing, software\n",
              "// distributed under the License is distributed on an \"AS IS\" BASIS,\n",
              "// WITHOUT WARRANTIES OR CONDITIONS OF ANY KIND, either express or implied.\n",
              "// See the License for the specific language governing permissions and\n",
              "// limitations under the License.\n",
              "\n",
              "/**\n",
              " * @fileoverview Helpers for google.colab Python module.\n",
              " */\n",
              "(function(scope) {\n",
              "function span(text, styleAttributes = {}) {\n",
              "  const element = document.createElement('span');\n",
              "  element.textContent = text;\n",
              "  for (const key of Object.keys(styleAttributes)) {\n",
              "    element.style[key] = styleAttributes[key];\n",
              "  }\n",
              "  return element;\n",
              "}\n",
              "\n",
              "// Max number of bytes which will be uploaded at a time.\n",
              "const MAX_PAYLOAD_SIZE = 100 * 1024;\n",
              "\n",
              "function _uploadFiles(inputId, outputId) {\n",
              "  const steps = uploadFilesStep(inputId, outputId);\n",
              "  const outputElement = document.getElementById(outputId);\n",
              "  // Cache steps on the outputElement to make it available for the next call\n",
              "  // to uploadFilesContinue from Python.\n",
              "  outputElement.steps = steps;\n",
              "\n",
              "  return _uploadFilesContinue(outputId);\n",
              "}\n",
              "\n",
              "// This is roughly an async generator (not supported in the browser yet),\n",
              "// where there are multiple asynchronous steps and the Python side is going\n",
              "// to poll for completion of each step.\n",
              "// This uses a Promise to block the python side on completion of each step,\n",
              "// then passes the result of the previous step as the input to the next step.\n",
              "function _uploadFilesContinue(outputId) {\n",
              "  const outputElement = document.getElementById(outputId);\n",
              "  const steps = outputElement.steps;\n",
              "\n",
              "  const next = steps.next(outputElement.lastPromiseValue);\n",
              "  return Promise.resolve(next.value.promise).then((value) => {\n",
              "    // Cache the last promise value to make it available to the next\n",
              "    // step of the generator.\n",
              "    outputElement.lastPromiseValue = value;\n",
              "    return next.value.response;\n",
              "  });\n",
              "}\n",
              "\n",
              "/**\n",
              " * Generator function which is called between each async step of the upload\n",
              " * process.\n",
              " * @param {string} inputId Element ID of the input file picker element.\n",
              " * @param {string} outputId Element ID of the output display.\n",
              " * @return {!Iterable<!Object>} Iterable of next steps.\n",
              " */\n",
              "function* uploadFilesStep(inputId, outputId) {\n",
              "  const inputElement = document.getElementById(inputId);\n",
              "  inputElement.disabled = false;\n",
              "\n",
              "  const outputElement = document.getElementById(outputId);\n",
              "  outputElement.innerHTML = '';\n",
              "\n",
              "  const pickedPromise = new Promise((resolve) => {\n",
              "    inputElement.addEventListener('change', (e) => {\n",
              "      resolve(e.target.files);\n",
              "    });\n",
              "  });\n",
              "\n",
              "  const cancel = document.createElement('button');\n",
              "  inputElement.parentElement.appendChild(cancel);\n",
              "  cancel.textContent = 'Cancel upload';\n",
              "  const cancelPromise = new Promise((resolve) => {\n",
              "    cancel.onclick = () => {\n",
              "      resolve(null);\n",
              "    };\n",
              "  });\n",
              "\n",
              "  // Wait for the user to pick the files.\n",
              "  const files = yield {\n",
              "    promise: Promise.race([pickedPromise, cancelPromise]),\n",
              "    response: {\n",
              "      action: 'starting',\n",
              "    }\n",
              "  };\n",
              "\n",
              "  cancel.remove();\n",
              "\n",
              "  // Disable the input element since further picks are not allowed.\n",
              "  inputElement.disabled = true;\n",
              "\n",
              "  if (!files) {\n",
              "    return {\n",
              "      response: {\n",
              "        action: 'complete',\n",
              "      }\n",
              "    };\n",
              "  }\n",
              "\n",
              "  for (const file of files) {\n",
              "    const li = document.createElement('li');\n",
              "    li.append(span(file.name, {fontWeight: 'bold'}));\n",
              "    li.append(span(\n",
              "        `(${file.type || 'n/a'}) - ${file.size} bytes, ` +\n",
              "        `last modified: ${\n",
              "            file.lastModifiedDate ? file.lastModifiedDate.toLocaleDateString() :\n",
              "                                    'n/a'} - `));\n",
              "    const percent = span('0% done');\n",
              "    li.appendChild(percent);\n",
              "\n",
              "    outputElement.appendChild(li);\n",
              "\n",
              "    const fileDataPromise = new Promise((resolve) => {\n",
              "      const reader = new FileReader();\n",
              "      reader.onload = (e) => {\n",
              "        resolve(e.target.result);\n",
              "      };\n",
              "      reader.readAsArrayBuffer(file);\n",
              "    });\n",
              "    // Wait for the data to be ready.\n",
              "    let fileData = yield {\n",
              "      promise: fileDataPromise,\n",
              "      response: {\n",
              "        action: 'continue',\n",
              "      }\n",
              "    };\n",
              "\n",
              "    // Use a chunked sending to avoid message size limits. See b/62115660.\n",
              "    let position = 0;\n",
              "    do {\n",
              "      const length = Math.min(fileData.byteLength - position, MAX_PAYLOAD_SIZE);\n",
              "      const chunk = new Uint8Array(fileData, position, length);\n",
              "      position += length;\n",
              "\n",
              "      const base64 = btoa(String.fromCharCode.apply(null, chunk));\n",
              "      yield {\n",
              "        response: {\n",
              "          action: 'append',\n",
              "          file: file.name,\n",
              "          data: base64,\n",
              "        },\n",
              "      };\n",
              "\n",
              "      let percentDone = fileData.byteLength === 0 ?\n",
              "          100 :\n",
              "          Math.round((position / fileData.byteLength) * 100);\n",
              "      percent.textContent = `${percentDone}% done`;\n",
              "\n",
              "    } while (position < fileData.byteLength);\n",
              "  }\n",
              "\n",
              "  // All done.\n",
              "  yield {\n",
              "    response: {\n",
              "      action: 'complete',\n",
              "    }\n",
              "  };\n",
              "}\n",
              "\n",
              "scope.google = scope.google || {};\n",
              "scope.google.colab = scope.google.colab || {};\n",
              "scope.google.colab._files = {\n",
              "  _uploadFiles,\n",
              "  _uploadFilesContinue,\n",
              "};\n",
              "})(self);\n",
              "</script> "
            ]
          },
          "metadata": {}
        },
        {
          "output_type": "stream",
          "name": "stdout",
          "text": [
            "Saving seed.txt to seed (2).txt\n"
          ]
        }
      ]
    },
    {
      "cell_type": "code",
      "source": [
        "data.show(5)"
      ],
      "metadata": {
        "colab": {
          "base_uri": "https://localhost:8080/"
        },
        "id": "y2oYzYYozcxI",
        "outputId": "2b432896-6ba9-4d11-c812-0a268a621cab"
      },
      "execution_count": null,
      "outputs": [
        {
          "output_type": "stream",
          "name": "stdout",
          "text": [
            "+-----+-----+------+-----+-----+-----+-----+---+\n",
            "|  _c0|  _c1|   _c2|  _c3|  _c4|  _c5|  _c6|_c7|\n",
            "+-----+-----+------+-----+-----+-----+-----+---+\n",
            "|15.26|14.84| 0.871|5.763|3.312|2.221| 5.22|1.0|\n",
            "|14.88|14.57|0.8811|5.554|3.333|1.018|4.956|1.0|\n",
            "|14.29|14.09| 0.905|5.291|3.337|2.699|4.825|1.0|\n",
            "|13.84|13.94|0.8955|5.324|3.379|2.259|4.805|1.0|\n",
            "|16.14|14.99|0.9034|5.658|3.562|1.355|5.175|1.0|\n",
            "+-----+-----+------+-----+-----+-----+-----+---+\n",
            "only showing top 5 rows\n",
            "\n"
          ]
        }
      ]
    },
    {
      "cell_type": "markdown",
      "source": [
        "Clean the data and convert to dataframe"
      ],
      "metadata": {
        "id": "6X_tkINlz7SB"
      }
    },
    {
      "cell_type": "code",
      "source": [
        "#Rename the columns\n",
        "columns = [\"area\", \"perimeter\", \"compactness\", \"length\", \"width\", \"asymmetry\", \"lengthOfGroove\", \"class\"]\n",
        "data = data.toDF(*columns)\n",
        "data.show(5)"
      ],
      "metadata": {
        "colab": {
          "base_uri": "https://localhost:8080/"
        },
        "id": "xSWVCAvFz9i_",
        "outputId": "80973ffa-dc4c-4909-fccc-eb83e5b38a04"
      },
      "execution_count": null,
      "outputs": [
        {
          "output_type": "stream",
          "name": "stdout",
          "text": [
            "+-----+---------+-----------+------+-----+---------+--------------+-----+\n",
            "| area|perimeter|compactness|length|width|asymmetry|lengthOfGroove|class|\n",
            "+-----+---------+-----------+------+-----+---------+--------------+-----+\n",
            "|15.26|    14.84|      0.871| 5.763|3.312|    2.221|          5.22|  1.0|\n",
            "|14.88|    14.57|     0.8811| 5.554|3.333|    1.018|         4.956|  1.0|\n",
            "|14.29|    14.09|      0.905| 5.291|3.337|    2.699|         4.825|  1.0|\n",
            "|13.84|    13.94|     0.8955| 5.324|3.379|    2.259|         4.805|  1.0|\n",
            "|16.14|    14.99|     0.9034| 5.658|3.562|    1.355|         5.175|  1.0|\n",
            "+-----+---------+-----------+------+-----+---------+--------------+-----+\n",
            "only showing top 5 rows\n",
            "\n"
          ]
        }
      ]
    },
    {
      "cell_type": "markdown",
      "source": [
        "Handle missing data\n",
        "\n",
        "col(c).isNull(): Checks if each column value is null.\n",
        ".cast(\"int\"): Converts boolean (True/False) results to integers (1/0) so they can be summed.\n",
        "sum(...): Aggregates the count of null values per column.\n",
        ".alias(c): Renames each column to its original name.\n"
      ],
      "metadata": {
        "id": "E4CsYJfY0K5J"
      }
    },
    {
      "cell_type": "code",
      "source": [
        "# Count missing (null) values for each column\n",
        "null_counts = data.select([sum(col(c).isNull().cast(\"int\")).alias(c) for c in data.columns])\n",
        "\n",
        "# Show the result\n",
        "null_counts.show()"
      ],
      "metadata": {
        "colab": {
          "base_uri": "https://localhost:8080/"
        },
        "id": "9ch6rjN80OMx",
        "outputId": "2a0d6665-3ac3-4bba-e006-69311e9edac9"
      },
      "execution_count": null,
      "outputs": [
        {
          "output_type": "stream",
          "name": "stdout",
          "text": [
            "+----+---------+-----------+------+-----+---------+--------------+-----+\n",
            "|area|perimeter|compactness|length|width|asymmetry|lengthOfGroove|class|\n",
            "+----+---------+-----------+------+-----+---------+--------------+-----+\n",
            "|   0|        0|          3|     0|    1|        0|             4|    4|\n",
            "+----+---------+-----------+------+-----+---------+--------------+-----+\n",
            "\n"
          ]
        }
      ]
    },
    {
      "cell_type": "code",
      "source": [
        "from pyspark.ml.feature import Imputer\n",
        "\n",
        "# List of numerical columns (excluding the \"class\" column)\n",
        "num_cols = [\"area\", \"perimeter\", \"compactness\", \"length\", \"width\", \"asymmetry\", \"lengthOfGroove\"]\n",
        "\n",
        "# Create Imputer for mean (change to \"median\" if needed)\n",
        "imputer = Imputer(inputCols=num_cols, outputCols=[f\"{c}_imputed\" for c in num_cols], strategy=\"mean\")\n",
        "\n",
        "# Fit and transform the data\n",
        "data_imputed = imputer.fit(data).transform(data)\n",
        "\n",
        "# Show the result\n",
        "data_imputed.show()\n"
      ],
      "metadata": {
        "colab": {
          "base_uri": "https://localhost:8080/"
        },
        "id": "ylUM0RYq1NSC",
        "outputId": "a6bbd268-0409-4aa4-f8a5-9974a2012072"
      },
      "execution_count": null,
      "outputs": [
        {
          "output_type": "stream",
          "name": "stdout",
          "text": [
            "+-----+---------+-----------+------+-----+---------+--------------+-----+------------+-----------------+-------------------+--------------+-------------+-----------------+----------------------+\n",
            "| area|perimeter|compactness|length|width|asymmetry|lengthOfGroove|class|area_imputed|perimeter_imputed|compactness_imputed|length_imputed|width_imputed|asymmetry_imputed|lengthOfGroove_imputed|\n",
            "+-----+---------+-----------+------+-----+---------+--------------+-----+------------+-----------------+-------------------+--------------+-------------+-----------------+----------------------+\n",
            "|15.26|    14.84|      0.871| 5.763|3.312|    2.221|          5.22|  1.0|       15.26|            14.84|              0.871|         5.763|        3.312|            2.221|                  5.22|\n",
            "|14.88|    14.57|     0.8811| 5.554|3.333|    1.018|         4.956|  1.0|       14.88|            14.57|             0.8811|         5.554|        3.333|            1.018|                 4.956|\n",
            "|14.29|    14.09|      0.905| 5.291|3.337|    2.699|         4.825|  1.0|       14.29|            14.09|              0.905|         5.291|        3.337|            2.699|                 4.825|\n",
            "|13.84|    13.94|     0.8955| 5.324|3.379|    2.259|         4.805|  1.0|       13.84|            13.94|             0.8955|         5.324|        3.379|            2.259|                 4.805|\n",
            "|16.14|    14.99|     0.9034| 5.658|3.562|    1.355|         5.175|  1.0|       16.14|            14.99|             0.9034|         5.658|        3.562|            1.355|                 5.175|\n",
            "|14.38|    14.21|     0.8951| 5.386|3.312|    2.462|         4.956|  1.0|       14.38|            14.21|             0.8951|         5.386|        3.312|            2.462|                 4.956|\n",
            "|14.69|    14.49|     0.8799| 5.563|3.259|    3.586|         5.219|  1.0|       14.69|            14.49|             0.8799|         5.563|        3.259|            3.586|                 5.219|\n",
            "|14.11|     14.1|     0.8911|  5.42|3.302|      2.7|          NULL|  5.0|       14.11|             14.1|             0.8911|          5.42|        3.302|              2.7|     5.407529126213591|\n",
            "|16.63|    15.46|     0.8747| 6.053|3.465|     2.04|         5.877|  1.0|       16.63|            15.46|             0.8747|         6.053|        3.465|             2.04|                 5.877|\n",
            "|16.44|    15.25|      0.888| 5.884|3.505|    1.969|         5.533|  1.0|       16.44|            15.25|              0.888|         5.884|        3.505|            1.969|                 5.533|\n",
            "|15.26|    14.85|     0.8696| 5.714|3.242|    4.543|         5.314|  1.0|       15.26|            14.85|             0.8696|         5.714|        3.242|            4.543|                 5.314|\n",
            "|14.03|    14.16|     0.8796| 5.438|3.201|    1.717|         5.001|  1.0|       14.03|            14.16|             0.8796|         5.438|        3.201|            1.717|                 5.001|\n",
            "|13.89|    14.02|      0.888| 5.439|3.199|    3.986|         4.738|  1.0|       13.89|            14.02|              0.888|         5.439|        3.199|            3.986|                 4.738|\n",
            "|13.78|    14.06|     0.8759| 5.479|3.156|    3.136|         4.872|  1.0|       13.78|            14.06|             0.8759|         5.479|        3.156|            3.136|                 4.872|\n",
            "|13.74|    14.05|     0.8744| 5.482|3.114|    2.932|         4.825|  1.0|       13.74|            14.05|             0.8744|         5.482|        3.114|            2.932|                 4.825|\n",
            "|14.59|    14.28|     0.8993| 5.351|3.333|    4.185|         4.781|  1.0|       14.59|            14.28|             0.8993|         5.351|        3.333|            4.185|                 4.781|\n",
            "|13.99|    13.83|     0.9183| 5.119|3.383|    5.234|         4.781|  1.0|       13.99|            13.83|             0.9183|         5.119|        3.383|            5.234|                 4.781|\n",
            "|15.69|    14.75|     0.9058| 5.527|3.514|    1.599|         5.046|  1.0|       15.69|            14.75|             0.9058|         5.527|        3.514|            1.599|                 5.046|\n",
            "| 14.7|    14.21|     0.9153| 5.205|3.466|    1.767|         4.649|  1.0|        14.7|            14.21|             0.9153|         5.205|        3.466|            1.767|                 4.649|\n",
            "|12.72|    13.57|     0.8686| 5.226|3.049|    4.102|         4.914|  1.0|       12.72|            13.57|             0.8686|         5.226|        3.049|            4.102|                 4.914|\n",
            "+-----+---------+-----------+------+-----+---------+--------------+-----+------------+-----------------+-------------------+--------------+-------------+-----------------+----------------------+\n",
            "only showing top 20 rows\n",
            "\n"
          ]
        }
      ]
    },
    {
      "cell_type": "code",
      "source": [
        "from pyspark.sql.functions import col, count, when\n",
        "\n",
        "# Find the most frequent class\n",
        "most_frequent_class = data.groupBy(\"class\").count().orderBy(col(\"count\").desc()).first()[\"class\"]\n",
        "\n",
        "# Fill missing values with the most frequent class\n",
        "data_imputed = data_imputed.fillna({\"class\": most_frequent_class})\n"
      ],
      "metadata": {
        "id": "InkIRlyq1TOg"
      },
      "execution_count": null,
      "outputs": []
    },
    {
      "cell_type": "code",
      "source": [
        "from pyspark.sql.functions import sum\n",
        "\n",
        "# Count missing values again\n",
        "data_imputed.select([sum(col(c).isNull().cast(\"int\")).alias(c) for c in data_imputed.columns]).show()"
      ],
      "metadata": {
        "colab": {
          "base_uri": "https://localhost:8080/"
        },
        "id": "QjjvHhKM1WG_",
        "outputId": "957b06b9-34bf-4ec8-a7dc-dca2f1991b0c"
      },
      "execution_count": null,
      "outputs": [
        {
          "output_type": "stream",
          "name": "stdout",
          "text": [
            "+----+---------+-----------+------+-----+---------+--------------+-----+------------+-----------------+-------------------+--------------+-------------+-----------------+----------------------+\n",
            "|area|perimeter|compactness|length|width|asymmetry|lengthOfGroove|class|area_imputed|perimeter_imputed|compactness_imputed|length_imputed|width_imputed|asymmetry_imputed|lengthOfGroove_imputed|\n",
            "+----+---------+-----------+------+-----+---------+--------------+-----+------------+-----------------+-------------------+--------------+-------------+-----------------+----------------------+\n",
            "|   0|        0|          3|     0|    1|        0|             4|    0|           0|                0|                  0|             0|            0|                0|                     0|\n",
            "+----+---------+-----------+------+-----+---------+--------------+-----+------------+-----------------+-------------------+--------------+-------------+-----------------+----------------------+\n",
            "\n"
          ]
        }
      ]
    },
    {
      "cell_type": "code",
      "source": [
        "data_imputed.select([f\"{c}_imputed\" for c in num_cols]).show()"
      ],
      "metadata": {
        "colab": {
          "base_uri": "https://localhost:8080/"
        },
        "id": "fkPwkLHh1ejb",
        "outputId": "8c2c8036-1365-440c-d280-a64b1748d78b"
      },
      "execution_count": null,
      "outputs": [
        {
          "output_type": "stream",
          "name": "stdout",
          "text": [
            "+------------+-----------------+-------------------+--------------+-------------+-----------------+----------------------+\n",
            "|area_imputed|perimeter_imputed|compactness_imputed|length_imputed|width_imputed|asymmetry_imputed|lengthOfGroove_imputed|\n",
            "+------------+-----------------+-------------------+--------------+-------------+-----------------+----------------------+\n",
            "|       15.26|            14.84|              0.871|         5.763|        3.312|            2.221|                  5.22|\n",
            "|       14.88|            14.57|             0.8811|         5.554|        3.333|            1.018|                 4.956|\n",
            "|       14.29|            14.09|              0.905|         5.291|        3.337|            2.699|                 4.825|\n",
            "|       13.84|            13.94|             0.8955|         5.324|        3.379|            2.259|                 4.805|\n",
            "|       16.14|            14.99|             0.9034|         5.658|        3.562|            1.355|                 5.175|\n",
            "|       14.38|            14.21|             0.8951|         5.386|        3.312|            2.462|                 4.956|\n",
            "|       14.69|            14.49|             0.8799|         5.563|        3.259|            3.586|                 5.219|\n",
            "|       14.11|             14.1|             0.8911|          5.42|        3.302|              2.7|     5.407529126213591|\n",
            "|       16.63|            15.46|             0.8747|         6.053|        3.465|             2.04|                 5.877|\n",
            "|       16.44|            15.25|              0.888|         5.884|        3.505|            1.969|                 5.533|\n",
            "|       15.26|            14.85|             0.8696|         5.714|        3.242|            4.543|                 5.314|\n",
            "|       14.03|            14.16|             0.8796|         5.438|        3.201|            1.717|                 5.001|\n",
            "|       13.89|            14.02|              0.888|         5.439|        3.199|            3.986|                 4.738|\n",
            "|       13.78|            14.06|             0.8759|         5.479|        3.156|            3.136|                 4.872|\n",
            "|       13.74|            14.05|             0.8744|         5.482|        3.114|            2.932|                 4.825|\n",
            "|       14.59|            14.28|             0.8993|         5.351|        3.333|            4.185|                 4.781|\n",
            "|       13.99|            13.83|             0.9183|         5.119|        3.383|            5.234|                 4.781|\n",
            "|       15.69|            14.75|             0.9058|         5.527|        3.514|            1.599|                 5.046|\n",
            "|        14.7|            14.21|             0.9153|         5.205|        3.466|            1.767|                 4.649|\n",
            "|       12.72|            13.57|             0.8686|         5.226|        3.049|            4.102|                 4.914|\n",
            "+------------+-----------------+-------------------+--------------+-------------+-----------------+----------------------+\n",
            "only showing top 20 rows\n",
            "\n"
          ]
        }
      ]
    },
    {
      "cell_type": "code",
      "source": [
        "data = data_imputed.dropna()"
      ],
      "metadata": {
        "id": "1LFX3byQ33M6"
      },
      "execution_count": null,
      "outputs": []
    },
    {
      "cell_type": "code",
      "source": [
        "# Count missing (null) values for each column\n",
        "null_counts = data.select([sum(col(c).isNull().cast(\"int\")).alias(c) for c in data.columns])\n",
        "\n",
        "# Show the result\n",
        "null_counts.show()"
      ],
      "metadata": {
        "colab": {
          "base_uri": "https://localhost:8080/"
        },
        "id": "vlcIj5QA4Cga",
        "outputId": "6c3d066c-fa88-4067-b397-8966bfc980cd"
      },
      "execution_count": null,
      "outputs": [
        {
          "output_type": "stream",
          "name": "stdout",
          "text": [
            "+----+---------+-----------+------+-----+---------+--------------+-----+------------+-----------------+-------------------+--------------+-------------+-----------------+----------------------+\n",
            "|area|perimeter|compactness|length|width|asymmetry|lengthOfGroove|class|area_imputed|perimeter_imputed|compactness_imputed|length_imputed|width_imputed|asymmetry_imputed|lengthOfGroove_imputed|\n",
            "+----+---------+-----------+------+-----+---------+--------------+-----+------------+-----------------+-------------------+--------------+-------------+-----------------+----------------------+\n",
            "|   0|        0|          0|     0|    0|        0|             0|    0|           0|                0|                  0|             0|            0|                0|                     0|\n",
            "+----+---------+-----------+------+-----+---------+--------------+-----+------------+-----------------+-------------------+--------------+-------------+-----------------+----------------------+\n",
            "\n"
          ]
        }
      ]
    },
    {
      "cell_type": "markdown",
      "source": [
        "Convert feature vectors to a single vector"
      ],
      "metadata": {
        "id": "NaEt114G4Hrf"
      }
    },
    {
      "cell_type": "code",
      "source": [
        "featureColumns = [\"area\", \"perimeter\", \"compactness\", \"length\", \"width\", \"asymmetry\", \"lengthOfGroove\"]\n"
      ],
      "metadata": {
        "id": "8qEtWhYQ4EZg"
      },
      "execution_count": null,
      "outputs": []
    },
    {
      "cell_type": "markdown",
      "source": [
        "Creates a list of columns that contain numerical features (predictors). The columns will be combined into a single feature for model training"
      ],
      "metadata": {
        "id": "cxHQ7b_y4kgz"
      }
    },
    {
      "cell_type": "code",
      "source": [
        "# Cast all feature columns to double type\n",
        "data = data.select(*[col(c).cast(\"double\") for c in featureColumns], \"class\")\n",
        "\n",
        "# Assemble feature values\n",
        "assembler = VectorAssembler(inputCols=featureColumns, outputCol=\"features\")\n",
        "data = assembler.transform(data)\n",
        "data.show(5)\n"
      ],
      "metadata": {
        "colab": {
          "base_uri": "https://localhost:8080/"
        },
        "id": "NdxRQkWA49aR",
        "outputId": "3d584bbe-abe6-4ce0-ba05-2ba2f4776fb9"
      },
      "execution_count": null,
      "outputs": [
        {
          "output_type": "stream",
          "name": "stdout",
          "text": [
            "+-----+---------+-----------+------+-----+---------+--------------+-----+--------------------+\n",
            "| area|perimeter|compactness|length|width|asymmetry|lengthOfGroove|class|            features|\n",
            "+-----+---------+-----------+------+-----+---------+--------------+-----+--------------------+\n",
            "|15.26|    14.84|      0.871| 5.763|3.312|    2.221|          5.22|  1.0|[15.26,14.84,0.87...|\n",
            "|14.88|    14.57|     0.8811| 5.554|3.333|    1.018|         4.956|  1.0|[14.88,14.57,0.88...|\n",
            "|14.29|    14.09|      0.905| 5.291|3.337|    2.699|         4.825|  1.0|[14.29,14.09,0.90...|\n",
            "|13.84|    13.94|     0.8955| 5.324|3.379|    2.259|         4.805|  1.0|[13.84,13.94,0.89...|\n",
            "|16.14|    14.99|     0.9034| 5.658|3.562|    1.355|         5.175|  1.0|[16.14,14.99,0.90...|\n",
            "+-----+---------+-----------+------+-----+---------+--------------+-----+--------------------+\n",
            "only showing top 5 rows\n",
            "\n"
          ]
        }
      ]
    },
    {
      "cell_type": "markdown",
      "source": [
        "#KMeans clustering"
      ],
      "metadata": {
        "id": "ShoCiBeI5Icj"
      }
    },
    {
      "cell_type": "code",
      "source": [
        "kmeans = KMeans(featuresCol=\"features\", k=3, seed=42)\n",
        "kmeansModel = kmeans.fit(data)\n",
        "kmeansPredictions = model.transform(data)\n",
        "kmeansPredictions.select(\"features\", \"prediction\").show(5)"
      ],
      "metadata": {
        "colab": {
          "base_uri": "https://localhost:8080/"
        },
        "id": "RVSsM49E5in0",
        "outputId": "f8287d2e-0bc5-476e-ea1e-d49ff5f31b33"
      },
      "execution_count": null,
      "outputs": [
        {
          "output_type": "stream",
          "name": "stdout",
          "text": [
            "+--------------------+----------+\n",
            "|            features|prediction|\n",
            "+--------------------+----------+\n",
            "|[15.26,14.84,0.87...|         0|\n",
            "|[14.88,14.57,0.88...|         0|\n",
            "|[14.29,14.09,0.90...|         0|\n",
            "|[13.84,13.94,0.89...|         0|\n",
            "|[16.14,14.99,0.90...|         0|\n",
            "+--------------------+----------+\n",
            "only showing top 5 rows\n",
            "\n"
          ]
        }
      ]
    },
    {
      "cell_type": "code",
      "source": [
        "# Show the result\n",
        "centers = kmeansModel.clusterCenters()\n",
        "print(\"K-Means Cluster centers: \")\n",
        "for i, center in enumerate(centers):\n",
        "        print(f\"Cluster {i}: {center}\")"
      ],
      "metadata": {
        "colab": {
          "base_uri": "https://localhost:8080/"
        },
        "id": "EksdbsNw5wwf",
        "outputId": "1e723a26-ca55-42e2-f2bf-6365906f5266"
      },
      "execution_count": null,
      "outputs": [
        {
          "output_type": "stream",
          "name": "stdout",
          "text": [
            "K-Means Cluster centers: \n",
            "Cluster 0: [14.80109375 14.53484375  0.87976406  5.593625    3.29382813  2.69955\n",
            "  5.21395312]\n",
            "Cluster 1: [18.72180328 16.29737705  0.88508689  6.20893443  3.72267213  3.60359016\n",
            "  6.06609836]\n",
            "Cluster 2: [12.00923077 13.29666667  0.85261026  5.23387179  2.88161538  4.62341026\n",
            "  5.08314103]\n"
          ]
        }
      ]
    },
    {
      "cell_type": "markdown",
      "source": [
        "Evaluate the model"
      ],
      "metadata": {
        "id": "6_GehhxI5H2E"
      }
    },
    {
      "cell_type": "code",
      "source": [
        "evaluator = ClusteringEvaluator(predictionCol=\"prediction\", featuresCol=\"features\", metricName=\"silhouette\")\n",
        "kmeansSilhouette = evaluator.evaluate(kmeansPredictions)\n",
        "print(f\"K-Means Silhouette Score: {kmeansSilhouette}\")\n",
        "wssse = kmeansModel.summary.trainingCost\n",
        "print(\"K-means WSSSE:\", wssse)\n"
      ],
      "metadata": {
        "colab": {
          "base_uri": "https://localhost:8080/"
        },
        "id": "2vTBnIwP6Bca",
        "outputId": "7babb4d6-011d-43dc-9bfd-1ba210f9cbac"
      },
      "execution_count": null,
      "outputs": [
        {
          "output_type": "stream",
          "name": "stdout",
          "text": [
            "K-Means Silhouette Score: 0.6605935084855546\n",
            "K-means WSSSE: 566.6419274233597\n"
          ]
        }
      ]
    },
    {
      "cell_type": "markdown",
      "source": [
        "#Gaussian Mixture Model"
      ],
      "metadata": {
        "id": "5NFkDZrF6LZZ"
      }
    },
    {
      "cell_type": "markdown",
      "source": [
        "Train and make predictions"
      ],
      "metadata": {
        "id": "i4_QbViG6T7C"
      }
    },
    {
      "cell_type": "code",
      "source": [
        "gmm = GaussianMixture(featuresCol=\"features\", k=3, seed=42)\n",
        "gmmModel = gmm.fit(data)\n",
        "gmmPredictions = gmmModel.transform(data)\n",
        "gmmPredictions.select(\"features\", \"prediction\").show(5)\n"
      ],
      "metadata": {
        "colab": {
          "base_uri": "https://localhost:8080/"
        },
        "id": "FROMpFc06QBf",
        "outputId": "520c70da-7be3-4b7f-b7de-b53d247d38f7"
      },
      "execution_count": null,
      "outputs": [
        {
          "output_type": "stream",
          "name": "stdout",
          "text": [
            "+--------------------+----------+\n",
            "|            features|prediction|\n",
            "+--------------------+----------+\n",
            "|[15.26,14.84,0.87...|         1|\n",
            "|[14.88,14.57,0.88...|         2|\n",
            "|[14.29,14.09,0.90...|         0|\n",
            "|[13.84,13.94,0.89...|         2|\n",
            "|[16.14,14.99,0.90...|         1|\n",
            "+--------------------+----------+\n",
            "only showing top 5 rows\n",
            "\n"
          ]
        }
      ]
    },
    {
      "cell_type": "markdown",
      "source": [
        "Evaluate the model"
      ],
      "metadata": {
        "id": "_sdCf7oZ6buW"
      }
    },
    {
      "cell_type": "code",
      "source": [
        "gmmSilhoutte = evaluator.evaluate(gmmPredictions)\n",
        "print(f\"Gaussian Mixture Silhouette Score: {gmmSilhoutte}\")\n",
        "logLikelihood = gmmModel.summary.logLikelihood\n",
        "print(\"GMM Log-Likelihood:\", logLikelihood)"
      ],
      "metadata": {
        "colab": {
          "base_uri": "https://localhost:8080/"
        },
        "id": "jBupNzVc6bIr",
        "outputId": "9b5e5d30-e3e3-4174-810f-3aa20a8ce2ed"
      },
      "execution_count": null,
      "outputs": [
        {
          "output_type": "stream",
          "name": "stdout",
          "text": [
            "Gaussian Mixture Silhouette Score: 0.39958416567412686\n",
            "GMM Log-Likelihood: 1118.8720899857678\n"
          ]
        }
      ]
    },
    {
      "cell_type": "code",
      "source": [
        "# Show the result\n",
        "gmmCenters = gmmModel.gaussiansDF.select(\"mean\").collect()\n",
        "print(\"GMM Cluster Centers: \")\n",
        "for i, row in enumerate(gmmCenters):\n",
        "\tprint(f\"Cluster {i}: {row['mean']}\")\n"
      ],
      "metadata": {
        "colab": {
          "base_uri": "https://localhost:8080/"
        },
        "id": "XBS1ho0i6jvp",
        "outputId": "cf62fd56-2835-40c0-c8ea-d778e7d9c802"
      },
      "execution_count": null,
      "outputs": [
        {
          "output_type": "stream",
          "name": "stdout",
          "text": [
            "GMM Cluster Centers: \n",
            "Cluster 0: [12.447477461309544,13.479885581319198,0.8589003836006669,5.2849433527196625,2.946917572997567,4.075655553129231,5.066737465603023]\n",
            "Cluster 1: [18.026055695271722,15.981473995043403,0.8853259377177883,6.086211300699829,3.655292003207205,3.4299041302232807,5.89559255711373]\n",
            "Cluster 2: [14.415081415759904,14.410207400117178,0.8712021435584388,5.584365833775547,3.2369343450788977,3.2178869087705873,5.262597516583563]\n"
          ]
        }
      ]
    },
    {
      "cell_type": "code",
      "source": [
        "import matplotlib.pyplot as plt\n",
        "from pyspark.ml.feature import PCA\n",
        "\n",
        "# Apply PCA to reduce to 2 dimensions\n",
        "pca = PCA(k=2, inputCol=\"features\", outputCol=\"pca_features\")\n",
        "pca_model = pca.fit(kmeansPredictions)\n",
        "pca_result = pca_model.transform(kmeansPredictions)\n",
        "\n",
        "# Extract PCA features for plotting\n",
        "pca_df = pca_result.select(\"pca_features\", \"prediction\")\n",
        "pca_df = pca_df.toPandas()\n",
        "pca_df[\"x\"] = pca_df[\"pca_features\"].apply(lambda x: x[0])\n",
        "pca_df[\"y\"] = pca_df[\"pca_features\"].apply(lambda x: x[1])\n",
        "\n",
        "# Plot the results\n",
        "plt.figure(figsize=(10, 6))\n",
        "plt.scatter(pca_df[\"x\"], pca_df[\"y\"], c=pca_df[\"prediction\"], cmap=\"viridis\", s=50, alpha=0.6)\n",
        "plt.title(\"K-Means Clustering (PCA Reduced to 2D)\")\n",
        "plt.xlabel(\"PCA 1\")\n",
        "plt.ylabel(\"PCA 2\")\n",
        "plt.colorbar(label=\"Cluster\")\n",
        "plt.show()\n"
      ],
      "metadata": {
        "colab": {
          "base_uri": "https://localhost:8080/",
          "height": 564
        },
        "id": "tcGfP-8L7EqY",
        "outputId": "8e36e5ca-e1ee-4125-853c-bea6fc590462"
      },
      "execution_count": null,
      "outputs": [
        {
          "output_type": "display_data",
          "data": {
            "text/plain": [
              "<Figure size 1000x600 with 2 Axes>"
            ],
            "image/png": "[encoded data removed]"
          },
          "metadata": {}
        }
      ]
    },
    {
      "cell_type": "code",
      "source": [
        "spark.stop()"
      ],
      "metadata": {
        "id": "zaGsHn7j6zhY"
      },
      "execution_count": null,
      "outputs": []
    }
  ]
}