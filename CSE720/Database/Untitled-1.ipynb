{
 "cells": [
  {
   "cell_type": "code",
   "execution_count": 1,
   "metadata": {},
   "outputs": [],
   "source": [
    "import matplotlib.pyplot as plt"
   ]
  },
  {
   "cell_type": "code",
   "execution_count": 2,
   "metadata": {},
   "outputs": [],
   "source": [
    "chunk1 = \"\"\"The Major Research Instrumentation Program (MRI) serves to increase access to shared scientific and engineering instruments for research and research training in our nation's institutions of higher education, not-for-profit museums, science centers and scientific/engineering research organizations. The program provides organizations with opportunities to acquire major instrumentation that supports the research and research training goals of the organization and that may be used by other researchers regionally or nationally.\"\"\""
   ]
  },
  {
   "cell_type": "code",
   "execution_count": 3,
   "metadata": {},
   "outputs": [],
   "source": [
    "chunk2 = \"\"\"Each MRI proposal may request support for the acquisition (Track 1) or development (Track 2) of a single research instrument for shared inter- and/or intra-organizational use. Development efforts that leverage the strengths of private sector partners to build instrument development capacity at MRI submission-eligible organizations are encouraged.\"\"\""
   ]
  },
  {
   "cell_type": "code",
   "execution_count": 4,
   "metadata": {},
   "outputs": [],
   "source": [
    "chunk3 = \"\"\"The MRI program assists with the acquisition or development of a shared research instrument that is, in general, too costly and/or not appropriate for support through other NSF programs. The program does not fund research projects or provide ongoing support for operating or maintaining facilities or centers. The instrument acquired or developed is expected to be operational for regular research use by the end of the award period. For the purposes of the MRI program, a proposal must be for either acquisition (Track 1) or development (Track 2) of a single, wellintegrated instrument. The MRI program does not support the acquisition or development of a suite of instruments to outfit research laboratories or facilities, or that can be used to conduct independent research activities simultaneously.\"\"\""
   ]
  },
  {
   "cell_type": "code",
   "execution_count": 5,
   "metadata": {},
   "outputs": [],
   "source": [
    "chunk4 = \"\"\"Instrument acquisition or development proposals that request funds from NSF in the range $100,000-$4 million may be accepted from any MRI-eligible organization. Proposals that request funds from NSF less than $100,000 may also be accepted from any MRI-eligible organization for the disciplines of mathematics or social, behavioral and economic sciences and from non-Ph.D.-granting institutions of higher education for all NSF-supported disciplines.\"\"\""
   ]
  },
  {
   "cell_type": "code",
   "execution_count": 6,
   "metadata": {},
   "outputs": [],
   "source": [
    "chunks = [chunk1, chunk2, chunk3, chunk4]"
   ]
  },
  {
   "cell_type": "code",
   "execution_count": 7,
   "metadata": {},
   "outputs": [],
   "source": [
    "target_words = [\"research\", \"proposal\", \"instrumentation\"]"
   ]
  },
  {
   "cell_type": "code",
   "execution_count": 10,
   "metadata": {},
   "outputs": [
    {
     "name": "stdout",
     "output_type": "stream",
     "text": [
      "Chunk 1 - {'research': 6, 'proposal': 0, 'instrumentation': 2}\n",
      "Chunk 2 - {'research': 1, 'proposal': 1, 'instrumentation': 0}\n",
      "Chunk 3 - {'research': 5, 'proposal': 1, 'instrumentation': 0}\n",
      "Chunk 4 - {'research': 0, 'proposal': 0, 'instrumentation': 0}\n"
     ]
    }
   ],
   "source": [
    "mapped_data = []\n",
    "for i, chunk in enumerate(chunks, 1):\n",
    "    words_counts = {word: chunk.lower().split().count(word) for word in target_words}\n",
    "    mapped_data.append(words_counts)\n",
    "    print(f\"Chunk {i} - {words_counts}\")"
   ]
  },
  {
   "cell_type": "code",
   "execution_count": 13,
   "metadata": {},
   "outputs": [
    {
     "name": "stdout",
     "output_type": "stream",
     "text": [
      "\n",
      "Shuffled Data: {'research': [6, 1, 5, 0], 'proposal': [0, 1, 1, 0], 'instrumentation': [2, 0, 0, 0]}\n"
     ]
    }
   ],
   "source": [
    "shuffled_data = {word: [] for word in target_words}\n",
    "for word in target_words:\n",
    "    for chunk_data in mapped_data:\n",
    "        shuffled_data[word].append(chunk_data[word])\n",
    "\n",
    "print(\"\\nShuffled Data:\", shuffled_data)"
   ]
  },
  {
   "cell_type": "code",
   "execution_count": 14,
   "metadata": {},
   "outputs": [
    {
     "name": "stdout",
     "output_type": "stream",
     "text": [
      "\n",
      "Reduced Data: {'research': 12, 'proposal': 2, 'instrumentation': 2}\n"
     ]
    }
   ],
   "source": [
    "reduced_data = {word: sum(shuffled_data[word]) for word in target_words}\n",
    "print(\"\\nReduced Data:\", reduced_data)"
   ]
  }
 ],
 "metadata": {
  "kernelspec": {
   "display_name": "Python 3",
   "language": "python",
   "name": "python3"
  },
  "language_info": {
   "codemirror_mode": {
    "name": "ipython",
    "version": 3
   },
   "file_extension": ".py",
   "mimetype": "text/x-python",
   "name": "python",
   "nbconvert_exporter": "python",
   "pygments_lexer": "ipython3",
   "version": "3.12.6"
  }
 },
 "nbformat": 4,
 "nbformat_minor": 2
}
