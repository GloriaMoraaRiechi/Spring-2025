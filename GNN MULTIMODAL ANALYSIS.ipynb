{
 "cells": [
  {
   "cell_type": "markdown",
   "id": "40b39d62",
   "metadata": {},
   "source": [
    "# Kidney CT Scan Dataset: Multimodal Patch-Based GNN for Normal, Cyst, Tumor, and Stone Classification\n",
    "\n",
    "## Project Description\n",
    "\n",
    "This project leverages a curated dataset of kidney CT scans collected from multiple diagnostic centers in Dhaka, Bangladesh. The images are categorized into four diagnostic classes:\n",
    "\n",
    "- **Normal**\n",
    "- **Cyst**\n",
    "- **Tumor**\n",
    "- **Stone**\n",
    "\n",
    "The primary objective is to implement a **Graph Neural Network (GNN)** model that integrates both **visual features** from the images and **semantic features** derived from medical text to improve classification of kidney conditions.\n",
    "\n",
    "### Multimodal Design\n",
    "\n",
    "Each image is divided into smaller patches (e.g., a 4x4 grid). These patches are:\n",
    "- Processed through a **Convolutional Neural Network (CNN)**, specifically a pretrained **ResNet18**, to extract deep features from each patch.\n",
    "- Treated as individual **nodes** in a graph, capturing spatial and text-interconnected relationships.\n",
    "\n",
    "Additionally, each image is paired with a corresponding **domain-informed text description**, such as:\n",
    "> “Contrast-enhanced CT shows a solid irregular renal mass indicating a tumor.”\n",
    "\n",
    "These text descriptions are embedded using language models like **BioBERT** or **CLIP**, and included as **text nodes** in the same graph structure.\n",
    "\n",
    "The resulting graph per image contains:\n",
    "- **Patch nodes** (image regions)\n",
    "- **One text node**\n",
    "- **Edges** representing spatial proximity and semantic relationships\n",
    "\n",
    "A GNN model (e.g., **Graph Attention Network (GAT)** or **GraphSAGE**) processes this structure to learn complex interactions between image regions and associated diagnostic language, followed by a **global pooling layer** and **multi-layer perceptron (MLP)** for final classification.\n",
    "\n",
    "\n",
    "## Class Descriptions\n",
    "\n",
    "- **Normal**: CT scans displaying healthy kidney tissues without visible abnormalities. These serve as a reference baseline.\n",
    "\n",
    "- **Cyst**: CT images revealing fluid-filled sacs, typically benign, but clinically relevant due to potential complications such as rupture or infection.\n",
    "\n",
    "- **Tumor**: Scans showing irregular masses that may indicate malignancies like renal cell carcinoma. Tumors are characterized by their shape, density, and contrast uptake.\n",
    "\n",
    "- **Stone**: Highly radiodense structures representing calcified mineral deposits in the renal system. These may cause pain, obstructions, or urinary tract infections.\n",
    "\n",
    "\n",
    "## Significance\n",
    "\n",
    "This multimodal GNN approach demonstrates how **spatial, semantic, and visual information** can be combined to advance automated kidney disease diagnosis. It has the potential to:\n",
    "- Improve detection accuracy\n",
    "- Assist radiologists with clinical decision-making\n",
    "- Serve as a foundation for computer-aided detection (CAD) systems in medical imaging\n"
   ]
  },
  {
   "cell_type": "markdown",
   "id": "2d859a43",
   "metadata": {},
   "source": [
    "## 1. Dataset Preparation"
   ]
  },
  {
   "cell_type": "code",
   "execution_count": null,
   "id": "b5fca8e1",
   "metadata": {},
   "outputs": [
    {
     "name": "stdout",
     "output_type": "stream",
     "text": [
      "✅ Dataset loaded.\n",
      "   Unnamed: 0       image_id  \\\n",
      "0           0  Tumor- (1044)   \n",
      "1           1    Tumor- (83)   \n",
      "2           2   Tumor- (580)   \n",
      "3           3  Tumor- (1701)   \n",
      "4           4  Tumor- (1220)   \n",
      "\n",
      "                                                path   diag  target  Class  \\\n",
      "0  C:\\Users\\glori\\Desktop\\Fundamentals of Big Dat...  Tumor       3  Tumor   \n",
      "1  C:\\Users\\glori\\Desktop\\Fundamentals of Big Dat...  Tumor       3  Tumor   \n",
      "2  C:\\Users\\glori\\Desktop\\Fundamentals of Big Dat...  Tumor       3  Tumor   \n",
      "3  C:\\Users\\glori\\Desktop\\Fundamentals of Big Dat...  Tumor       3  Tumor   \n",
      "4  C:\\Users\\glori\\Desktop\\Fundamentals of Big Dat...  Tumor       3  Tumor   \n",
      "\n",
      "                                    text_description  \n",
      "0  Contrast-enhanced CT shows a solid irregular r...  \n",
      "1  Contrast-enhanced CT shows a solid irregular r...  \n",
      "2  Contrast-enhanced CT shows a solid irregular r...  \n",
      "3  Contrast-enhanced CT shows a solid irregular r...  \n",
      "4  Contrast-enhanced CT shows a solid irregular r...  \n"
     ]
    }
   ],
   "source": [
    "import pandas as pd\n",
    "import os\n",
    "\n",
    "csv_path = r\"C:\\Users\\glori\\Desktop\\Fundamentals of Big Data Analytics\\GNN Multimodal analysis\\dataset_with_text.csv\"\n",
    "\n",
    "df = pd.read_csv(csv_path)\n",
    "print(\"✅ Dataset loaded.\")\n",
    "print(df.head())"
   ]
  },
  {
   "cell_type": "code",
   "execution_count": null,
   "id": "0d12bf85",
   "metadata": {},
   "outputs": [
    {
     "name": "stdout",
     "output_type": "stream",
     "text": [
      "✅ All image paths are valid.\n"
     ]
    }
   ],
   "source": [
    "df['path_exists'] = df['path'].apply(lambda x: os.path.exists(x))\n",
    "\n",
    "missing_count = (~df['path_exists']).sum()\n",
    "if missing_count > 0:\n",
    "    print(f\"{missing_count} images have broken paths.\")\n",
    "    print(df[df['path_exists'] == False][['image_id', 'path']].head())\n",
    "else:\n",
    "    print(\"✅ All image paths are valid.\")"
   ]
  },
  {
   "cell_type": "markdown",
   "id": "bc6583b4",
   "metadata": {},
   "source": [
    "## Patch-Based CNN Feature Extraction (ResNet18)"
   ]
  },
  {
   "cell_type": "markdown",
   "id": "a94971cf",
   "metadata": {},
   "source": [
    "- load each image\n",
    "\n",
    "- Divide the images into a 4x4 grid (16 patches)\n",
    "\n",
    "- Extract a 512-dimensional feature vecor from each patch using ResNet18\n",
    "\n",
    "- Save the result in a Numpy file for use in GNN graph creation"
   ]
  },
  {
   "cell_type": "code",
   "execution_count": 5,
   "id": "0b96eefb",
   "metadata": {},
   "outputs": [
    {
     "name": "stdout",
     "output_type": "stream",
     "text": [
      "Requirement already satisfied: torch in c:\\users\\glori\\anaconda3\\lib\\site-packages (2.6.0)\n",
      "Requirement already satisfied: torchvision in c:\\users\\glori\\anaconda3\\lib\\site-packages (0.21.0)\n",
      "Requirement already satisfied: pillow in c:\\users\\glori\\anaconda3\\lib\\site-packages (10.3.0)\n",
      "Requirement already satisfied: pandas in c:\\users\\glori\\anaconda3\\lib\\site-packages (2.2.2)\n",
      "Requirement already satisfied: numpy in c:\\users\\glori\\anaconda3\\lib\\site-packages (1.26.4)\n",
      "Requirement already satisfied: tqdm in c:\\users\\glori\\anaconda3\\lib\\site-packages (4.66.4)\n",
      "Requirement already satisfied: filelock in c:\\users\\glori\\anaconda3\\lib\\site-packages (from torch) (3.13.1)\n",
      "Requirement already satisfied: typing-extensions>=4.10.0 in c:\\users\\glori\\anaconda3\\lib\\site-packages (from torch) (4.11.0)\n",
      "Requirement already satisfied: networkx in c:\\users\\glori\\anaconda3\\lib\\site-packages (from torch) (3.2.1)\n",
      "Requirement already satisfied: jinja2 in c:\\users\\glori\\anaconda3\\lib\\site-packages (from torch) (3.1.4)\n",
      "Requirement already satisfied: fsspec in c:\\users\\glori\\anaconda3\\lib\\site-packages (from torch) (2024.3.1)\n",
      "Requirement already satisfied: setuptools in c:\\users\\glori\\anaconda3\\lib\\site-packages (from torch) (69.5.1)\n",
      "Requirement already satisfied: sympy==1.13.1 in c:\\users\\glori\\anaconda3\\lib\\site-packages (from torch) (1.13.1)\n",
      "Requirement already satisfied: mpmath<1.4,>=1.1.0 in c:\\users\\glori\\anaconda3\\lib\\site-packages (from sympy==1.13.1->torch) (1.3.0)\n",
      "Requirement already satisfied: python-dateutil>=2.8.2 in c:\\users\\glori\\anaconda3\\lib\\site-packages (from pandas) (2.9.0.post0)\n",
      "Requirement already satisfied: pytz>=2020.1 in c:\\users\\glori\\anaconda3\\lib\\site-packages (from pandas) (2024.1)\n",
      "Requirement already satisfied: tzdata>=2022.7 in c:\\users\\glori\\anaconda3\\lib\\site-packages (from pandas) (2023.3)\n",
      "Requirement already satisfied: colorama in c:\\users\\glori\\appdata\\roaming\\python\\python312\\site-packages (from tqdm) (0.4.6)\n",
      "Requirement already satisfied: six>=1.5 in c:\\users\\glori\\anaconda3\\lib\\site-packages (from python-dateutil>=2.8.2->pandas) (1.16.0)\n",
      "Requirement already satisfied: MarkupSafe>=2.0 in c:\\users\\glori\\anaconda3\\lib\\site-packages (from jinja2->torch) (2.1.3)\n",
      "Note: you may need to restart the kernel to use updated packages.\n"
     ]
    }
   ],
   "source": [
    "pip install torch torchvision pillow pandas numpy tqdm"
   ]
  },
  {
   "cell_type": "code",
   "execution_count": 6,
   "id": "58e4273f",
   "metadata": {},
   "outputs": [
    {
     "name": "stderr",
     "output_type": "stream",
     "text": [
      "c:\\Users\\glori\\anaconda3\\Lib\\site-packages\\torch\\utils\\_pytree.py:185: FutureWarning: optree is installed but the version is too old to support PyTorch Dynamo in C++ pytree. C++ pytree support is disabled. Please consider upgrading optree using `python3 -m pip install --upgrade 'optree>=0.13.0'`.\n",
      "  warnings.warn(\n"
     ]
    }
   ],
   "source": [
    "import torch\n",
    "import torchvision.models as models\n",
    "import torchvision.transforms as transforms\n",
    "from PIL import Image\n",
    "import pandas as pd\n",
    "import numpy as np\n",
    "from tqdm import tqdm"
   ]
  },
  {
   "cell_type": "markdown",
   "id": "1ccdd9d0",
   "metadata": {},
   "source": [
    "### Load ResNet18 pretrained on ImageNet, remove final FC layer"
   ]
  },
  {
   "cell_type": "code",
   "execution_count": 7,
   "id": "1a050770",
   "metadata": {},
   "outputs": [
    {
     "name": "stderr",
     "output_type": "stream",
     "text": [
      "c:\\Users\\glori\\anaconda3\\Lib\\site-packages\\torchvision\\models\\_utils.py:208: UserWarning: The parameter 'pretrained' is deprecated since 0.13 and may be removed in the future, please use 'weights' instead.\n",
      "  warnings.warn(\n",
      "c:\\Users\\glori\\anaconda3\\Lib\\site-packages\\torchvision\\models\\_utils.py:223: UserWarning: Arguments other than a weight enum or `None` for 'weights' are deprecated since 0.13 and may be removed in the future. The current behavior is equivalent to passing `weights=ResNet18_Weights.IMAGENET1K_V1`. You can also use `weights=ResNet18_Weights.DEFAULT` to get the most up-to-date weights.\n",
      "  warnings.warn(msg)\n"
     ]
    },
    {
     "data": {
      "text/plain": [
       "Sequential(\n",
       "  (0): Conv2d(3, 64, kernel_size=(7, 7), stride=(2, 2), padding=(3, 3), bias=False)\n",
       "  (1): BatchNorm2d(64, eps=1e-05, momentum=0.1, affine=True, track_running_stats=True)\n",
       "  (2): ReLU(inplace=True)\n",
       "  (3): MaxPool2d(kernel_size=3, stride=2, padding=1, dilation=1, ceil_mode=False)\n",
       "  (4): Sequential(\n",
       "    (0): BasicBlock(\n",
       "      (conv1): Conv2d(64, 64, kernel_size=(3, 3), stride=(1, 1), padding=(1, 1), bias=False)\n",
       "      (bn1): BatchNorm2d(64, eps=1e-05, momentum=0.1, affine=True, track_running_stats=True)\n",
       "      (relu): ReLU(inplace=True)\n",
       "      (conv2): Conv2d(64, 64, kernel_size=(3, 3), stride=(1, 1), padding=(1, 1), bias=False)\n",
       "      (bn2): BatchNorm2d(64, eps=1e-05, momentum=0.1, affine=True, track_running_stats=True)\n",
       "    )\n",
       "    (1): BasicBlock(\n",
       "      (conv1): Conv2d(64, 64, kernel_size=(3, 3), stride=(1, 1), padding=(1, 1), bias=False)\n",
       "      (bn1): BatchNorm2d(64, eps=1e-05, momentum=0.1, affine=True, track_running_stats=True)\n",
       "      (relu): ReLU(inplace=True)\n",
       "      (conv2): Conv2d(64, 64, kernel_size=(3, 3), stride=(1, 1), padding=(1, 1), bias=False)\n",
       "      (bn2): BatchNorm2d(64, eps=1e-05, momentum=0.1, affine=True, track_running_stats=True)\n",
       "    )\n",
       "  )\n",
       "  (5): Sequential(\n",
       "    (0): BasicBlock(\n",
       "      (conv1): Conv2d(64, 128, kernel_size=(3, 3), stride=(2, 2), padding=(1, 1), bias=False)\n",
       "      (bn1): BatchNorm2d(128, eps=1e-05, momentum=0.1, affine=True, track_running_stats=True)\n",
       "      (relu): ReLU(inplace=True)\n",
       "      (conv2): Conv2d(128, 128, kernel_size=(3, 3), stride=(1, 1), padding=(1, 1), bias=False)\n",
       "      (bn2): BatchNorm2d(128, eps=1e-05, momentum=0.1, affine=True, track_running_stats=True)\n",
       "      (downsample): Sequential(\n",
       "        (0): Conv2d(64, 128, kernel_size=(1, 1), stride=(2, 2), bias=False)\n",
       "        (1): BatchNorm2d(128, eps=1e-05, momentum=0.1, affine=True, track_running_stats=True)\n",
       "      )\n",
       "    )\n",
       "    (1): BasicBlock(\n",
       "      (conv1): Conv2d(128, 128, kernel_size=(3, 3), stride=(1, 1), padding=(1, 1), bias=False)\n",
       "      (bn1): BatchNorm2d(128, eps=1e-05, momentum=0.1, affine=True, track_running_stats=True)\n",
       "      (relu): ReLU(inplace=True)\n",
       "      (conv2): Conv2d(128, 128, kernel_size=(3, 3), stride=(1, 1), padding=(1, 1), bias=False)\n",
       "      (bn2): BatchNorm2d(128, eps=1e-05, momentum=0.1, affine=True, track_running_stats=True)\n",
       "    )\n",
       "  )\n",
       "  (6): Sequential(\n",
       "    (0): BasicBlock(\n",
       "      (conv1): Conv2d(128, 256, kernel_size=(3, 3), stride=(2, 2), padding=(1, 1), bias=False)\n",
       "      (bn1): BatchNorm2d(256, eps=1e-05, momentum=0.1, affine=True, track_running_stats=True)\n",
       "      (relu): ReLU(inplace=True)\n",
       "      (conv2): Conv2d(256, 256, kernel_size=(3, 3), stride=(1, 1), padding=(1, 1), bias=False)\n",
       "      (bn2): BatchNorm2d(256, eps=1e-05, momentum=0.1, affine=True, track_running_stats=True)\n",
       "      (downsample): Sequential(\n",
       "        (0): Conv2d(128, 256, kernel_size=(1, 1), stride=(2, 2), bias=False)\n",
       "        (1): BatchNorm2d(256, eps=1e-05, momentum=0.1, affine=True, track_running_stats=True)\n",
       "      )\n",
       "    )\n",
       "    (1): BasicBlock(\n",
       "      (conv1): Conv2d(256, 256, kernel_size=(3, 3), stride=(1, 1), padding=(1, 1), bias=False)\n",
       "      (bn1): BatchNorm2d(256, eps=1e-05, momentum=0.1, affine=True, track_running_stats=True)\n",
       "      (relu): ReLU(inplace=True)\n",
       "      (conv2): Conv2d(256, 256, kernel_size=(3, 3), stride=(1, 1), padding=(1, 1), bias=False)\n",
       "      (bn2): BatchNorm2d(256, eps=1e-05, momentum=0.1, affine=True, track_running_stats=True)\n",
       "    )\n",
       "  )\n",
       "  (7): Sequential(\n",
       "    (0): BasicBlock(\n",
       "      (conv1): Conv2d(256, 512, kernel_size=(3, 3), stride=(2, 2), padding=(1, 1), bias=False)\n",
       "      (bn1): BatchNorm2d(512, eps=1e-05, momentum=0.1, affine=True, track_running_stats=True)\n",
       "      (relu): ReLU(inplace=True)\n",
       "      (conv2): Conv2d(512, 512, kernel_size=(3, 3), stride=(1, 1), padding=(1, 1), bias=False)\n",
       "      (bn2): BatchNorm2d(512, eps=1e-05, momentum=0.1, affine=True, track_running_stats=True)\n",
       "      (downsample): Sequential(\n",
       "        (0): Conv2d(256, 512, kernel_size=(1, 1), stride=(2, 2), bias=False)\n",
       "        (1): BatchNorm2d(512, eps=1e-05, momentum=0.1, affine=True, track_running_stats=True)\n",
       "      )\n",
       "    )\n",
       "    (1): BasicBlock(\n",
       "      (conv1): Conv2d(512, 512, kernel_size=(3, 3), stride=(1, 1), padding=(1, 1), bias=False)\n",
       "      (bn1): BatchNorm2d(512, eps=1e-05, momentum=0.1, affine=True, track_running_stats=True)\n",
       "      (relu): ReLU(inplace=True)\n",
       "      (conv2): Conv2d(512, 512, kernel_size=(3, 3), stride=(1, 1), padding=(1, 1), bias=False)\n",
       "      (bn2): BatchNorm2d(512, eps=1e-05, momentum=0.1, affine=True, track_running_stats=True)\n",
       "    )\n",
       "  )\n",
       "  (8): AdaptiveAvgPool2d(output_size=(1, 1))\n",
       ")"
      ]
     },
     "execution_count": 7,
     "metadata": {},
     "output_type": "execute_result"
    }
   ],
   "source": [
    "resnet = models.resnet18(pretrained=True)\n",
    "resnet = torch.nn.Sequential(*list(resnet.children())[:-1])  # Remove classification head\n",
    "resnet.eval()"
   ]
  },
  {
   "cell_type": "markdown",
   "id": "0004a777",
   "metadata": {},
   "source": [
    "## Image Processing"
   ]
  },
  {
   "cell_type": "code",
   "execution_count": 8,
   "id": "98644fae",
   "metadata": {},
   "outputs": [],
   "source": [
    "transform = transforms.Compose([\n",
    "    transforms.Resize((224, 224)),  # Resize whole image first\n",
    "    transforms.ToTensor()\n",
    "])"
   ]
  },
  {
   "cell_type": "markdown",
   "id": "f9d496c5",
   "metadata": {},
   "source": [
    "### Patch extraction"
   ]
  },
  {
   "cell_type": "code",
   "execution_count": null,
   "id": "4d89459f",
   "metadata": {},
   "outputs": [
    {
     "name": "stdout",
     "output_type": "stream",
     "text": [
      "📦 Extracting patch features using ResNet18...\n"
     ]
    },
    {
     "name": "stderr",
     "output_type": "stream",
     "text": [
      "100%|██████████| 12446/12446 [59:24<00:00,  3.49it/s] \n"
     ]
    },
    {
     "name": "stdout",
     "output_type": "stream",
     "text": [
      "✅ Feature extraction complete. Saved to 'patch_features.npy'.\n"
     ]
    }
   ],
   "source": [
    "grid_size = 4  # 4x4 = 16 patches\n",
    "patch_features = []\n",
    "\n",
    "print(\"📦 Extracting patch features using ResNet18...\")\n",
    "\n",
    "for _, row in tqdm(df.iterrows(), total=len(df)):\n",
    "    try:\n",
    "        image_path = row[\"path\"]\n",
    "        img = Image.open(image_path).convert(\"RGB\")\n",
    "        img = transform(img)\n",
    "\n",
    "        # Get patch size\n",
    "        C, H, W = img.shape\n",
    "        patch_H = H // grid_size\n",
    "        patch_W = W // grid_size\n",
    "\n",
    "        patches = []\n",
    "        for i in range(grid_size):\n",
    "            for j in range(grid_size):\n",
    "                top = i * patch_H\n",
    "                left = j * patch_W\n",
    "                patch = img[:, top:top + patch_H, left:left + patch_W]\n",
    "                patch = patch.unsqueeze(0)  # Add batch dim\n",
    "\n",
    "                with torch.no_grad():\n",
    "                    feature = resnet(patch).squeeze().numpy()  # Shape: (512,)\n",
    "                patches.append(feature)\n",
    "\n",
    "        patch_features.append(patches)\n",
    "\n",
    "    except Exception as e:\n",
    "        print(f\"Error processing {row['image_id']}: {e}\")\n",
    "        patch_features.append([np.zeros(512)] * (grid_size * grid_size))\n",
    "\n",
    "# Convert to NumPy array and save\n",
    "patch_features = np.array(patch_features)  # Shape: [N, 16, 512]\n",
    "np.save(\"patch_features.npy\", patch_features)\n",
    "print(\"✅ Feature extraction complete. Saved to 'patch_features.npy'.\")"
   ]
  },
  {
   "cell_type": "markdown",
   "id": "4a25530e",
   "metadata": {},
   "source": [
    "OUTPUT\n",
    "\n",
    "- 16 nodes per image (1 node per patch)\n",
    "\n",
    "- Feature vectors for each node\n",
    "\n",
    "- A foundation to build a graph structure (connect patches, add a text node)\n",
    "\n"
   ]
  },
  {
   "cell_type": "markdown",
   "id": "0e06c545",
   "metadata": {},
   "source": [
    "## Text Embedding"
   ]
  },
  {
   "cell_type": "markdown",
   "id": "85d7bfe5",
   "metadata": {},
   "source": [
    "### Embed text_description"
   ]
  },
  {
   "cell_type": "markdown",
   "id": "c1820841",
   "metadata": {},
   "source": [
    "#### Spark Text Preprocessing (Lowercase, Clean Punctuation)"
   ]
  },
  {
   "cell_type": "code",
   "execution_count": null,
   "id": "30200b18",
   "metadata": {},
   "outputs": [],
   "source": [
    "# PySpark code to clean text_description column\n",
    "\n",
    "from pyspark.sql import SparkSession\n",
    "from pyspark.sql.functions import col, lower, regexp_replace\n",
    "\n",
    "# Initialize Spark session\n",
    "spark = SparkSession.builder.appName(\"TextClean\").getOrCreate()\n",
    "\n",
    "# Load CSV with original text_description\n",
    "csv_path = r\"C:\\Users\\glori\\Desktop\\Fundamentals of Big Data Analytics\\GNN Multimodal analysis\\dataset_with_text.csv\"\n",
    "df = spark.read.csv(csv_path, header=True)\n",
    "\n",
    "# Clean the text: lowercase + remove non-word characters\n",
    "df_cleaned = df.withColumn(\n",
    "    \"text_description\",\n",
    "    regexp_replace(lower(col(\"text_description\")), r\"[^\\w\\s]\", \"\")\n",
    ")\n",
    "\n",
    "# Show sample\n",
    "df_cleaned.select(\"text_description\").show(5, truncate=False)\n",
    "\n",
    "# Save cleaned version back to CSV\n",
    "cleaned_csv_path = r\"C:\\Users\\glori\\Desktop\\Fundamentals of Big Data Analytics\\GNN Multimodal analysis\\cleaned_dataset.csv\"\n",
    "df_cleaned.toPandas().to_csv(cleaned_csv_path, index=False)\n"
   ]
  },
  {
   "cell_type": "markdown",
   "id": "dd0bd9bc",
   "metadata": {},
   "source": [
    "#### Text Embedding with sentence-transformers"
   ]
  },
  {
   "cell_type": "code",
   "execution_count": null,
   "id": "191d8d52",
   "metadata": {},
   "outputs": [],
   "source": [
    "# Python code to compute text embeddings\n",
    "from sentence_transformers import SentenceTransformer\n",
    "import pandas as pd\n",
    "import numpy as np\n",
    "from tqdm import tqdm\n",
    "\n",
    "# Load cleaned dataset\n",
    "csv_path = r\"C:\\Users\\glori\\Desktop\\Fundamentals of Big Data Analytics\\GNN Multimodal analysis\\cleaned_dataset.csv\"\n",
    "df = pd.read_csv(csv_path)\n",
    "\n",
    "# Load MiniLM model (fast + good for semantic embeddings)\n",
    "model = SentenceTransformer(\"sentence-transformers/all-MiniLM-L6-v2\")\n",
    "\n",
    "# Embed descriptions\n",
    "descriptions = df[\"text_description\"].fillna(\"No description\").tolist()\n",
    "print(\"🔤 Embedding text_descriptions...\")\n",
    "embeddings = model.encode(descriptions, show_progress_bar=True)\n",
    "\n",
    "# Save embeddings to .npy\n",
    "np.save(\"text_embeddings_sbert.npy\", embeddings)\n",
    "print(\"✅ Saved to text_embeddings_sbert.npy\")\n",
    "print(f\"Embedding shape: {embeddings.shape}\")\n"
   ]
  },
  {
   "cell_type": "markdown",
   "id": "816dc76c",
   "metadata": {},
   "source": [
    "## graph construction pipeline using torch_geometric"
   ]
  },
  {
   "cell_type": "markdown",
   "id": "89b62e14",
   "metadata": {},
   "source": [
    "- patch_features.npy → shape: (N, 16, 512) → 16 patch nodes per image\n",
    "\n",
    "- text_embeddings_sbert.npy → shape: (N, 384) → 1 text node per image"
   ]
  },
  {
   "cell_type": "code",
   "execution_count": 3,
   "id": "ba0f9cd3",
   "metadata": {},
   "outputs": [
    {
     "name": "stdout",
     "output_type": "stream",
     "text": [
      "Collecting numpy\n",
      "  Downloading numpy-2.2.5-cp311-cp311-win_amd64.whl.metadata (60 kB)\n",
      "     ---------------------------------------- 0.0/60.8 kB ? eta -:--:--\n",
      "     ------------ ------------------------- 20.5/60.8 kB 330.3 kB/s eta 0:00:01\n",
      "     ------------------------------- ------ 51.2/60.8 kB 440.4 kB/s eta 0:00:01\n",
      "     -------------------------------------- 60.8/60.8 kB 464.3 kB/s eta 0:00:00\n",
      "Collecting torch\n",
      "  Downloading torch-2.7.0-cp311-cp311-win_amd64.whl.metadata (29 kB)\n",
      "Collecting filelock (from torch)\n",
      "  Using cached filelock-3.18.0-py3-none-any.whl.metadata (2.9 kB)\n",
      "Requirement already satisfied: typing-extensions>=4.10.0 in c:\\users\\glori\\appdata\\local\\packages\\pythonsoftwarefoundation.python.3.11_qbz5n2kfra8p0\\localcache\\local-packages\\python311\\site-packages (from torch) (4.12.2)\n",
      "Collecting sympy>=1.13.3 (from torch)\n",
      "  Using cached sympy-1.13.3-py3-none-any.whl.metadata (12 kB)\n",
      "Collecting networkx (from torch)\n",
      "  Using cached networkx-3.4.2-py3-none-any.whl.metadata (6.3 kB)\n",
      "Requirement already satisfied: jinja2 in c:\\users\\glori\\appdata\\local\\packages\\pythonsoftwarefoundation.python.3.11_qbz5n2kfra8p0\\localcache\\local-packages\\python311\\site-packages (from torch) (3.1.6)\n",
      "Collecting fsspec (from torch)\n",
      "  Using cached fsspec-2025.3.2-py3-none-any.whl.metadata (11 kB)\n",
      "Collecting mpmath<1.4,>=1.1.0 (from sympy>=1.13.3->torch)\n",
      "  Using cached mpmath-1.3.0-py3-none-any.whl.metadata (8.6 kB)\n",
      "Requirement already satisfied: MarkupSafe>=2.0 in c:\\users\\glori\\appdata\\local\\packages\\pythonsoftwarefoundation.python.3.11_qbz5n2kfra8p0\\localcache\\local-packages\\python311\\site-packages (from jinja2->torch) (3.0.2)\n",
      "Downloading numpy-2.2.5-cp311-cp311-win_amd64.whl (12.9 MB)\n",
      "   ---------------------------------------- 0.0/12.9 MB ? eta -:--:--\n",
      "    --------------------------------------- 0.2/12.9 MB 7.3 MB/s eta 0:00:02\n",
      "   --- ------------------------------------ 1.0/12.9 MB 13.0 MB/s eta 0:00:01\n",
      "   ---- ----------------------------------- 1.5/12.9 MB 10.4 MB/s eta 0:00:02\n",
      "   ------ --------------------------------- 2.0/12.9 MB 10.3 MB/s eta 0:00:02\n",
      "   -------- ------------------------------- 2.8/12.9 MB 12.6 MB/s eta 0:00:01\n",
      "   ---------- ----------------------------- 3.6/12.9 MB 12.6 MB/s eta 0:00:01\n",
      "   --------------- ------------------------ 5.0/12.9 MB 15.9 MB/s eta 0:00:01\n",
      "   ------------------- -------------------- 6.2/12.9 MB 16.4 MB/s eta 0:00:01\n",
      "   ------------------------ --------------- 8.1/12.9 MB 19.9 MB/s eta 0:00:01\n",
      "   ------------------------- -------------- 8.1/12.9 MB 17.3 MB/s eta 0:00:01\n",
      "   ---------------------------- ----------- 9.1/12.9 MB 17.6 MB/s eta 0:00:01\n",
      "   --------------------------------- ------ 10.7/12.9 MB 20.5 MB/s eta 0:00:01\n",
      "   -------------------------------------- - 12.6/12.9 MB 25.2 MB/s eta 0:00:01\n",
      "   ---------------------------------------  12.9/12.9 MB 25.2 MB/s eta 0:00:01\n",
      "   ---------------------------------------  12.9/12.9 MB 25.2 MB/s eta 0:00:01\n",
      "   ---------------------------------------  12.9/12.9 MB 25.2 MB/s eta 0:00:01\n",
      "   ---------------------------------------- 12.9/12.9 MB 18.7 MB/s eta 0:00:00\n",
      "Downloading torch-2.7.0-cp311-cp311-win_amd64.whl (212.5 MB)\n",
      "   ---------------------------------------- 0.0/212.5 MB ? eta -:--:--\n",
      "   ---------------------------------------- 1.5/212.5 MB 31.4 MB/s eta 0:00:07\n",
      "    --------------------------------------- 2.8/212.5 MB 29.3 MB/s eta 0:00:08\n",
      "    --------------------------------------- 4.8/212.5 MB 30.4 MB/s eta 0:00:07\n",
      "   - -------------------------------------- 6.4/212.5 MB 37.1 MB/s eta 0:00:06\n",
      "   - -------------------------------------- 7.9/212.5 MB 36.2 MB/s eta 0:00:06\n",
      "   - -------------------------------------- 9.3/212.5 MB 34.8 MB/s eta 0:00:06\n",
      "   -- ------------------------------------- 11.8/212.5 MB 40.9 MB/s eta 0:00:05\n",
      "   -- ------------------------------------- 15.2/212.5 MB 50.4 MB/s eta 0:00:04\n",
      "   --- ------------------------------------ 17.4/212.5 MB 43.7 MB/s eta 0:00:05\n",
      "   --- ------------------------------------ 20.2/212.5 MB 59.5 MB/s eta 0:00:04\n",
      "   ---- ----------------------------------- 22.2/212.5 MB 54.4 MB/s eta 0:00:04\n",
      "   ---- ----------------------------------- 24.4/212.5 MB 50.4 MB/s eta 0:00:04\n",
      "   ----- ---------------------------------- 27.3/212.5 MB 54.7 MB/s eta 0:00:04\n",
      "   ----- ---------------------------------- 30.1/212.5 MB 54.4 MB/s eta 0:00:04\n",
      "   ------ --------------------------------- 32.5/212.5 MB 59.5 MB/s eta 0:00:04\n",
      "   ------ --------------------------------- 36.4/212.5 MB 59.5 MB/s eta 0:00:03\n",
      "   ------- -------------------------------- 38.2/212.5 MB 59.5 MB/s eta 0:00:03\n",
      "   ------- -------------------------------- 40.3/212.5 MB 46.7 MB/s eta 0:00:04\n",
      "   -------- ------------------------------- 42.6/212.5 MB 46.7 MB/s eta 0:00:04\n",
      "   -------- ------------------------------- 45.0/212.5 MB 43.7 MB/s eta 0:00:04\n",
      "   --------- ------------------------------ 48.2/212.5 MB 50.4 MB/s eta 0:00:04\n",
      "   --------- ------------------------------ 50.1/212.5 MB 50.4 MB/s eta 0:00:04\n",
      "   --------- ------------------------------ 53.1/212.5 MB 54.7 MB/s eta 0:00:03\n",
      "   ---------- ----------------------------- 55.3/212.5 MB 54.4 MB/s eta 0:00:03\n",
      "   ---------- ----------------------------- 58.3/212.5 MB 54.4 MB/s eta 0:00:03\n",
      "   ----------- ---------------------------- 60.9/212.5 MB 59.5 MB/s eta 0:00:03\n",
      "   ----------- ---------------------------- 63.1/212.5 MB 54.4 MB/s eta 0:00:03\n",
      "   ------------ --------------------------- 66.4/212.5 MB 59.8 MB/s eta 0:00:03\n",
      "   ------------ --------------------------- 68.4/212.5 MB 59.5 MB/s eta 0:00:03\n",
      "   ------------- -------------------------- 70.5/212.5 MB 59.5 MB/s eta 0:00:03\n",
      "   ------------- -------------------------- 72.7/212.5 MB 59.5 MB/s eta 0:00:03\n",
      "   -------------- ------------------------- 75.9/212.5 MB 54.7 MB/s eta 0:00:03\n",
      "   -------------- ------------------------- 78.6/212.5 MB 59.5 MB/s eta 0:00:03\n",
      "   --------------- ------------------------ 81.6/212.5 MB 59.5 MB/s eta 0:00:03\n",
      "   --------------- ------------------------ 84.3/212.5 MB 54.4 MB/s eta 0:00:03\n",
      "   ---------------- ----------------------- 87.2/212.5 MB 59.5 MB/s eta 0:00:03\n",
      "   ---------------- ----------------------- 89.6/212.5 MB 59.5 MB/s eta 0:00:03\n",
      "   ----------------- ---------------------- 92.5/212.5 MB 59.5 MB/s eta 0:00:03\n",
      "   ------------------ --------------------- 95.7/212.5 MB 59.5 MB/s eta 0:00:02\n",
      "   ------------------ --------------------- 98.2/212.5 MB 65.6 MB/s eta 0:00:02\n",
      "   ------------------ -------------------- 101.4/212.5 MB 59.5 MB/s eta 0:00:02\n",
      "   ------------------- ------------------- 104.4/212.5 MB 65.2 MB/s eta 0:00:02\n",
      "   ------------------- ------------------- 107.6/212.5 MB 65.2 MB/s eta 0:00:02\n",
      "   ------------------- ------------------- 108.5/212.5 MB 54.7 MB/s eta 0:00:02\n",
      "   -------------------- ------------------ 111.3/212.5 MB 50.4 MB/s eta 0:00:03\n",
      "   --------------------- ----------------- 115.3/212.5 MB 54.4 MB/s eta 0:00:02\n",
      "   --------------------- ----------------- 118.6/212.5 MB 59.5 MB/s eta 0:00:02\n",
      "   ---------------------- ---------------- 121.6/212.5 MB 72.6 MB/s eta 0:00:02\n",
      "   ---------------------- ---------------- 124.6/212.5 MB 65.6 MB/s eta 0:00:02\n",
      "   ----------------------- --------------- 127.0/212.5 MB 59.5 MB/s eta 0:00:02\n",
      "   ----------------------- --------------- 129.9/212.5 MB 59.5 MB/s eta 0:00:02\n",
      "   ------------------------ -------------- 132.2/212.5 MB 59.5 MB/s eta 0:00:02\n",
      "   ------------------------ -------------- 134.6/212.5 MB 54.4 MB/s eta 0:00:02\n",
      "   ------------------------- ------------- 137.2/212.5 MB 54.4 MB/s eta 0:00:02\n",
      "   ------------------------- ------------- 138.5/212.5 MB 46.7 MB/s eta 0:00:02\n",
      "   ------------------------- ------------- 141.4/212.5 MB 54.4 MB/s eta 0:00:02\n",
      "   -------------------------- ------------ 144.1/212.5 MB 50.4 MB/s eta 0:00:02\n",
      "   -------------------------- ------------ 147.0/212.5 MB 54.7 MB/s eta 0:00:02\n",
      "   --------------------------- ----------- 149.5/212.5 MB 59.5 MB/s eta 0:00:02\n",
      "   --------------------------- ----------- 152.6/212.5 MB 54.4 MB/s eta 0:00:02\n",
      "   ---------------------------- ---------- 154.3/212.5 MB 54.4 MB/s eta 0:00:02\n",
      "   ---------------------------- ---------- 156.6/212.5 MB 46.9 MB/s eta 0:00:02\n",
      "   ----------------------------- --------- 158.9/212.5 MB 50.4 MB/s eta 0:00:02\n",
      "   ----------------------------- --------- 162.4/212.5 MB 50.4 MB/s eta 0:00:01\n",
      "   ------------------------------ -------- 164.2/212.5 MB 50.4 MB/s eta 0:00:01\n",
      "   ------------------------------ -------- 166.1/212.5 MB 46.7 MB/s eta 0:00:01\n",
      "   ------------------------------ -------- 166.1/212.5 MB 46.7 MB/s eta 0:00:01\n",
      "   ------------------------------ -------- 166.6/212.5 MB 34.4 MB/s eta 0:00:02\n",
      "   ------------------------------- ------- 170.9/212.5 MB 40.9 MB/s eta 0:00:02\n",
      "   ------------------------------- ------- 172.6/212.5 MB 34.4 MB/s eta 0:00:02\n",
      "   -------------------------------- ------ 175.1/212.5 MB 43.7 MB/s eta 0:00:01\n",
      "   -------------------------------- ------ 177.0/212.5 MB 54.4 MB/s eta 0:00:01\n",
      "   -------------------------------- ------ 179.3/212.5 MB 46.7 MB/s eta 0:00:01\n",
      "   --------------------------------- ----- 182.4/212.5 MB 50.1 MB/s eta 0:00:01\n",
      "   --------------------------------- ----- 184.0/212.5 MB 46.9 MB/s eta 0:00:01\n",
      "   ---------------------------------- ---- 186.7/212.5 MB 50.4 MB/s eta 0:00:01\n",
      "   ---------------------------------- ---- 189.5/212.5 MB 54.7 MB/s eta 0:00:01\n",
      "   ----------------------------------- --- 192.5/212.5 MB 54.7 MB/s eta 0:00:01\n",
      "   ----------------------------------- --- 195.1/212.5 MB 59.5 MB/s eta 0:00:01\n",
      "   ------------------------------------ -- 197.6/212.5 MB 59.5 MB/s eta 0:00:01\n",
      "   ------------------------------------ -- 200.7/212.5 MB 54.7 MB/s eta 0:00:01\n",
      "   ------------------------------------- - 203.8/212.5 MB 65.2 MB/s eta 0:00:01\n",
      "   ------------------------------------- - 206.5/212.5 MB 59.5 MB/s eta 0:00:01\n",
      "   --------------------------------------  209.2/212.5 MB 59.5 MB/s eta 0:00:01\n",
      "   --------------------------------------  211.9/212.5 MB 54.4 MB/s eta 0:00:01\n",
      "   --------------------------------------  212.5/212.5 MB 54.7 MB/s eta 0:00:01\n",
      "   --------------------------------------  212.5/212.5 MB 54.7 MB/s eta 0:00:01\n",
      "   --------------------------------------  212.5/212.5 MB 54.7 MB/s eta 0:00:01\n",
      "   --------------------------------------  212.5/212.5 MB 54.7 MB/s eta 0:00:01\n",
      "   --------------------------------------  212.5/212.5 MB 54.7 MB/s eta 0:00:01\n",
      "   --------------------------------------  212.5/212.5 MB 54.7 MB/s eta 0:00:01\n",
      "   --------------------------------------  212.5/212.5 MB 54.7 MB/s eta 0:00:01\n",
      "   --------------------------------------  212.5/212.5 MB 54.7 MB/s eta 0:00:01\n",
      "   --------------------------------------  212.5/212.5 MB 54.7 MB/s eta 0:00:01\n",
      "   --------------------------------------  212.5/212.5 MB 54.7 MB/s eta 0:00:01\n",
      "   --------------------------------------  212.5/212.5 MB 54.7 MB/s eta 0:00:01\n",
      "   --------------------------------------  212.5/212.5 MB 54.7 MB/s eta 0:00:01\n",
      "   --------------------------------------  212.5/212.5 MB 54.7 MB/s eta 0:00:01\n",
      "   --------------------------------------  212.5/212.5 MB 54.7 MB/s eta 0:00:01\n",
      "   --------------------------------------  212.5/212.5 MB 54.7 MB/s eta 0:00:01\n",
      "   --------------------------------------  212.5/212.5 MB 54.7 MB/s eta 0:00:01\n",
      "   --------------------------------------  212.5/212.5 MB 54.7 MB/s eta 0:00:01\n",
      "   --------------------------------------  212.5/212.5 MB 54.7 MB/s eta 0:00:01\n",
      "   --------------------------------------  212.5/212.5 MB 54.7 MB/s eta 0:00:01\n",
      "   --------------------------------------  212.5/212.5 MB 54.7 MB/s eta 0:00:01\n",
      "   --------------------------------------  212.5/212.5 MB 54.7 MB/s eta 0:00:01\n",
      "   --------------------------------------  212.5/212.5 MB 54.7 MB/s eta 0:00:01\n",
      "   --------------------------------------  212.5/212.5 MB 54.7 MB/s eta 0:00:01\n",
      "   --------------------------------------  212.5/212.5 MB 54.7 MB/s eta 0:00:01\n",
      "   --------------------------------------  212.5/212.5 MB 54.7 MB/s eta 0:00:01\n",
      "   --------------------------------------  212.5/212.5 MB 54.7 MB/s eta 0:00:01\n",
      "   --------------------------------------  212.5/212.5 MB 54.7 MB/s eta 0:00:01\n",
      "   --------------------------------------  212.5/212.5 MB 54.7 MB/s eta 0:00:01\n",
      "   --------------------------------------  212.5/212.5 MB 54.7 MB/s eta 0:00:01\n",
      "   --------------------------------------  212.5/212.5 MB 54.7 MB/s eta 0:00:01\n",
      "   --------------------------------------  212.5/212.5 MB 54.7 MB/s eta 0:00:01\n",
      "   --------------------------------------  212.5/212.5 MB 54.7 MB/s eta 0:00:01\n",
      "   --------------------------------------  212.5/212.5 MB 54.7 MB/s eta 0:00:01\n",
      "   --------------------------------------  212.5/212.5 MB 54.7 MB/s eta 0:00:01\n",
      "   --------------------------------------  212.5/212.5 MB 54.7 MB/s eta 0:00:01\n",
      "   --------------------------------------  212.5/212.5 MB 54.7 MB/s eta 0:00:01\n",
      "   --------------------------------------  212.5/212.5 MB 54.7 MB/s eta 0:00:01\n",
      "   --------------------------------------  212.5/212.5 MB 54.7 MB/s eta 0:00:01\n",
      "   --------------------------------------  212.5/212.5 MB 54.7 MB/s eta 0:00:01\n",
      "   --------------------------------------  212.5/212.5 MB 54.7 MB/s eta 0:00:01\n",
      "   --------------------------------------  212.5/212.5 MB 54.7 MB/s eta 0:00:01\n",
      "   --------------------------------------  212.5/212.5 MB 54.7 MB/s eta 0:00:01\n",
      "   --------------------------------------  212.5/212.5 MB 54.7 MB/s eta 0:00:01\n",
      "   --------------------------------------  212.5/212.5 MB 54.7 MB/s eta 0:00:01\n",
      "   --------------------------------------  212.5/212.5 MB 54.7 MB/s eta 0:00:01\n",
      "   ---------------------------------------- 212.5/212.5 MB 4.3 MB/s eta 0:00:00\n",
      "Using cached sympy-1.13.3-py3-none-any.whl (6.2 MB)\n",
      "Using cached filelock-3.18.0-py3-none-any.whl (16 kB)\n",
      "Using cached fsspec-2025.3.2-py3-none-any.whl (194 kB)\n",
      "Using cached networkx-3.4.2-py3-none-any.whl (1.7 MB)\n",
      "Using cached mpmath-1.3.0-py3-none-any.whl (536 kB)\n",
      "Installing collected packages: mpmath, sympy, numpy, networkx, fsspec, filelock, torch\n",
      "Successfully installed filelock-3.18.0 fsspec-2025.3.2 mpmath-1.3.0 networkx-3.4.2 numpy-2.2.5 sympy-1.13.3 torch-2.7.0\n",
      "Note: you may need to restart the kernel to use updated packages.\n"
     ]
    },
    {
     "name": "stderr",
     "output_type": "stream",
     "text": [
      "\n",
      "[notice] A new release of pip is available: 24.0 -> 25.0.1\n",
      "[notice] To update, run: C:\\Users\\glori\\AppData\\Local\\Microsoft\\WindowsApps\\PythonSoftwareFoundation.Python.3.11_qbz5n2kfra8p0\\python.exe -m pip install --upgrade pip\n"
     ]
    }
   ],
   "source": [
    "pip install numpy torch "
   ]
  },
  {
   "cell_type": "code",
   "execution_count": 5,
   "id": "91f168c6",
   "metadata": {},
   "outputs": [
    {
     "name": "stdout",
     "output_type": "stream",
     "text": [
      "Collecting torch_geometric\n",
      "  Using cached torch_geometric-2.6.1-py3-none-any.whl.metadata (63 kB)\n",
      "Collecting aiohttp (from torch_geometric)\n",
      "  Downloading aiohttp-3.11.18-cp311-cp311-win_amd64.whl.metadata (8.0 kB)\n",
      "Requirement already satisfied: fsspec in c:\\users\\glori\\appdata\\local\\packages\\pythonsoftwarefoundation.python.3.11_qbz5n2kfra8p0\\localcache\\local-packages\\python311\\site-packages (from torch_geometric) (2025.3.2)\n",
      "Requirement already satisfied: jinja2 in c:\\users\\glori\\appdata\\local\\packages\\pythonsoftwarefoundation.python.3.11_qbz5n2kfra8p0\\localcache\\local-packages\\python311\\site-packages (from torch_geometric) (3.1.6)\n",
      "Requirement already satisfied: numpy in c:\\users\\glori\\appdata\\local\\packages\\pythonsoftwarefoundation.python.3.11_qbz5n2kfra8p0\\localcache\\local-packages\\python311\\site-packages (from torch_geometric) (2.2.5)\n",
      "Requirement already satisfied: psutil>=5.8.0 in c:\\users\\glori\\appdata\\local\\packages\\pythonsoftwarefoundation.python.3.11_qbz5n2kfra8p0\\localcache\\local-packages\\python311\\site-packages (from torch_geometric) (7.0.0)\n",
      "Collecting pyparsing (from torch_geometric)\n",
      "  Using cached pyparsing-3.2.3-py3-none-any.whl.metadata (5.0 kB)\n",
      "Collecting requests (from torch_geometric)\n",
      "  Using cached requests-2.32.3-py3-none-any.whl.metadata (4.6 kB)\n",
      "Collecting tqdm (from torch_geometric)\n",
      "  Using cached tqdm-4.67.1-py3-none-any.whl.metadata (57 kB)\n",
      "Collecting aiohappyeyeballs>=2.3.0 (from aiohttp->torch_geometric)\n",
      "  Downloading aiohappyeyeballs-2.6.1-py3-none-any.whl.metadata (5.9 kB)\n",
      "Collecting aiosignal>=1.1.2 (from aiohttp->torch_geometric)\n",
      "  Downloading aiosignal-1.3.2-py2.py3-none-any.whl.metadata (3.8 kB)\n",
      "Collecting attrs>=17.3.0 (from aiohttp->torch_geometric)\n",
      "  Using cached attrs-25.3.0-py3-none-any.whl.metadata (10 kB)\n",
      "Collecting frozenlist>=1.1.1 (from aiohttp->torch_geometric)\n",
      "  Downloading frozenlist-1.6.0-cp311-cp311-win_amd64.whl.metadata (16 kB)\n",
      "Collecting multidict<7.0,>=4.5 (from aiohttp->torch_geometric)\n",
      "  Downloading multidict-6.4.3-cp311-cp311-win_amd64.whl.metadata (5.5 kB)\n",
      "Collecting propcache>=0.2.0 (from aiohttp->torch_geometric)\n",
      "  Downloading propcache-0.3.1-cp311-cp311-win_amd64.whl.metadata (11 kB)\n",
      "Collecting yarl<2.0,>=1.17.0 (from aiohttp->torch_geometric)\n",
      "  Downloading yarl-1.20.0-cp311-cp311-win_amd64.whl.metadata (74 kB)\n",
      "     ---------------------------------------- 0.0/74.8 kB ? eta -:--:--\n",
      "     ---------------- ----------------------- 30.7/74.8 kB 1.4 MB/s eta 0:00:01\n",
      "     -------------------------------------- - 71.7/74.8 kB 1.3 MB/s eta 0:00:01\n",
      "     ---------------------------------------- 74.8/74.8 kB 1.0 MB/s eta 0:00:00\n",
      "Requirement already satisfied: MarkupSafe>=2.0 in c:\\users\\glori\\appdata\\local\\packages\\pythonsoftwarefoundation.python.3.11_qbz5n2kfra8p0\\localcache\\local-packages\\python311\\site-packages (from jinja2->torch_geometric) (3.0.2)\n",
      "Collecting charset-normalizer<4,>=2 (from requests->torch_geometric)\n",
      "  Downloading charset_normalizer-3.4.1-cp311-cp311-win_amd64.whl.metadata (36 kB)\n",
      "Collecting idna<4,>=2.5 (from requests->torch_geometric)\n",
      "  Using cached idna-3.10-py3-none-any.whl.metadata (10 kB)\n",
      "Collecting urllib3<3,>=1.21.1 (from requests->torch_geometric)\n",
      "  Using cached urllib3-2.4.0-py3-none-any.whl.metadata (6.5 kB)\n",
      "Collecting certifi>=2017.4.17 (from requests->torch_geometric)\n",
      "  Using cached certifi-2025.1.31-py3-none-any.whl.metadata (2.5 kB)\n",
      "Requirement already satisfied: colorama in c:\\users\\glori\\appdata\\local\\packages\\pythonsoftwarefoundation.python.3.11_qbz5n2kfra8p0\\localcache\\local-packages\\python311\\site-packages (from tqdm->torch_geometric) (0.4.6)\n",
      "Using cached torch_geometric-2.6.1-py3-none-any.whl (1.1 MB)\n",
      "Downloading aiohttp-3.11.18-cp311-cp311-win_amd64.whl (443 kB)\n",
      "   ---------------------------------------- 0.0/443.7 kB ? eta -:--:--\n",
      "   ----------------- ---------------------- 194.6/443.7 kB 5.9 MB/s eta 0:00:01\n",
      "   -------------------------------- ------- 358.4/443.7 kB 4.5 MB/s eta 0:00:01\n",
      "   --------------------------------- ------ 368.6/443.7 kB 2.9 MB/s eta 0:00:01\n",
      "   ---------------------------------------- 443.7/443.7 kB 2.3 MB/s eta 0:00:00\n",
      "Using cached pyparsing-3.2.3-py3-none-any.whl (111 kB)\n",
      "Using cached requests-2.32.3-py3-none-any.whl (64 kB)\n",
      "Using cached tqdm-4.67.1-py3-none-any.whl (78 kB)\n",
      "Downloading aiohappyeyeballs-2.6.1-py3-none-any.whl (15 kB)\n",
      "Downloading aiosignal-1.3.2-py2.py3-none-any.whl (7.6 kB)\n",
      "Using cached attrs-25.3.0-py3-none-any.whl (63 kB)\n",
      "Using cached certifi-2025.1.31-py3-none-any.whl (166 kB)\n",
      "Downloading charset_normalizer-3.4.1-cp311-cp311-win_amd64.whl (102 kB)\n",
      "   ---------------------------------------- 0.0/102.4 kB ? eta -:--:--\n",
      "   ---------------------------------------  102.4/102.4 kB 2.0 MB/s eta 0:00:01\n",
      "   ---------------------------------------- 102.4/102.4 kB 1.5 MB/s eta 0:00:00\n",
      "Downloading frozenlist-1.6.0-cp311-cp311-win_amd64.whl (120 kB)\n",
      "   ---------------------------------------- 0.0/120.9 kB ? eta -:--:--\n",
      "   -------------------- ------------------- 61.4/120.9 kB ? eta -:--:--\n",
      "   ---------------------------------------- 120.9/120.9 kB 2.4 MB/s eta 0:00:00\n",
      "Using cached idna-3.10-py3-none-any.whl (70 kB)\n",
      "Downloading multidict-6.4.3-cp311-cp311-win_amd64.whl (38 kB)\n",
      "Downloading propcache-0.3.1-cp311-cp311-win_amd64.whl (45 kB)\n",
      "   ---------------------------------------- 0.0/45.2 kB ? eta -:--:--\n",
      "   ---------------------------------------- 45.2/45.2 kB 1.1 MB/s eta 0:00:00\n",
      "Using cached urllib3-2.4.0-py3-none-any.whl (128 kB)\n",
      "Downloading yarl-1.20.0-cp311-cp311-win_amd64.whl (93 kB)\n",
      "   ---------------------------------------- 0.0/93.4 kB ? eta -:--:--\n",
      "   ---------------------------------------- 93.4/93.4 kB 1.8 MB/s eta 0:00:00\n",
      "Installing collected packages: urllib3, tqdm, pyparsing, propcache, multidict, idna, frozenlist, charset-normalizer, certifi, attrs, aiohappyeyeballs, yarl, requests, aiosignal, aiohttp, torch_geometric\n",
      "Successfully installed aiohappyeyeballs-2.6.1 aiohttp-3.11.18 aiosignal-1.3.2 attrs-25.3.0 certifi-2025.1.31 charset-normalizer-3.4.1 frozenlist-1.6.0 idna-3.10 multidict-6.4.3 propcache-0.3.1 pyparsing-3.2.3 requests-2.32.3 torch_geometric-2.6.1 tqdm-4.67.1 urllib3-2.4.0 yarl-1.20.0\n",
      "Note: you may need to restart the kernel to use updated packages.\n"
     ]
    },
    {
     "name": "stderr",
     "output_type": "stream",
     "text": [
      "\n",
      "[notice] A new release of pip is available: 24.0 -> 25.0.1\n",
      "[notice] To update, run: C:\\Users\\glori\\AppData\\Local\\Microsoft\\WindowsApps\\PythonSoftwareFoundation.Python.3.11_qbz5n2kfra8p0\\python.exe -m pip install --upgrade pip\n"
     ]
    }
   ],
   "source": [
    "pip install torch_geometric"
   ]
  },
  {
   "cell_type": "code",
   "execution_count": 11,
   "id": "0fc4bc93",
   "metadata": {},
   "outputs": [
    {
     "name": "stdout",
     "output_type": "stream",
     "text": [
      "Collecting scikit-learn\n",
      "  Downloading scikit_learn-1.6.1-cp311-cp311-win_amd64.whl.metadata (15 kB)\n",
      "Requirement already satisfied: numpy>=1.19.5 in c:\\users\\glori\\appdata\\local\\packages\\pythonsoftwarefoundation.python.3.11_qbz5n2kfra8p0\\localcache\\local-packages\\python311\\site-packages (from scikit-learn) (2.2.5)\n",
      "Collecting scipy>=1.6.0 (from scikit-learn)\n",
      "  Downloading scipy-1.15.2-cp311-cp311-win_amd64.whl.metadata (60 kB)\n",
      "     ---------------------------------------- 0.0/60.8 kB ? eta -:--:--\n",
      "     ------ --------------------------------- 10.2/60.8 kB ? eta -:--:--\n",
      "     ---------------------------------------- 60.8/60.8 kB 1.1 MB/s eta 0:00:00\n",
      "Collecting joblib>=1.2.0 (from scikit-learn)\n",
      "  Using cached joblib-1.4.2-py3-none-any.whl.metadata (5.4 kB)\n",
      "Collecting threadpoolctl>=3.1.0 (from scikit-learn)\n",
      "  Using cached threadpoolctl-3.6.0-py3-none-any.whl.metadata (13 kB)\n",
      "Downloading scikit_learn-1.6.1-cp311-cp311-win_amd64.whl (11.1 MB)\n",
      "   ---------------------------------------- 0.0/11.1 MB ? eta -:--:--\n",
      "    --------------------------------------- 0.2/11.1 MB 9.0 MB/s eta 0:00:02\n",
      "   -- ------------------------------------- 0.8/11.1 MB 9.8 MB/s eta 0:00:02\n",
      "   ------ --------------------------------- 1.7/11.1 MB 15.6 MB/s eta 0:00:01\n",
      "   ----------- ---------------------------- 3.2/11.1 MB 18.8 MB/s eta 0:00:01\n",
      "   --------------- ------------------------ 4.5/11.1 MB 21.9 MB/s eta 0:00:01\n",
      "   -------------------- ------------------- 5.8/11.1 MB 21.7 MB/s eta 0:00:01\n",
      "   -------------------------- ------------- 7.4/11.1 MB 22.4 MB/s eta 0:00:01\n",
      "   ------------------------------- -------- 8.8/11.1 MB 24.3 MB/s eta 0:00:01\n",
      "   ----------------------------------- ---- 9.9/11.1 MB 24.4 MB/s eta 0:00:01\n",
      "   -------------------------------------- - 10.6/11.1 MB 26.2 MB/s eta 0:00:01\n",
      "   ---------------------------------------  11.1/11.1 MB 27.3 MB/s eta 0:00:01\n",
      "   ---------------------------------------- 11.1/11.1 MB 23.4 MB/s eta 0:00:00\n",
      "Using cached joblib-1.4.2-py3-none-any.whl (301 kB)\n",
      "Downloading scipy-1.15.2-cp311-cp311-win_amd64.whl (41.2 MB)\n",
      "   ---------------------------------------- 0.0/41.2 MB ? eta -:--:--\n",
      "   - -------------------------------------- 1.1/41.2 MB 22.4 MB/s eta 0:00:02\n",
      "   -- ------------------------------------- 2.5/41.2 MB 26.9 MB/s eta 0:00:02\n",
      "   --- ------------------------------------ 3.2/41.2 MB 25.6 MB/s eta 0:00:02\n",
      "   ----- ---------------------------------- 5.9/41.2 MB 31.6 MB/s eta 0:00:02\n",
      "   ------ --------------------------------- 6.8/41.2 MB 29.2 MB/s eta 0:00:02\n",
      "   ------- -------------------------------- 7.9/41.2 MB 28.1 MB/s eta 0:00:02\n",
      "   --------- ------------------------------ 9.7/41.2 MB 31.0 MB/s eta 0:00:02\n",
      "   ---------- ----------------------------- 11.2/41.2 MB 29.7 MB/s eta 0:00:02\n",
      "   ----------- ---------------------------- 11.9/41.2 MB 29.7 MB/s eta 0:00:01\n",
      "   ------------- -------------------------- 13.5/41.2 MB 32.7 MB/s eta 0:00:01\n",
      "   --------------- ------------------------ 15.6/41.2 MB 29.8 MB/s eta 0:00:01\n",
      "   ---------------- ----------------------- 17.5/41.2 MB 34.4 MB/s eta 0:00:01\n",
      "   ------------------ --------------------- 18.8/41.2 MB 34.6 MB/s eta 0:00:01\n",
      "   -------------------- ------------------- 21.0/41.2 MB 34.4 MB/s eta 0:00:01\n",
      "   ---------------------- ----------------- 22.8/41.2 MB 38.5 MB/s eta 0:00:01\n",
      "   ----------------------- ---------------- 23.9/41.2 MB 40.9 MB/s eta 0:00:01\n",
      "   ------------------------ --------------- 25.7/41.2 MB 40.9 MB/s eta 0:00:01\n",
      "   -------------------------- ------------- 27.5/41.2 MB 40.9 MB/s eta 0:00:01\n",
      "   ---------------------------- ----------- 29.0/41.2 MB 40.9 MB/s eta 0:00:01\n",
      "   ----------------------------- ---------- 30.7/41.2 MB 40.9 MB/s eta 0:00:01\n",
      "   ------------------------------- -------- 32.2/41.2 MB 40.9 MB/s eta 0:00:01\n",
      "   -------------------------------- ------- 33.9/41.2 MB 43.7 MB/s eta 0:00:01\n",
      "   ---------------------------------- ----- 35.4/41.2 MB 40.9 MB/s eta 0:00:01\n",
      "   ----------------------------------- ---- 36.9/41.2 MB 40.9 MB/s eta 0:00:01\n",
      "   -------------------------------------- - 39.4/41.2 MB 43.7 MB/s eta 0:00:01\n",
      "   ---------------------------------------  41.2/41.2 MB 38.5 MB/s eta 0:00:01\n",
      "   ---------------------------------------  41.2/41.2 MB 38.5 MB/s eta 0:00:01\n",
      "   ---------------------------------------  41.2/41.2 MB 38.5 MB/s eta 0:00:01\n",
      "   ---------------------------------------  41.2/41.2 MB 38.5 MB/s eta 0:00:01\n",
      "   ---------------------------------------- 41.2/41.2 MB 22.6 MB/s eta 0:00:00\n",
      "Using cached threadpoolctl-3.6.0-py3-none-any.whl (18 kB)\n",
      "Installing collected packages: threadpoolctl, scipy, joblib, scikit-learn\n",
      "Successfully installed joblib-1.4.2 scikit-learn-1.6.1 scipy-1.15.2 threadpoolctl-3.6.0\n",
      "Note: you may need to restart the kernel to use updated packages.\n"
     ]
    },
    {
     "name": "stderr",
     "output_type": "stream",
     "text": [
      "\n",
      "[notice] A new release of pip is available: 24.0 -> 25.0.1\n",
      "[notice] To update, run: C:\\Users\\glori\\AppData\\Local\\Microsoft\\WindowsApps\\PythonSoftwareFoundation.Python.3.11_qbz5n2kfra8p0\\python.exe -m pip install --upgrade pip\n"
     ]
    }
   ],
   "source": [
    "pip install scikit-learn"
   ]
  },
  {
   "cell_type": "code",
   "execution_count": 6,
   "id": "eaa5f7bf",
   "metadata": {},
   "outputs": [],
   "source": [
    "import numpy as np\n",
    "import torch\n",
    "from torch_geometric.data import Data"
   ]
  },
  {
   "cell_type": "code",
   "execution_count": 25,
   "id": "303a26f4",
   "metadata": {},
   "outputs": [
    {
     "name": "stdout",
     "output_type": "stream",
     "text": [
      "Collecting pandas\n",
      "  Downloading pandas-2.2.3-cp311-cp311-win_amd64.whl.metadata (19 kB)\n",
      "Requirement already satisfied: numpy>=1.23.2 in c:\\users\\glori\\appdata\\local\\packages\\pythonsoftwarefoundation.python.3.11_qbz5n2kfra8p0\\localcache\\local-packages\\python311\\site-packages (from pandas) (2.2.5)\n",
      "Requirement already satisfied: python-dateutil>=2.8.2 in c:\\users\\glori\\appdata\\local\\packages\\pythonsoftwarefoundation.python.3.11_qbz5n2kfra8p0\\localcache\\local-packages\\python311\\site-packages (from pandas) (2.9.0.post0)\n",
      "Collecting pytz>=2020.1 (from pandas)\n",
      "  Using cached pytz-2025.2-py2.py3-none-any.whl.metadata (22 kB)\n",
      "Requirement already satisfied: tzdata>=2022.7 in c:\\users\\glori\\appdata\\local\\packages\\pythonsoftwarefoundation.python.3.11_qbz5n2kfra8p0\\localcache\\local-packages\\python311\\site-packages (from pandas) (2025.2)\n",
      "Requirement already satisfied: six>=1.5 in c:\\users\\glori\\appdata\\local\\packages\\pythonsoftwarefoundation.python.3.11_qbz5n2kfra8p0\\localcache\\local-packages\\python311\\site-packages (from python-dateutil>=2.8.2->pandas) (1.17.0)\n",
      "Downloading pandas-2.2.3-cp311-cp311-win_amd64.whl (11.6 MB)\n",
      "   ---------------------------------------- 0.0/11.6 MB ? eta -:--:--\n",
      "   ---------------------------------------- 0.0/11.6 MB ? eta -:--:--\n",
      "    --------------------------------------- 0.2/11.6 MB 1.8 MB/s eta 0:00:07\n",
      "   - -------------------------------------- 0.4/11.6 MB 3.9 MB/s eta 0:00:03\n",
      "   -- ------------------------------------- 0.7/11.6 MB 4.5 MB/s eta 0:00:03\n",
      "   --- ------------------------------------ 1.1/11.6 MB 5.5 MB/s eta 0:00:02\n",
      "   ---- ----------------------------------- 1.4/11.6 MB 5.9 MB/s eta 0:00:02\n",
      "   ----- ---------------------------------- 1.5/11.6 MB 5.8 MB/s eta 0:00:02\n",
      "   ------ --------------------------------- 1.9/11.6 MB 5.6 MB/s eta 0:00:02\n",
      "   -------- ------------------------------- 2.4/11.6 MB 6.2 MB/s eta 0:00:02\n",
      "   -------- ------------------------------- 2.6/11.6 MB 6.2 MB/s eta 0:00:02\n",
      "   ---------- ----------------------------- 3.0/11.6 MB 6.1 MB/s eta 0:00:02\n",
      "   ----------- ---------------------------- 3.2/11.6 MB 6.1 MB/s eta 0:00:02\n",
      "   ------------- -------------------------- 3.8/11.6 MB 6.6 MB/s eta 0:00:02\n",
      "   -------------- ------------------------- 4.1/11.6 MB 6.7 MB/s eta 0:00:02\n",
      "   ---------------- ----------------------- 4.7/11.6 MB 7.0 MB/s eta 0:00:01\n",
      "   ------------------ --------------------- 5.3/11.6 MB 7.3 MB/s eta 0:00:01\n",
      "   -------------------- ------------------- 6.0/11.6 MB 7.7 MB/s eta 0:00:01\n",
      "   ----------------------- ---------------- 6.7/11.6 MB 8.1 MB/s eta 0:00:01\n",
      "   ------------------------- -------------- 7.4/11.6 MB 8.5 MB/s eta 0:00:01\n",
      "   --------------------------- ------------ 7.9/11.6 MB 8.7 MB/s eta 0:00:01\n",
      "   ----------------------------- ---------- 8.7/11.6 MB 9.3 MB/s eta 0:00:01\n",
      "   --------------------------------- ------ 9.7/11.6 MB 9.6 MB/s eta 0:00:01\n",
      "   ----------------------------------- ---- 10.4/11.6 MB 10.6 MB/s eta 0:00:01\n",
      "   ---------------------------------------  11.6/11.6 MB 12.1 MB/s eta 0:00:01\n",
      "   ---------------------------------------- 11.6/11.6 MB 11.5 MB/s eta 0:00:00\n",
      "Using cached pytz-2025.2-py2.py3-none-any.whl (509 kB)\n",
      "Installing collected packages: pytz, pandas\n",
      "Successfully installed pandas-2.2.3 pytz-2025.2\n",
      "Note: you may need to restart the kernel to use updated packages.\n"
     ]
    },
    {
     "name": "stderr",
     "output_type": "stream",
     "text": [
      "\n",
      "[notice] A new release of pip is available: 24.0 -> 25.0.1\n",
      "[notice] To update, run: C:\\Users\\glori\\AppData\\Local\\Microsoft\\WindowsApps\\PythonSoftwareFoundation.Python.3.11_qbz5n2kfra8p0\\python.exe -m pip install --upgrade pip\n"
     ]
    }
   ],
   "source": [
    "pip install pandas"
   ]
  },
  {
   "cell_type": "code",
   "execution_count": 79,
   "id": "bfacdebd",
   "metadata": {},
   "outputs": [
    {
     "name": "stdout",
     "output_type": "stream",
     "text": [
      "✅ Created 12446 multimodal graphs with labels.\n"
     ]
    }
   ],
   "source": [
    "import torch\n",
    "import numpy as np\n",
    "import pandas as pd\n",
    "from torch_geometric.data import Data\n",
    "\n",
    "df = pd.read_csv(r\"C:\\Users\\glori\\Desktop\\Fundamentals of Big Data Analytics\\GNN Multimodal analysis\\cleaned_dataset.csv\")\n",
    "\n",
    "# Load features\n",
    "patch_features = np.load(\"patch_features.npy\")  # [N, 16, 512]\n",
    "text_embeddings = np.load(\"text_embeddings_sbert.npy\")  # [N, 384]\n",
    "\n",
    "# Ensure shapes align\n",
    "assert patch_features.shape[0] == text_embeddings.shape[0], \"Mismatch in number of samples!\"\n",
    "\n",
    "num_samples = patch_features.shape[0]\n",
    "patch_dim = patch_features.shape[2]\n",
    "\n",
    "graph_list = []\n",
    "\n",
    "for i in range(num_samples):\n",
    "    patch_nodes = patch_features[i]\n",
    "    text_node = text_embeddings[i].reshape(1, -1)\n",
    "\n",
    "    if text_node.shape[1] != patch_nodes.shape[1]:\n",
    "        padded_text = np.zeros((1, patch_nodes.shape[1]))\n",
    "        padded_text[:, :text_node.shape[1]] = text_node\n",
    "        text_node = padded_text\n",
    "\n",
    "    x = np.vstack([patch_nodes, text_node])\n",
    "    x = torch.tensor(x, dtype=torch.float)\n",
    "\n",
    "    # Edge construction\n",
    "    edge_index = []\n",
    "    grid_size = 4\n",
    "    for row in range(grid_size):\n",
    "        for col in range(grid_size):\n",
    "            idx = row * grid_size + col\n",
    "            if col < grid_size - 1:\n",
    "                edge_index.append([idx, idx + 1])\n",
    "                edge_index.append([idx + 1, idx])\n",
    "            if row < grid_size - 1:\n",
    "                edge_index.append([idx, idx + grid_size])\n",
    "                edge_index.append([idx + grid_size, idx])\n",
    "    for idx in range(16):\n",
    "        edge_index.append([idx, 16])\n",
    "        edge_index.append([16, idx])\n",
    "\n",
    "    edge_index = torch.tensor(edge_index, dtype=torch.long).t().contiguous()\n",
    "\n",
    "    # Add label from DataFrame\n",
    "    label = df.iloc[i][\"target\"]\n",
    "    data = Data(x=x, edge_index=edge_index, y=torch.tensor(label, dtype=torch.long))\n",
    "    graph_list.append(data)\n",
    "\n",
    "# Save graph dataset\n",
    "graph_dataset = graph_list\n",
    "print(f\"✅ Created {len(graph_dataset)} multimodal graphs with labels.\")\n"
   ]
  },
  {
   "cell_type": "code",
   "execution_count": 80,
   "id": "cb9acd06",
   "metadata": {},
   "outputs": [],
   "source": [
    "graph_dataset = graph_list"
   ]
  },
  {
   "cell_type": "code",
   "execution_count": 81,
   "id": "3e7219e1",
   "metadata": {},
   "outputs": [
    {
     "name": "stdout",
     "output_type": "stream",
     "text": [
      "Data(x=[17, 512], edge_index=[2, 80], y=3)\n",
      "Number of nodes: 17\n",
      "Edge index shape: torch.Size([2, 80])\n",
      "Node feature shape: torch.Size([17, 512])\n"
     ]
    }
   ],
   "source": [
    "# Pick a sample graph (e.g., first one)\n",
    "data = graph_list[0]\n",
    "\n",
    "# Summary of the graph\n",
    "print(data)\n",
    "print(f\"Number of nodes: {data.num_nodes}\")\n",
    "print(f\"Edge index shape: {data.edge_index.shape}\")\n",
    "print(f\"Node feature shape: {data.x.shape}\")"
   ]
  },
  {
   "cell_type": "code",
   "execution_count": 15,
   "id": "53132f33",
   "metadata": {},
   "outputs": [
    {
     "name": "stdout",
     "output_type": "stream",
     "text": [
      "Collecting matplotlib\n",
      "  Downloading matplotlib-3.10.1-cp311-cp311-win_amd64.whl.metadata (11 kB)\n",
      "Requirement already satisfied: networkx in c:\\users\\glori\\appdata\\local\\packages\\pythonsoftwarefoundation.python.3.11_qbz5n2kfra8p0\\localcache\\local-packages\\python311\\site-packages (3.4.2)\n",
      "Collecting contourpy>=1.0.1 (from matplotlib)\n",
      "  Downloading contourpy-1.3.2-cp311-cp311-win_amd64.whl.metadata (5.5 kB)\n",
      "Collecting cycler>=0.10 (from matplotlib)\n",
      "  Using cached cycler-0.12.1-py3-none-any.whl.metadata (3.8 kB)\n",
      "Collecting fonttools>=4.22.0 (from matplotlib)\n",
      "  Downloading fonttools-4.57.0-cp311-cp311-win_amd64.whl.metadata (104 kB)\n",
      "     ---------------------------------------- 0.0/104.6 kB ? eta -:--:--\n",
      "     --- ------------------------------------ 10.2/104.6 kB ? eta -:--:--\n",
      "     -------------- ---------------------- 41.0/104.6 kB 653.6 kB/s eta 0:00:01\n",
      "     -------------------------------------- 104.6/104.6 kB 1.2 MB/s eta 0:00:00\n",
      "Collecting kiwisolver>=1.3.1 (from matplotlib)\n",
      "  Downloading kiwisolver-1.4.8-cp311-cp311-win_amd64.whl.metadata (6.3 kB)\n",
      "Requirement already satisfied: numpy>=1.23 in c:\\users\\glori\\appdata\\local\\packages\\pythonsoftwarefoundation.python.3.11_qbz5n2kfra8p0\\localcache\\local-packages\\python311\\site-packages (from matplotlib) (2.2.5)\n",
      "Requirement already satisfied: packaging>=20.0 in c:\\users\\glori\\appdata\\local\\packages\\pythonsoftwarefoundation.python.3.11_qbz5n2kfra8p0\\localcache\\local-packages\\python311\\site-packages (from matplotlib) (24.2)\n",
      "Collecting pillow>=8 (from matplotlib)\n",
      "  Downloading pillow-11.2.1-cp311-cp311-win_amd64.whl.metadata (9.1 kB)\n",
      "Requirement already satisfied: pyparsing>=2.3.1 in c:\\users\\glori\\appdata\\local\\packages\\pythonsoftwarefoundation.python.3.11_qbz5n2kfra8p0\\localcache\\local-packages\\python311\\site-packages (from matplotlib) (3.2.3)\n",
      "Requirement already satisfied: python-dateutil>=2.7 in c:\\users\\glori\\appdata\\local\\packages\\pythonsoftwarefoundation.python.3.11_qbz5n2kfra8p0\\localcache\\local-packages\\python311\\site-packages (from matplotlib) (2.9.0.post0)\n",
      "Requirement already satisfied: six>=1.5 in c:\\users\\glori\\appdata\\local\\packages\\pythonsoftwarefoundation.python.3.11_qbz5n2kfra8p0\\localcache\\local-packages\\python311\\site-packages (from python-dateutil>=2.7->matplotlib) (1.17.0)\n",
      "Downloading matplotlib-3.10.1-cp311-cp311-win_amd64.whl (8.1 MB)\n",
      "   ---------------------------------------- 0.0/8.1 MB ? eta -:--:--\n",
      "   - -------------------------------------- 0.2/8.1 MB 7.4 MB/s eta 0:00:02\n",
      "   ---- ----------------------------------- 0.9/8.1 MB 11.5 MB/s eta 0:00:01\n",
      "   ----------- ---------------------------- 2.3/8.1 MB 18.1 MB/s eta 0:00:01\n",
      "   ---------------- ----------------------- 3.3/8.1 MB 17.7 MB/s eta 0:00:01\n",
      "   -------------------------- ------------- 5.4/8.1 MB 22.8 MB/s eta 0:00:01\n",
      "   --------------------------------- ------ 6.7/8.1 MB 23.6 MB/s eta 0:00:01\n",
      "   ---------------------------------------  8.1/8.1 MB 24.5 MB/s eta 0:00:01\n",
      "   ---------------------------------------- 8.1/8.1 MB 21.5 MB/s eta 0:00:00\n",
      "Downloading contourpy-1.3.2-cp311-cp311-win_amd64.whl (222 kB)\n",
      "   ---------------------------------------- 0.0/222.0 kB ? eta -:--:--\n",
      "   --------------------------------------- 222.0/222.0 kB 13.2 MB/s eta 0:00:00\n",
      "Using cached cycler-0.12.1-py3-none-any.whl (8.3 kB)\n",
      "Downloading fonttools-4.57.0-cp311-cp311-win_amd64.whl (2.2 MB)\n",
      "   ---------------------------------------- 0.0/2.2 MB ? eta -:--:--\n",
      "   ----------------------- ---------------- 1.3/2.2 MB 42.0 MB/s eta 0:00:01\n",
      "   ---------------------------------------- 2.2/2.2 MB 28.1 MB/s eta 0:00:00\n",
      "Downloading kiwisolver-1.4.8-cp311-cp311-win_amd64.whl (71 kB)\n",
      "   ---------------------------------------- 0.0/72.0 kB ? eta -:--:--\n",
      "   ---------------------------------------- 72.0/72.0 kB 2.0 MB/s eta 0:00:00\n",
      "Downloading pillow-11.2.1-cp311-cp311-win_amd64.whl (2.7 MB)\n",
      "   ---------------------------------------- 0.0/2.7 MB ? eta -:--:--\n",
      "   -------------------------------- ------- 2.2/2.7 MB 70.4 MB/s eta 0:00:01\n",
      "   ---------------------------------------- 2.7/2.7 MB 34.2 MB/s eta 0:00:00\n",
      "Installing collected packages: pillow, kiwisolver, fonttools, cycler, contourpy, matplotlib\n",
      "Successfully installed contourpy-1.3.2 cycler-0.12.1 fonttools-4.57.0 kiwisolver-1.4.8 matplotlib-3.10.1 pillow-11.2.1\n",
      "Note: you may need to restart the kernel to use updated packages.\n"
     ]
    },
    {
     "name": "stderr",
     "output_type": "stream",
     "text": [
      "\n",
      "[notice] A new release of pip is available: 24.0 -> 25.0.1\n",
      "[notice] To update, run: C:\\Users\\glori\\AppData\\Local\\Microsoft\\WindowsApps\\PythonSoftwareFoundation.Python.3.11_qbz5n2kfra8p0\\python.exe -m pip install --upgrade pip\n"
     ]
    }
   ],
   "source": [
    "pip install matplotlib networkx"
   ]
  },
  {
   "cell_type": "code",
   "execution_count": 82,
   "id": "d129ab5b",
   "metadata": {},
   "outputs": [
    {
     "data": {
      "image/png": "[encoded data removed]",
      "text/plain": [
       "<Figure size 600x600 with 1 Axes>"
      ]
     },
     "metadata": {},
     "output_type": "display_data"
    }
   ],
   "source": [
    "import matplotlib.pyplot as plt\n",
    "from torch_geometric.utils import to_networkx\n",
    "import networkx as nx\n",
    "\n",
    "# Convert to NetworkX for visualization\n",
    "G = to_networkx(data)\n",
    "\n",
    "# Plot graph\n",
    "plt.figure(figsize=(6, 6))\n",
    "nx.draw(G, with_labels=True, node_color='lightblue', edge_color='gray')\n",
    "plt.title(\"Sample Multimodal Graph (1 CT scan)\")\n",
    "plt.show()\n"
   ]
  },
  {
   "cell_type": "markdown",
   "id": "6e8e7af8",
   "metadata": {},
   "source": [
    "# GNN Model"
   ]
  },
  {
   "cell_type": "markdown",
   "id": "8e707844",
   "metadata": {},
   "source": [
    "### GNN Model Definition"
   ]
  },
  {
   "cell_type": "code",
   "execution_count": 83,
   "id": "7dde70b0",
   "metadata": {},
   "outputs": [],
   "source": [
    "import torch\n",
    "import torch.nn.functional as F\n",
    "from torch.nn import Linear\n",
    "from torch_geometric.nn import GCNConv, global_max_pool\n",
    "\n",
    "class GCNGraphClassifier(torch.nn.Module):\n",
    "    def __init__(self, in_channels=512, hidden_channels=64, num_classes=4):\n",
    "        super().__init__()\n",
    "        self.conv1 = GCNConv(in_channels, hidden_channels)\n",
    "        self.conv2 = GCNConv(hidden_channels, hidden_channels)\n",
    "        self.lin = Linear(hidden_channels, num_classes)\n",
    "\n",
    "    def forward(self, x, edge_index, batch):\n",
    "        x = self.conv1(x, edge_index)\n",
    "        x = F.relu(x)\n",
    "        x = self.conv2(x, edge_index)\n",
    "        x = global_max_pool(x, batch)\n",
    "        return self.lin(x)\n"
   ]
  },
  {
   "cell_type": "markdown",
   "id": "2f18b1be",
   "metadata": {},
   "source": [
    "### Setup Model, Optimizer, and DataLoader"
   ]
  },
  {
   "cell_type": "code",
   "execution_count": 84,
   "id": "fe0963a2",
   "metadata": {},
   "outputs": [
    {
     "name": "stderr",
     "output_type": "stream",
     "text": [
      "C:\\Users\\glori\\AppData\\Local\\Packages\\PythonSoftwareFoundation.Python.3.11_qbz5n2kfra8p0\\LocalCache\\local-packages\\Python311\\site-packages\\torch_geometric\\deprecation.py:26: UserWarning: 'data.DataLoader' is deprecated, use 'loader.DataLoader' instead\n",
      "  warnings.warn(out)\n"
     ]
    }
   ],
   "source": [
    "from sklearn.model_selection import train_test_split\n",
    "\n",
    "# Extract true labels from the graph dataset\n",
    "labels = [data.y.item() for data in graph_dataset]\n",
    "\n",
    "# Perform a stratified train-test split\n",
    "train_idx, test_idx = train_test_split(\n",
    "    list(range(len(graph_dataset))),\n",
    "    test_size=0.2,\n",
    "    stratify=labels,\n",
    "    random_state=42\n",
    ")\n",
    "\n",
    "# Use these indices to select data\n",
    "train_dataset = [graph_dataset[i] for i in train_idx]\n",
    "test_dataset = [graph_dataset[i] for i in test_idx]\n",
    "\n",
    "# Define data loaders\n",
    "from torch_geometric.data import DataLoader\n",
    "train_loader = DataLoader(train_dataset, batch_size=8, shuffle=True)\n",
    "test_loader = DataLoader(test_dataset, batch_size=8)\n"
   ]
  },
  {
   "cell_type": "markdown",
   "id": "73a61d7c",
   "metadata": {},
   "source": [
    "### Training & Evaluation Functions"
   ]
  },
  {
   "cell_type": "code",
   "execution_count": 85,
   "id": "b4334b5f",
   "metadata": {},
   "outputs": [],
   "source": [
    "def train():\n",
    "    model.train()\n",
    "    total_loss = 0\n",
    "    for data in train_loader:\n",
    "        data = data.to(device)\n",
    "        optimizer.zero_grad()\n",
    "        out = model(data.x, data.edge_index, data.batch)\n",
    "        loss = criterion(out, data.y)\n",
    "        loss.backward()\n",
    "        optimizer.step()\n",
    "        total_loss += loss.item()\n",
    "    return total_loss / len(train_loader)\n",
    "\n",
    "def test(loader):\n",
    "    model.eval()\n",
    "    correct = 0\n",
    "    for data in loader:\n",
    "        data = data.to(device)\n",
    "        out = model(data.x, data.edge_index, data.batch)\n",
    "        pred = out.argmax(dim=1)\n",
    "        correct += (pred == data.y).sum().item()\n",
    "    return correct / len(loader.dataset)\n"
   ]
  },
  {
   "cell_type": "code",
   "execution_count": null,
   "id": "745739f3",
   "metadata": {},
   "outputs": [],
   "source": []
  },
  {
   "cell_type": "markdown",
   "id": "5d1ba4fb",
   "metadata": {},
   "source": [
    "## Evaluation"
   ]
  },
  {
   "cell_type": "code",
   "execution_count": 52,
   "id": "61cb801b",
   "metadata": {},
   "outputs": [
    {
     "data": {
      "image/png": "[encoded data removed]",
      "text/plain": [
       "<Figure size 600x600 with 2 Axes>"
      ]
     },
     "metadata": {},
     "output_type": "display_data"
    }
   ],
   "source": [
    "import torch\n",
    "from sklearn.metrics import confusion_matrix, ConfusionMatrixDisplay\n",
    "import matplotlib.pyplot as plt\n",
    "\n",
    "def plot_confusion_matrix(model, loader, class_names):\n",
    "    model.eval()\n",
    "    y_true = []\n",
    "    y_pred = []\n",
    "\n",
    "    with torch.no_grad():\n",
    "        for batch in loader:\n",
    "            out = model(batch.x, batch.edge_index, batch.batch)\n",
    "            pred = out.argmax(dim=1)\n",
    "            y_true.extend(batch.y.cpu().numpy())\n",
    "            y_pred.extend(pred.cpu().numpy())\n",
    "\n",
    "    cm = confusion_matrix(y_true, y_pred)\n",
    "\n",
    "    plt.figure(figsize=(6, 6))\n",
    "    disp = ConfusionMatrixDisplay(confusion_matrix=cm, display_labels=class_names)\n",
    "    disp.plot(cmap=\"Blues\", values_format='d', ax=plt.gca())\n",
    "    plt.title(\"Confusion Matrix\")\n",
    "    plt.grid(False)\n",
    "    plt.tight_layout()\n",
    "    plt.show()\n",
    "\n",
    "class_names = ['Normal', 'Cyst', 'Tumor', 'Stone']  # Adjust if needed\n",
    "plot_confusion_matrix(model, test_loader, class_names)\n"
   ]
  },
  {
   "cell_type": "code",
   "execution_count": 53,
   "id": "94e4e7ec",
   "metadata": {},
   "outputs": [
    {
     "data": {
      "image/png": "[encoded data removed]",
      "text/plain": [
       "<Figure size 800x600 with 1 Axes>"
      ]
     },
     "metadata": {},
     "output_type": "display_data"
    }
   ],
   "source": [
    "import torch\n",
    "from sklearn.metrics import roc_curve, auc\n",
    "from sklearn.preprocessing import label_binarize\n",
    "import matplotlib.pyplot as plt\n",
    "import numpy as np\n",
    "\n",
    "\n",
    "class_names = [\"Normal\", \"Cyst\", \"Tumor\", \"Stone\"]\n",
    "n_classes = len(class_names)\n",
    "\n",
    "# Collect predictions and labels\n",
    "model.eval()\n",
    "all_probs = []\n",
    "all_labels = []\n",
    "\n",
    "with torch.no_grad():\n",
    "    for data in test_loader:\n",
    "        data = data.to(device)\n",
    "        out = model(data.x, data.edge_index, data.batch)\n",
    "        probs = torch.softmax(out, dim=1).cpu().numpy()\n",
    "        labels = data.y.cpu().numpy()\n",
    "\n",
    "        all_probs.append(probs)\n",
    "        all_labels.extend(labels)\n",
    "\n",
    "# Convert to arrays\n",
    "all_probs = np.vstack(all_probs)\n",
    "all_labels = np.array(all_labels)\n",
    "\n",
    "# Binarize labels for multiclass ROC\n",
    "y_true_bin = label_binarize(all_labels, classes=np.arange(n_classes))\n",
    "\n",
    "# Compute ROC curve and AUC for each class\n",
    "fpr = dict()\n",
    "tpr = dict()\n",
    "roc_auc = dict()\n",
    "\n",
    "for i in range(n_classes):\n",
    "    fpr[i], tpr[i], _ = roc_curve(y_true_bin[:, i], all_probs[:, i])\n",
    "    roc_auc[i] = auc(fpr[i], tpr[i])\n",
    "\n",
    "# Plot all ROC curves\n",
    "plt.figure(figsize=(8, 6))\n",
    "for i in range(n_classes):\n",
    "    plt.plot(fpr[i], tpr[i], label=f\"{class_names[i]} (AUC = {roc_auc[i]:.2f})\")\n",
    "\n",
    "plt.plot([0, 1], [0, 1], \"k--\")\n",
    "plt.xlim([0.0, 1.0])\n",
    "plt.ylim([0.0, 1.05])\n",
    "plt.xlabel(\"False Positive Rate\")\n",
    "plt.ylabel(\"True Positive Rate\")\n",
    "plt.title(\"Multiclass ROC Curve\")\n",
    "plt.legend(loc=\"lower right\")\n",
    "plt.grid()\n",
    "plt.tight_layout()\n",
    "plt.show()\n"
   ]
  },
  {
   "cell_type": "code",
   "execution_count": 43,
   "id": "9dd537de",
   "metadata": {},
   "outputs": [
    {
     "name": "stdout",
     "output_type": "stream",
     "text": [
      "Epoch 01 | Loss: 0.0183 | Test Acc: 0.9984\n",
      "Epoch 02 | Loss: 0.0173 | Test Acc: 0.9739\n",
      "Epoch 03 | Loss: 0.0021 | Test Acc: 1.0000\n",
      "Epoch 04 | Loss: 0.0002 | Test Acc: 1.0000\n",
      "Epoch 05 | Loss: 0.0202 | Test Acc: 0.9996\n",
      "Epoch 06 | Loss: 0.0143 | Test Acc: 0.9992\n",
      "Epoch 07 | Loss: 0.0010 | Test Acc: 1.0000\n",
      "Epoch 08 | Loss: 0.0001 | Test Acc: 1.0000\n",
      "Epoch 09 | Loss: 0.0001 | Test Acc: 1.0000\n",
      "Epoch 10 | Loss: 0.0001 | Test Acc: 1.0000\n"
     ]
    }
   ],
   "source": [
    "train_losses = []\n",
    "\n",
    "for epoch in range(1, 11):\n",
    "    loss = train()\n",
    "    acc = test(test_loader)\n",
    "    train_losses.append(loss)\n",
    "    print(f\"Epoch {epoch:02d} | Loss: {loss:.4f} | Test Acc: {acc:.4f}\")\n"
   ]
  },
  {
   "cell_type": "code",
   "execution_count": 89,
   "id": "80d7647e",
   "metadata": {},
   "outputs": [
    {
     "name": "stdout",
     "output_type": "stream",
     "text": [
      "Epoch 01 | Loss: 1.5450 | Test Acc: 0.1100\n"
     ]
    }
   ],
   "source": [
    "for epoch in range(1, 2):\n",
    "    loss = train()\n",
    "    acc = test(test_loader)\n",
    "    print(f\"Epoch {epoch:02d} | Loss: {loss:.4f} | Test Acc: {acc:.4f}\")\n"
   ]
  },
  {
   "cell_type": "code",
   "execution_count": 54,
   "id": "4f7a29fe",
   "metadata": {},
   "outputs": [
    {
     "data": {
      "image/png": "[encoded data removed]",
      "text/plain": [
       "<Figure size 800x500 with 1 Axes>"
      ]
     },
     "metadata": {},
     "output_type": "display_data"
    }
   ],
   "source": [
    "import matplotlib.pyplot as plt\n",
    "\n",
    "plt.figure(figsize=(8, 5))\n",
    "plt.plot(range(1, len(train_losses) + 1), train_losses, marker='o')\n",
    "plt.xlabel(\"Epoch\")\n",
    "plt.ylabel(\"Training Loss\")\n",
    "plt.title(\"Training Loss Curve\")\n",
    "plt.grid(True)\n",
    "plt.tight_layout()\n",
    "plt.show()\n"
   ]
  }
 ],
 "metadata": {
  "kernelspec": {
   "display_name": "Python 3",
   "language": "python",
   "name": "python3"
  },
  "language_info": {
   "codemirror_mode": {
    "name": "ipython",
    "version": 3
   },
   "file_extension": ".py",
   "mimetype": "text/x-python",
   "name": "python",
   "nbconvert_exporter": "python",
   "pygments_lexer": "ipython3",
   "version": "3.11.9"
  }
 },
 "nbformat": 4,
 "nbformat_minor": 5
}
