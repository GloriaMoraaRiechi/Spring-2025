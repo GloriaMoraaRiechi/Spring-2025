{
  "cells": [
    {
      "cell_type": "markdown",
      "metadata": {
        "id": "view-in-github",
        "colab_type": "text"
      },
      "source": [
        "<a href=\"https://colab.research.google.com/github/GloriaMoraaRiechi/Spring-2025/blob/main/nlpFeatureExtractionHashing.ipynb\" target=\"_parent\"><img src=\"https://colab.research.google.com/assets/colab-badge.svg\" alt=\"Open In Colab\"/></a>"
      ]
    },
    {
      "cell_type": "markdown",
      "metadata": {
        "id": "2ypa0bF1IYdm"
      },
      "source": [
        "#NLP Feature Extraction:\n",
        "a) Apply HashingTF and IDF in Google Colab using PySPark using the shakespeare.txtdataset. (calculate DF, IDF, TF-IDF, search for specific keyword in the document)\n",
        "\n",
        "b) Apply Word2Vec in Google Colab using PySPark using the shakespeare.txt (get word vectors and find similarities) dataset"
      ]
    },
    {
      "cell_type": "markdown",
      "metadata": {
        "id": "p0htwAQIOBPw"
      },
      "source": [
        "#HashingTF and IDF"
      ]
    },
    {
      "cell_type": "markdown",
      "metadata": {
        "id": "XJsH6dyROtAy"
      },
      "source": [
        "They are components of the TF-IDF (Term Frequency-Inverse Document Frequency) algorithm, which is a popular technique used in natural language processing and machine learning for text analysis. They are available in the pyspark.ml.feature module.\n",
        "\n",
        "**HashingTF**\n",
        "\n",
        "A feature transformer that converts text into a fixed-length numerical vector using the hashing trick.\n",
        "\n",
        "**IDF(Inverse Document Frequency)**\n",
        "\n",
        "Scales term frequency by reducing the weight of frequently occuring words and increasing the importance of rare words. Used after HashingTF to normalize the term frequencies"
      ]
    },
    {
      "cell_type": "markdown",
      "metadata": {
        "id": "0i6x4Jf5Oq4J"
      },
      "source": []
    },
    {
      "cell_type": "code",
      "execution_count": null,
      "metadata": {
        "id": "PBDTuV23I2X9"
      },
      "outputs": [],
      "source": [
        "from pyspark.sql import SparkSession\n",
        "from pyspark.ml.feature import HashingTF, IDF, Tokenizer\n",
        "from pyspark.ml import Pipeline\n",
        "from pyspark.sql.functions import array_contains, col"
      ]
    },
    {
      "cell_type": "markdown",
      "metadata": {
        "id": "Je7LPl1PJC73"
      },
      "source": [
        "Initialize spark session"
      ]
    },
    {
      "cell_type": "code",
      "execution_count": null,
      "metadata": {
        "id": "AcQgOt6DJCR0"
      },
      "outputs": [],
      "source": [
        "spark = SparkSession.builder.appName(\"NLPFeatureExtractionHashingTF\").getOrCreate()\n"
      ]
    },
    {
      "cell_type": "markdown",
      "metadata": {
        "id": "Nm3ookhBKOa2"
      },
      "source": [
        "Load the data"
      ]
    },
    {
      "cell_type": "code",
      "execution_count": null,
      "metadata": {
        "colab": {
          "base_uri": "https://localhost:8080/",
          "height": 73
        },
        "id": "ulQVnXehIVn8",
        "outputId": "25b68004-5a21-4be1-fb25-51fa9967f753"
      },
      "outputs": [
        {
          "data": {
            "text/html": [
              "\n",
              "     <input type=\"file\" id=\"files-41bdaf09-7fca-4bc4-bc78-bb9f07a90a7f\" name=\"files[]\" multiple disabled\n",
              "        style=\"border:none\" />\n",
              "     <output id=\"result-41bdaf09-7fca-4bc4-bc78-bb9f07a90a7f\">\n",
              "      Upload widget is only available when the cell has been executed in the\n",
              "      current browser session. Please rerun this cell to enable.\n",
              "      </output>\n",
              "      <script>// Copyright 2017 Google LLC\n",
              "//\n",
              "// Licensed under the Apache License, Version 2.0 (the \"License\");\n",
              "// you may not use this file except in compliance with the License.\n",
              "// You may obtain a copy of the License at\n",
              "//\n",
              "//      http://www.apache.org/licenses/LICENSE-2.0\n",
              "//\n",
              "// Unless required by applicable law or agreed to in writing, software\n",
              "// distributed under the License is distributed on an \"AS IS\" BASIS,\n",
              "// WITHOUT WARRANTIES OR CONDITIONS OF ANY KIND, either express or implied.\n",
              "// See the License for the specific language governing permissions and\n",
              "// limitations under the License.\n",
              "\n",
              "/**\n",
              " * @fileoverview Helpers for google.colab Python module.\n",
              " */\n",
              "(function(scope) {\n",
              "function span(text, styleAttributes = {}) {\n",
              "  const element = document.createElement('span');\n",
              "  element.textContent = text;\n",
              "  for (const key of Object.keys(styleAttributes)) {\n",
              "    element.style[key] = styleAttributes[key];\n",
              "  }\n",
              "  return element;\n",
              "}\n",
              "\n",
              "// Max number of bytes which will be uploaded at a time.\n",
              "const MAX_PAYLOAD_SIZE = 100 * 1024;\n",
              "\n",
              "function _uploadFiles(inputId, outputId) {\n",
              "  const steps = uploadFilesStep(inputId, outputId);\n",
              "  const outputElement = document.getElementById(outputId);\n",
              "  // Cache steps on the outputElement to make it available for the next call\n",
              "  // to uploadFilesContinue from Python.\n",
              "  outputElement.steps = steps;\n",
              "\n",
              "  return _uploadFilesContinue(outputId);\n",
              "}\n",
              "\n",
              "// This is roughly an async generator (not supported in the browser yet),\n",
              "// where there are multiple asynchronous steps and the Python side is going\n",
              "// to poll for completion of each step.\n",
              "// This uses a Promise to block the python side on completion of each step,\n",
              "// then passes the result of the previous step as the input to the next step.\n",
              "function _uploadFilesContinue(outputId) {\n",
              "  const outputElement = document.getElementById(outputId);\n",
              "  const steps = outputElement.steps;\n",
              "\n",
              "  const next = steps.next(outputElement.lastPromiseValue);\n",
              "  return Promise.resolve(next.value.promise).then((value) => {\n",
              "    // Cache the last promise value to make it available to the next\n",
              "    // step of the generator.\n",
              "    outputElement.lastPromiseValue = value;\n",
              "    return next.value.response;\n",
              "  });\n",
              "}\n",
              "\n",
              "/**\n",
              " * Generator function which is called between each async step of the upload\n",
              " * process.\n",
              " * @param {string} inputId Element ID of the input file picker element.\n",
              " * @param {string} outputId Element ID of the output display.\n",
              " * @return {!Iterable<!Object>} Iterable of next steps.\n",
              " */\n",
              "function* uploadFilesStep(inputId, outputId) {\n",
              "  const inputElement = document.getElementById(inputId);\n",
              "  inputElement.disabled = false;\n",
              "\n",
              "  const outputElement = document.getElementById(outputId);\n",
              "  outputElement.innerHTML = '';\n",
              "\n",
              "  const pickedPromise = new Promise((resolve) => {\n",
              "    inputElement.addEventListener('change', (e) => {\n",
              "      resolve(e.target.files);\n",
              "    });\n",
              "  });\n",
              "\n",
              "  const cancel = document.createElement('button');\n",
              "  inputElement.parentElement.appendChild(cancel);\n",
              "  cancel.textContent = 'Cancel upload';\n",
              "  const cancelPromise = new Promise((resolve) => {\n",
              "    cancel.onclick = () => {\n",
              "      resolve(null);\n",
              "    };\n",
              "  });\n",
              "\n",
              "  // Wait for the user to pick the files.\n",
              "  const files = yield {\n",
              "    promise: Promise.race([pickedPromise, cancelPromise]),\n",
              "    response: {\n",
              "      action: 'starting',\n",
              "    }\n",
              "  };\n",
              "\n",
              "  cancel.remove();\n",
              "\n",
              "  // Disable the input element since further picks are not allowed.\n",
              "  inputElement.disabled = true;\n",
              "\n",
              "  if (!files) {\n",
              "    return {\n",
              "      response: {\n",
              "        action: 'complete',\n",
              "      }\n",
              "    };\n",
              "  }\n",
              "\n",
              "  for (const file of files) {\n",
              "    const li = document.createElement('li');\n",
              "    li.append(span(file.name, {fontWeight: 'bold'}));\n",
              "    li.append(span(\n",
              "        `(${file.type || 'n/a'}) - ${file.size} bytes, ` +\n",
              "        `last modified: ${\n",
              "            file.lastModifiedDate ? file.lastModifiedDate.toLocaleDateString() :\n",
              "                                    'n/a'} - `));\n",
              "    const percent = span('0% done');\n",
              "    li.appendChild(percent);\n",
              "\n",
              "    outputElement.appendChild(li);\n",
              "\n",
              "    const fileDataPromise = new Promise((resolve) => {\n",
              "      const reader = new FileReader();\n",
              "      reader.onload = (e) => {\n",
              "        resolve(e.target.result);\n",
              "      };\n",
              "      reader.readAsArrayBuffer(file);\n",
              "    });\n",
              "    // Wait for the data to be ready.\n",
              "    let fileData = yield {\n",
              "      promise: fileDataPromise,\n",
              "      response: {\n",
              "        action: 'continue',\n",
              "      }\n",
              "    };\n",
              "\n",
              "    // Use a chunked sending to avoid message size limits. See b/62115660.\n",
              "    let position = 0;\n",
              "    do {\n",
              "      const length = Math.min(fileData.byteLength - position, MAX_PAYLOAD_SIZE);\n",
              "      const chunk = new Uint8Array(fileData, position, length);\n",
              "      position += length;\n",
              "\n",
              "      const base64 = btoa(String.fromCharCode.apply(null, chunk));\n",
              "      yield {\n",
              "        response: {\n",
              "          action: 'append',\n",
              "          file: file.name,\n",
              "          data: base64,\n",
              "        },\n",
              "      };\n",
              "\n",
              "      let percentDone = fileData.byteLength === 0 ?\n",
              "          100 :\n",
              "          Math.round((position / fileData.byteLength) * 100);\n",
              "      percent.textContent = `${percentDone}% done`;\n",
              "\n",
              "    } while (position < fileData.byteLength);\n",
              "  }\n",
              "\n",
              "  // All done.\n",
              "  yield {\n",
              "    response: {\n",
              "      action: 'complete',\n",
              "    }\n",
              "  };\n",
              "}\n",
              "\n",
              "scope.google = scope.google || {};\n",
              "scope.google.colab = scope.google.colab || {};\n",
              "scope.google.colab._files = {\n",
              "  _uploadFiles,\n",
              "  _uploadFilesContinue,\n",
              "};\n",
              "})(self);\n",
              "</script> "
            ],
            "text/plain": [
              "<IPython.core.display.HTML object>"
            ]
          },
          "metadata": {},
          "output_type": "display_data"
        },
        {
          "name": "stdout",
          "output_type": "stream",
          "text": [
            "Saving shakespeare.txt to shakespeare.txt\n"
          ]
        }
      ],
      "source": [
        "from google.colab import files\n",
        "\n",
        "# Upload the file\n",
        "uploaded = files.upload()\n",
        "\n",
        "# Get the uploaded file name\n",
        "file_name = list(uploaded.keys())[0]\n",
        "\n",
        "# Read the file\n",
        "data = spark.read.csv(file_name, header=False, inferSchema=True, sep=\"\\t\")\n"
      ]
    },
    {
      "cell_type": "markdown",
      "metadata": {
        "id": "Fw0cQZ1vKRMv"
      },
      "source": []
    },
    {
      "cell_type": "code",
      "execution_count": null,
      "metadata": {
        "colab": {
          "base_uri": "https://localhost:8080/"
        },
        "id": "vEeSTZIdKMfj",
        "outputId": "7b9965ae-fa63-42ba-eecd-51235f6af176"
      },
      "outputs": [
        {
          "name": "stdout",
          "output_type": "stream",
          "text": [
            "+-------------------------------------------------------------------+\n",
            "|value                                                              |\n",
            "+-------------------------------------------------------------------+\n",
            "|This is the 100th Etext file presented by Project Gutenberg, and   |\n",
            "|is presented in cooperation with World Library, Inc., from their   |\n",
            "|Library of the Future and Shakespeare CDROMS.  Project Gutenberg   |\n",
            "|often releases Etexts that are NOT placed in the Public Domain!!   |\n",
            "|Shakespeare                                                        |\n",
            "|*This Etext has certain copyright implications you should read!*   |\n",
            "|<<THIS ELECTRONIC VERSION OF THE COMPLETE WORKS OF WILLIAM         |\n",
            "|SHAKESPEARE IS COPYRIGHT 1990-1993 BY WORLD LIBRARY, INC., AND IS  |\n",
            "|PROVIDED BY PROJECT GUTENBERG ETEXT OF ILLINOIS BENEDICTINE COLLEGE|\n",
            "|WITH PERMISSION.  ELECTRONIC AND MACHINE READABLE COPIES MAY BE    |\n",
            "+-------------------------------------------------------------------+\n",
            "only showing top 10 rows\n",
            "\n",
            "root\n",
            " |-- value: string (nullable = true)\n",
            "\n"
          ]
        }
      ],
      "source": [
        "data = data.withColumnRenamed(\"_c0\", \"value\")\n",
        "data.show(10, truncate=False)\n",
        "data.printSchema()"
      ]
    },
    {
      "cell_type": "markdown",
      "metadata": {
        "id": "tmK6e4g-KsXj"
      },
      "source": [
        "Split the sentences into individual words"
      ]
    },
    {
      "cell_type": "code",
      "execution_count": null,
      "metadata": {
        "colab": {
          "base_uri": "https://localhost:8080/"
        },
        "id": "V1bFzYnSK09D",
        "outputId": "e90ce841-4d4f-4cba-faad-569e23b6c9ef"
      },
      "outputs": [
        {
          "name": "stdout",
          "output_type": "stream",
          "text": [
            "+----------------------------------------------------------------+----------------------------------------------------------------------------+\n",
            "|value                                                           |words                                                                       |\n",
            "+----------------------------------------------------------------+----------------------------------------------------------------------------+\n",
            "|This is the 100th Etext file presented by Project Gutenberg, and|[this, is, the, 100th, etext, file, presented, by, project, gutenberg,, and]|\n",
            "|is presented in cooperation with World Library, Inc., from their|[is, presented, in, cooperation, with, world, library,, inc.,, from, their] |\n",
            "|Library of the Future and Shakespeare CDROMS.  Project Gutenberg|[library, of, the, future, and, shakespeare, cdroms., , project, gutenberg] |\n",
            "|often releases Etexts that are NOT placed in the Public Domain!!|[often, releases, etexts, that, are, not, placed, in, the, public, domain!!]|\n",
            "|Shakespeare                                                     |[shakespeare]                                                               |\n",
            "+----------------------------------------------------------------+----------------------------------------------------------------------------+\n",
            "only showing top 5 rows\n",
            "\n"
          ]
        }
      ],
      "source": [
        "# creates a new column \"words\"\n",
        "tokenizer = Tokenizer(inputCol=\"value\", outputCol=\"words\")\n",
        "tokenizedData = tokenizer.transform(data)\n",
        "tokenizedData.select(\"value\", \"words\").show(5, truncate=False)"
      ]
    },
    {
      "cell_type": "markdown",
      "metadata": {
        "id": "ypop4J7mLNur"
      },
      "source": [
        "Convert the words into a fixed length numerical factor"
      ]
    },
    {
      "cell_type": "code",
      "execution_count": null,
      "metadata": {
        "colab": {
          "base_uri": "https://localhost:8080/"
        },
        "id": "5q4vq5JULxlt",
        "outputId": "d8001e34-61f2-44a0-c3c4-b65a85c9f650"
      },
      "outputs": [
        {
          "name": "stdout",
          "output_type": "stream",
          "text": [
            "+-----------------------------------------------------------------------------+---------------------------------------------------------------------------------------------------------+\n",
            "|words                                                                        |rawFeatures                                                                                              |\n",
            "+-----------------------------------------------------------------------------+---------------------------------------------------------------------------------------------------------+\n",
            "|[this, is, the, 100th, etext, file, presented, by, project, gutenberg,, and] |(1000,[17,108,115,209,230,313,373,488,581,716,891],[1.0,1.0,1.0,1.0,1.0,1.0,1.0,1.0,1.0,1.0,1.0])        |\n",
            "|[is, presented, in, cooperation, with, world, library,, inc.,, from, their]  |(1000,[115,209,360,588,643,650,663,738,921,967],[1.0,1.0,1.0,1.0,1.0,1.0,1.0,1.0,1.0,1.0])               |\n",
            "|[library, of, the, future, and, shakespeare, cdroms., , project, gutenberg]  |(1000,[17,230,236,372,488,495,635,803,808,891],[1.0,1.0,1.0,1.0,1.0,1.0,1.0,1.0,1.0,1.0])                |\n",
            "|[often, releases, etexts, that, are, not, placed, in, the, public, domain!!] |(1000,[7,17,30,405,453,515,663,760,763,770,792],[1.0,1.0,1.0,1.0,1.0,1.0,1.0,1.0,1.0,1.0,1.0])           |\n",
            "|[shakespeare]                                                                |(1000,[635],[1.0])                                                                                       |\n",
            "|[*this, etext, has, certain, copyright, implications, you, should, read!*]   |(1000,[66,288,338,408,541,649,692,716,905],[1.0,1.0,1.0,1.0,1.0,1.0,1.0,1.0,1.0])                        |\n",
            "|[<<this, electronic, version, of, the, complete, works, of, william]         |(1000,[17,308,353,485,495,751,930,992],[1.0,1.0,1.0,1.0,2.0,1.0,1.0,1.0])                                |\n",
            "|[shakespeare, is, copyright, 1990-1993, by, world, library,, inc.,, and, is] |(1000,[209,234,360,581,588,635,643,891,905],[2.0,1.0,1.0,1.0,1.0,1.0,1.0,1.0,1.0])                       |\n",
            "|[provided, by, project, gutenberg, etext, of, illinois, benedictine, college]|(1000,[57,103,230,236,491,495,581,716,731],[1.0,1.0,1.0,1.0,1.0,1.0,1.0,1.0,1.0])                        |\n",
            "|[with, permission., , electronic, and, machine, readable, copies, may, be]   |(1000,[40,160,275,308,372,423,535,650,855,891],[1.0,1.0,1.0,1.0,1.0,1.0,1.0,1.0,1.0,1.0])                |\n",
            "|[distributed, so, long, as, such, copies, (1), are, for, your, or, others]   |(1000,[33,263,272,275,344,403,662,741,749,763,904,940],[1.0,1.0,1.0,1.0,1.0,1.0,1.0,1.0,1.0,1.0,1.0,1.0])|\n",
            "|[personal, use, only,, and, (2), are, not, distributed, or, used]            |(1000,[133,405,605,662,741,763,808,862,891,939],[1.0,1.0,1.0,1.0,1.0,1.0,1.0,1.0,1.0,1.0])               |\n",
            "|[commercially., , prohibited, commercial, distribution, includes, by, any]   |(1000,[15,324,372,443,581,669,798,852],[1.0,1.0,1.0,1.0,1.0,1.0,1.0,1.0])                                |\n",
            "|[service, that, charges, for, download, time, or, for, membership.>>]        |(1000,[80,122,157,252,344,741,760,984],[1.0,1.0,1.0,1.0,2.0,1.0,1.0,1.0])                                |\n",
            "|[*project, gutenberg, is, proud, to, cooperate, with, the, world, library*]  |(1000,[17,209,236,323,360,488,650,654,796,821],[1.0,1.0,1.0,1.0,1.0,1.0,1.0,1.0,1.0,1.0])                |\n",
            "|[in, the, presentation, of, the, complete, works, of, william, shakespeare]  |(1000,[17,170,353,485,495,635,663,992],[2.0,1.0,1.0,1.0,2.0,1.0,1.0,1.0])                                |\n",
            "|[for, your, reading, for, education, and, entertainment., , however,, this]  |(1000,[178,263,289,344,372,373,526,530,891],[1.0,1.0,1.0,2.0,1.0,1.0,1.0,1.0,1.0])                       |\n",
            "|[is, neither, shareware, nor, public, domain., ., .and, under, the, library] |(1000,[17,65,209,264,693,734,761,770,802,803,828],[1.0,1.0,1.0,1.0,1.0,1.0,1.0,1.0,1.0,1.0,1.0])         |\n",
            "|[of, the, future, conditions, of, this, presentation., ., .no, charges, may] |(1000,[4,17,122,160,373,488,495,571,678,828],[1.0,1.0,1.0,1.0,1.0,1.0,2.0,1.0,1.0,1.0])                  |\n",
            "|[be, made, for, *any*, access, to, this, material., , you, are, encouraged!!]|(1000,[338,344,372,373,430,488,616,763,799,813,855],[1.0,2.0,1.0,1.0,1.0,1.0,1.0,1.0,1.0,1.0,1.0])       |\n",
            "+-----------------------------------------------------------------------------+---------------------------------------------------------------------------------------------------------+\n",
            "only showing top 20 rows\n",
            "\n"
          ]
        }
      ],
      "source": [
        "hashingTF = HashingTF(inputCol=\"words\", outputCol=\"rawFeatures\", numFeatures=1000)\n",
        "hashedData = hashingTF.transform(tokenizedData)\n",
        "hashedData.select(\"words\", \"rawFeatures\").show(truncate=False)"
      ]
    },
    {
      "cell_type": "markdown",
      "metadata": {
        "id": "ky-sBcXrL8E_"
      },
      "source": [
        " Apply inverse document frequency (determines how important a word is by computing the term frequency inverse document frequency)\n"
      ]
    },
    {
      "cell_type": "code",
      "execution_count": null,
      "metadata": {
        "id": "o1J0y53zL96D"
      },
      "outputs": [],
      "source": [
        "idf = IDF(inputCol=\"rawFeatures\", outputCol=\"features\")"
      ]
    },
    {
      "cell_type": "code",
      "execution_count": null,
      "metadata": {
        "colab": {
          "base_uri": "https://localhost:8080/"
        },
        "id": "-yCLLbglMHYa",
        "outputId": "b18bdedb-706f-40d5-fb33-723488beae36"
      },
      "outputs": [
        {
          "name": "stdout",
          "output_type": "stream",
          "text": [
            "+-----------------------------------------------------------------------------+-----------------------------------------------------------------------------------------------------------------------------------------------------------------------------------------------------------------------------------------------------------------------------------+\n",
            "|words                                                                        |features                                                                                                                                                                                                                                                                           |\n",
            "+-----------------------------------------------------------------------------+-----------------------------------------------------------------------------------------------------------------------------------------------------------------------------------------------------------------------------------------------------------------------------------+\n",
            "|[this, is, the, 100th, etext, file, presented, by, project, gutenberg,, and] |(1000,[17,108,115,209,230,313,373,488,581,716,891],[1.4980982149178739,6.4206131069772265,5.375078234490169,2.538112540815402,5.010539554091221,4.805841848567764,2.955044330441781,1.8446900071133143,3.225547930802744,5.325572250676713,1.5061903604809945])                    |\n",
            "|[is, presented, in, cooperation, with, world, library,, inc.,, from, their]  |(1000,[115,209,360,588,643,650,663,738,921,967],[5.375078234490169,2.538112540815402,4.607688826557128,3.438069020801814,3.852788413790596,2.6502522438831213,2.3933533828450484,5.293879457323714,3.6847882254269733,3.83974829420979])                                           |\n",
            "|[library, of, the, future, and, shakespeare, cdroms., , project, gutenberg]  |(1000,[17,230,236,372,488,495,635,803,808,891],[1.4980982149178739,5.010539554091221,5.4212402762533305,0.041397352874451745,1.8446900071133143,1.8906045125874118,5.1686143723746145,5.6355645641334595,4.688531737961575,1.5061903604809945])                                    |\n",
            "|[often, releases, etexts, that, are, not, placed, in, the, public, domain!!] |(1000,[7,17,30,405,453,515,663,760,763,770,792],[5.40561495835025,1.4980982149178739,5.498989029127708,2.6642749344146326,5.555897161399588,6.710079301222509,2.3933533828450484,2.3684097393998074,3.3290846268778727,4.32459843157252,5.751824370249321])                        |\n",
            "|[shakespeare]                                                                |(1000,[635],[5.1686143723746145])                                                                                                                                                                                                                                                  |\n",
            "|[*this, etext, has, certain, copyright, implications, you, should, read!*]   |(1000,[66,288,338,408,541,649,692,716,905],[5.225233266374122,5.5902648049037955,2.4450882137869567,6.142333387203836,4.236546614218518,6.196400608474112,5.7355196612243775,5.325572250676713,5.44112164680716])                                                                  |\n",
            "|[<<this, electronic, version, of, the, complete, works, of, william]         |(1000,[17,308,353,485,495,751,930,992],[1.4980982149178739,5.073860366110766,5.382625440125551,3.848286666879645,3.7812090251748236,4.494765359216176,5.343623282322282,4.2689752740929015])                                                                                       |\n",
            "|[shakespeare, is, copyright, 1990-1993, by, world, library,, inc.,, and, is] |(1000,[209,234,360,581,588,635,643,891,905],[5.076225081630804,4.618215239544115,4.607688826557128,3.225547930802744,3.438069020801814,5.1686143723746145,3.852788413790596,1.5061903604809945,5.44112164680716])                                                                  |\n",
            "|[provided, by, project, gutenberg, etext, of, illinois, benedictine, college]|(1000,[57,103,230,236,491,495,581,716,731],[4.6707159831100835,4.59210409554043,5.010539554091221,5.4212402762533305,5.367587562761011,1.8906045125874118,3.225547930802744,5.325572250676713,5.1459376637035845])                                                                 |\n",
            "|[with, permission., , electronic, and, machine, readable, copies, may, be]   |(1000,[40,160,275,308,372,423,535,650,855,891],[4.862749980839642,3.9478115142155015,4.7509910597866405,5.073860366110766,0.041397352874451745,4.801595557686312,4.310886169708538,2.6502522438831213,2.6739441250863316,1.5061903604809945])                                      |\n",
            "|[distributed, so, long, as, such, copies, (1), are, for, your, or, others]   |(1000,[33,263,272,275,344,403,662,741,749,763,904,940],[5.413397098792305,2.6427634113883274,4.133657542598735,4.7509910597866405,2.552201186960874,3.104969730174031,4.686641378230406,3.515203471716521,3.058864628494586,3.3290846268778727,5.09069105793524,4.975898502196965])|\n",
            "|[personal, use, only,, and, (2), are, not, distributed, or, used]            |(1000,[133,405,605,662,741,763,808,862,891,939],[3.878127256471619,2.6642749344146326,2.9067557127177035,4.686641378230406,3.515203471716521,3.3290846268778727,4.688531737961575,4.193535566491326,1.5061903604809945,4.26835357683943])                                          |\n",
            "|[commercially., , prohibited, commercial, distribution, includes, by, any]   |(1000,[15,324,372,443,581,669,798,852],[4.982223633973934,5.583296135587703,0.041397352874451745,4.993710677961064,3.225547930802744,4.5878177623597445,4.742966944516592,5.39214025976689])                                                                                       |\n",
            "|[service, that, charges, for, download, time, or, for, membership.>>]        |(1000,[80,122,157,252,344,741,760,984],[4.552519980278721,5.373200299665968,3.955054642305351,5.139976394187085,5.104402373921748,3.515203471716521,2.3684097393998074,5.378844717285645])                                                                                         |\n",
            "|[*project, gutenberg, is, proud, to, cooperate, with, the, world, library*]  |(1000,[17,209,236,323,360,488,650,654,796,821],[1.4980982149178739,2.538112540815402,5.4212402762533305,4.692323211697837,4.607688826557128,1.8446900071133143,2.6502522438831213,5.964746367491993,5.23172679568467,5.187133420141851])                                           |\n",
            "|[in, the, presentation, of, the, complete, works, of, william, shakespeare]  |(1000,[17,170,353,485,495,635,663,992],[2.9961964298357477,5.843579233851369,5.382625440125551,3.848286666879645,3.7812090251748236,5.1686143723746145,2.3933533828450484,4.2689752740929015])                                                                                     |\n",
            "|[for, your, reading, for, education, and, entertainment., , however,, this]  |(1000,[178,263,289,344,372,373,526,530,891],[5.480021126420898,2.6427634113883274,4.228153279572646,5.104402373921748,0.041397352874451745,2.955044330441781,3.3386050210125595,5.640454549427651,1.5061903604809945])                                                             |\n",
            "|[is, neither, shareware, nor, public, domain., ., .and, under, the, library] |(1000,[17,65,209,264,693,734,761,770,802,803,828],[1.4980982149178739,5.660257176723831,2.538112540815402,5.672835958930691,5.314895992685372,5.309600305110662,6.564125388599429,4.32459843157252,4.313483573766224,5.6355645641334595,5.8834007280380405])                       |\n",
            "|[of, the, future, conditions, of, this, presentation., ., .no, charges, may] |(1000,[4,17,122,160,373,488,495,571,678,828],[4.725144690609088,1.4980982149178739,5.373200299665968,3.9478115142155015,2.955044330441781,1.8446900071133143,3.7812090251748236,6.179451050160338,5.527038332937608,5.8834007280380405])                                           |\n",
            "|[be, made, for, *any*, access, to, this, material., , you, are, encouraged!!]|(1000,[338,344,372,373,430,488,616,763,799,813,855],[2.4450882137869567,5.104402373921748,0.041397352874451745,2.955044330441781,4.929091928976365,1.8446900071133143,6.10654427935225,3.3290846268778727,5.971549114814746,5.486303869600393,2.6739441250863316])                 |\n",
            "+-----------------------------------------------------------------------------+-----------------------------------------------------------------------------------------------------------------------------------------------------------------------------------------------------------------------------------------------------------------------------------+\n",
            "only showing top 20 rows\n",
            "\n"
          ]
        }
      ],
      "source": [
        "idfModel = idf.fit(hashedData) # fit the IDF model on the hashed data\n",
        "idfData = idfModel.transform(hashedData)\n",
        "idfData.select(\"words\", \"features\").show(truncate=False)\n"
      ]
    },
    {
      "cell_type": "code",
      "execution_count": null,
      "metadata": {
        "id": "tZiQGqogMRFw"
      },
      "outputs": [],
      "source": [
        "# Combine all the transformations into a single workflow\n",
        "pipeline = Pipeline(stages=[tokenizer, hashingTF, idf])\n"
      ]
    },
    {
      "cell_type": "code",
      "execution_count": null,
      "metadata": {
        "colab": {
          "base_uri": "https://localhost:8080/"
        },
        "id": "lLy_L1w7MUAL",
        "outputId": "de118284-85f5-443a-a094-1427f041ef9f"
      },
      "outputs": [
        {
          "name": "stdout",
          "output_type": "stream",
          "text": [
            "+----------------------------------------------------------------+---------------------------------------------------------------------------------------------------------------------------------------------------------------------------------------------------------------------------------------------------------------+\n",
            "|value                                                           |features                                                                                                                                                                                                                                                       |\n",
            "+----------------------------------------------------------------+---------------------------------------------------------------------------------------------------------------------------------------------------------------------------------------------------------------------------------------------------------------+\n",
            "|This is the 100th Etext file presented by Project Gutenberg, and|(1000,[17,108,115,209,230,313,373,488,581,716,891],[1.4980982149178739,6.4206131069772265,5.375078234490169,2.538112540815402,5.010539554091221,4.805841848567764,2.955044330441781,1.8446900071133143,3.225547930802744,5.325572250676713,1.5061903604809945])|\n",
            "|is presented in cooperation with World Library, Inc., from their|(1000,[115,209,360,588,643,650,663,738,921,967],[5.375078234490169,2.538112540815402,4.607688826557128,3.438069020801814,3.852788413790596,2.6502522438831213,2.3933533828450484,5.293879457323714,3.6847882254269733,3.83974829420979])                       |\n",
            "|Library of the Future and Shakespeare CDROMS.  Project Gutenberg|(1000,[17,230,236,372,488,495,635,803,808,891],[1.4980982149178739,5.010539554091221,5.4212402762533305,0.041397352874451745,1.8446900071133143,1.8906045125874118,5.1686143723746145,5.6355645641334595,4.688531737961575,1.5061903604809945])                |\n",
            "|often releases Etexts that are NOT placed in the Public Domain!!|(1000,[7,17,30,405,453,515,663,760,763,770,792],[5.40561495835025,1.4980982149178739,5.498989029127708,2.6642749344146326,5.555897161399588,6.710079301222509,2.3933533828450484,2.3684097393998074,3.3290846268778727,4.32459843157252,5.751824370249321])    |\n",
            "|Shakespeare                                                     |(1000,[635],[5.1686143723746145])                                                                                                                                                                                                                              |\n",
            "+----------------------------------------------------------------+---------------------------------------------------------------------------------------------------------------------------------------------------------------------------------------------------------------------------------------------------------------+\n",
            "only showing top 5 rows\n",
            "\n"
          ]
        }
      ],
      "source": [
        "# Fit and transform the data\n",
        "model = pipeline.fit(data)\n",
        "result = model.transform(data)\n",
        "result.select(\"value\", \"features\").show(5, truncate=False)"
      ]
    },
    {
      "cell_type": "code",
      "execution_count": null,
      "metadata": {
        "colab": {
          "base_uri": "https://localhost:8080/"
        },
        "id": "252lQ6h7MXOi",
        "outputId": "d0d5a421-fd69-44e2-de72-92d27872a7e6"
      },
      "outputs": [
        {
          "name": "stdout",
          "output_type": "stream",
          "text": [
            "+---------------------------------------------------------------------+-----------------------------------------------------------------------------------------+------------------------------------------------------------------------------------------------------------------------------+--------------------------------------------------------------------------------------------------------------------------------------------------------------------------------------------------------------------------------------------------------------------------------------------------------------------------------------------------------+\n",
            "|value                                                                |words                                                                                    |rawFeatures                                                                                                                   |features                                                                                                                                                                                                                                                                                                                                                |\n",
            "+---------------------------------------------------------------------+-----------------------------------------------------------------------------------------+------------------------------------------------------------------------------------------------------------------------------+--------------------------------------------------------------------------------------------------------------------------------------------------------------------------------------------------------------------------------------------------------------------------------------------------------------------------------------------------------+\n",
            "|  And yet love knows it is a greater grief                           |[, , and, yet, love, knows, it, is, a, greater, grief]                                   |(1000,[18,24,37,209,240,322,372,467,686,891],[1.0,1.0,1.0,1.0,1.0,1.0,2.0,1.0,1.0,1.0])                                       |(1000,[18,24,37,209,240,322,372,467,686,891],[5.805282948774089,5.560411841754115,4.339168225729215,2.538112540815402,4.310886169708538,5.42321072024063,0.08279470574890349,2.156954572124522,2.9460592450353866,1.5061903604809945])                                                                                                                  |\n",
            "|    My grief lies onward and my joy behind.                          |[, , , , my, grief, lies, onward, and, my, joy, behind.]                                 |(1000,[18,230,271,372,568,645,802,891],[1.0,1.0,1.0,4.0,2.0,1.0,1.0,1.0])                                                     |(1000,[18,230,271,372,568,645,802,891],[5.805282948774089,5.010539554091221,6.213642414908618,0.16558941149780698,4.507149729662212,5.544698836089559,4.313483573766224,1.5061903604809945])                                                                                                                                                            |\n",
            "|    grief the enemy to the living.                                   |[, , , , grief, the, enemy, to, the, living.]                                            |(1000,[17,18,308,372,488,687],[2.0,1.0,1.0,4.0,1.0,1.0])                                                                      |(1000,[17,18,308,372,488,687],[2.9961964298357477,5.805282948774089,5.073860366110766,0.16558941149780698,1.8446900071133143,4.8994513476900705])                                                                                                                                                                                                       |\n",
            "|    I have felt so many quirks of joy and grief                      |[, , , , i, have, felt, so, many, quirks, of, joy, and, grief]                           |(1000,[18,188,299,372,403,495,645,673,756,836,891],[1.0,1.0,1.0,4.0,1.0,1.0,1.0,1.0,1.0,1.0,1.0])                             |(1000,[18,188,299,372,403,495,645,673,756,836,891],[5.805282948774089,4.557486877907057,2.9239435103487614,0.16558941149780698,3.104969730174031,1.8906045125874118,5.544698836089559,5.190253547478095,1.755107740238857,5.078041556871167,1.5061903604809945])                                                                                        |\n",
            "|    Grief would have tears, and sorrow bids me speak.     Exeunt     |[, , , , grief, would, have, tears,, and, sorrow, bids, me, speak., , , , , exeunt]      |(1000,[18,100,299,336,369,372,407,433,750,891,911],[1.0,1.0,1.0,1.0,1.0,8.0,1.0,1.0,1.0,1.0,1.0])                             |(1000,[18,100,299,336,369,372,407,433,750,891,911],[5.805282948774089,5.239903456121916,2.9239435103487614,5.675370814533879,3.1551394863196998,0.33117882299561396,3.7265642116071094,4.58184759537324,4.390496631859891,1.5061903604809945,3.8950983892929547])                                                                                       |\n",
            "|    and the case to be lamented. This grief is crown'd with          |[, , , , and, the, case, to, be, lamented., this, grief, is, crown'd, with]              |(1000,[17,18,209,342,362,372,373,488,644,650,855,891],[1.0,1.0,1.0,1.0,1.0,4.0,1.0,1.0,1.0,1.0,1.0,1.0])                      |(1000,[17,18,209,342,362,372,373,488,644,650,855,891],[1.4980982149178739,5.805282948774089,2.538112540815402,5.0822403034175165,5.302582732452015,0.16558941149780698,2.955044330441781,1.8446900071133143,5.5902648049037955,2.6502522438831213,2.6739441250863316,1.5061903604809945])                                                               |\n",
            "|    By the rebound of yours, a grief that smites                     |[, , , , by, the, rebound, of, yours,, a, grief, that, smites]                           |(1000,[17,18,300,372,467,495,581,658,760,937],[1.0,1.0,1.0,4.0,1.0,1.0,1.0,1.0,1.0,1.0])                                      |(1000,[17,18,300,372,467,495,581,658,760,937],[1.4980982149178739,5.805282948774089,5.985295035719381,0.16558941149780698,2.156954572124522,1.8906045125874118,3.225547930802744,6.3093874718670016,2.3684097393998074,6.08720131650912])                                                                                                               |\n",
            "|    If you do sorrow at my grief in love,                            |[, , , , if, you, do, sorrow, at, my, grief, in, love,]                                  |(1000,[18,162,226,338,372,433,568,601,663,824],[1.0,1.0,1.0,1.0,4.0,1.0,1.0,1.0,1.0,1.0])                                     |(1000,[18,162,226,338,372,433,568,601,663,824],[5.805282948774089,3.7720518092275235,3.46553572960573,2.4450882137869567,0.16558941149780698,4.58184759537324,2.253574864831106,4.425512713731141,2.3933533828450484,3.4192815653614765])                                                                                                               |\n",
            "|    By giving love, your sorrow and my grief                         |[, , , , by, giving, love,, your, sorrow, and, my, grief]                                |(1000,[18,263,372,433,568,581,601,891,903],[1.0,1.0,4.0,1.0,1.0,1.0,1.0,1.0,1.0])                                             |(1000,[18,263,372,433,568,581,601,891,903],[5.805282948774089,2.6427634113883274,0.16558941149780698,4.58184759537324,2.253574864831106,3.225547930802744,4.425512713731141,1.5061903604809945,6.110458178673387])                                                                                                                                      |\n",
            "|AEGEON. O! grief hath chang'd me since you saw me last;              |[aegeon., o!, grief, hath, chang'd, me, since, you, saw, me, last;]                      |(1000,[18,83,117,287,306,338,369,503,790,975],[1.0,1.0,1.0,1.0,1.0,1.0,2.0,1.0,1.0,1.0])                                      |(1000,[18,83,117,287,306,338,369,503,790,975],[5.805282948774089,4.924289998980957,5.243192932772315,4.871799816359561,3.9455587536322376,2.4450882137869567,6.3102789726393995,4.687586111413568,5.553647441665572,5.5717885287362225])                                                                                                                |\n",
            "|    out of weak surmises, but from proof as strong as my grief and as|[, , , , out, of, weak, surmises,, but, from, proof, as, strong, as, my, grief, and, as] |(1000,[18,228,355,372,495,500,568,577,605,749,754,891,921],[1.0,1.0,1.0,4.0,1.0,1.0,1.0,1.0,1.0,3.0,1.0,1.0,1.0])             |(1000,[18,228,355,372,495,500,568,577,605,749,754,891,921],[5.805282948774089,5.8405807308551125,5.365723629322948,0.16558941149780698,1.8906045125874118,5.834610563868608,2.253574864831106,5.473777609781212,2.9067557127177035,9.176593885483758,4.469369611946551,1.5061903604809945,3.6847882254269733])                                          |\n",
            "|    That grief and patience, rooted in him both,                     |[, , , , that, grief, and, patience,, rooted, in, him, both,]                            |(1000,[18,84,204,372,594,663,760,891,945],[1.0,1.0,1.0,4.0,1.0,1.0,1.0,1.0,1.0])                                              |(1000,[18,84,204,372,594,663,760,891,945],[5.805282948774089,3.5552088063302203,5.164037705347202,0.16558941149780698,4.409639364574851,2.3933533828450484,2.3684097393998074,1.5061903604809945,5.327362761450502])                                                                                                                                    |\n",
            "|    Is jollity for apes and grief for boys.                          |[, , , , is, jollity, for, apes, and, grief, for, boys.]                                 |(1000,[18,81,126,209,344,372,487,891],[1.0,1.0,1.0,1.0,2.0,4.0,1.0,1.0])                                                      |(1000,[18,81,126,209,344,372,487,891],[5.805282948774089,6.14639018789945,5.021038338189441,2.538112540815402,5.104402373921748,0.16558941149780698,5.6932970308020305,1.5061903604809945])                                                                                                                                                             |\n",
            "|    More grief to hide than hate to utter love.                      |[, , , , more, grief, to, hide, than, hate, to, utter, love.]                            |(1000,[3,18,69,261,357,372,488,629,667],[1.0,1.0,1.0,1.0,1.0,4.0,2.0,1.0,1.0])                                                |(1000,[3,18,69,261,357,372,488,629,667],[5.206001904446235,5.805282948774089,5.376959702589874,4.0001261499742125,5.248147525896997,0.16558941149780698,3.6893800142266286,4.035438162251428,5.285251276100375])                                                                                                                                        |\n",
            "|    The origin and commencement of his grief                         |[, , , , the, origin, and, commencement, of, his, grief]                                 |(1000,[17,18,372,495,598,840,891,950],[1.0,1.0,4.0,1.0,1.0,1.0,1.0,1.0])                                                      |(1000,[17,18,372,495,598,840,891,950],[1.4980982149178739,5.805282948774089,0.16558941149780698,1.8906045125874118,6.166924790341158,2.8101288770286317,1.5061903604809945,6.024100610141176])                                                                                                                                                          |\n",
            "|      The violence of either grief or joy                            |[, , , , , , the, violence, of, either, grief, or, joy]                                  |(1000,[17,18,126,372,495,645,706,741],[1.0,1.0,1.0,6.0,1.0,1.0,1.0,1.0])                                                      |(1000,[17,18,126,372,495,645,706,741],[1.4980982149178739,5.805282948774089,5.021038338189441,0.24838411724671047,1.8906045125874118,5.544698836089559,6.154553498538611,3.515203471716521])                                                                                                                                                            |\n",
            "|      Where joy most revels, grief doth most lament;                 |[, , , , , , where, joy, most, revels,, grief, doth, most, lament;]                      |(1000,[18,372,572,595,645,718,770,992],[1.0,6.0,1.0,1.0,1.0,1.0,2.0,1.0])                                                     |(1000,[18,372,572,595,645,718,770,992],[5.805282948774089,0.24838411724671047,5.782424810698038,6.425975050118612,5.544698836089559,4.418266305210374,8.64919686314504,4.2689752740929015])                                                                                                                                                             |\n",
            "|      Grief joys, joy grieves, on slender accident.                  |[, , , , , , grief, joys,, joy, grieves,, on, slender, accident.]                        |(1000,[18,99,148,279,336,372,645,736],[1.0,1.0,1.0,1.0,1.0,6.0,1.0,1.0])                                                      |(1000,[18,99,148,279,336,372,645,736],[5.805282948774089,6.213642414908618,4.8740751301966965,6.098762138910195,5.675370814533879,0.24838411724671047,5.544698836089559,3.6858289887472844])                                                                                                                                                            |\n",
            "|    And am most sensibly in grief for it,                            |[, , , , and, am, most, sensibly, in, grief, for, it,]                                   |(1000,[18,344,372,485,586,663,770,891,981],[1.0,1.0,4.0,1.0,1.0,1.0,1.0,1.0,1.0])                                             |(1000,[18,344,372,485,586,663,770,891,981],[5.805282948774089,2.552201186960874,0.16558941149780698,3.848286666879645,5.087866197299685,2.3933533828450484,4.32459843157252,1.5061903604809945,4.863876741522233])                                                                                                                                      |\n",
            "|  Ham. [comes forward] What is he whose grief                        |[, , ham., [comes, forward], what, is, he, whose, grief]                                 |(1000,[18,90,209,372,526,539,546,559,761],[1.0,1.0,1.0,2.0,1.0,1.0,1.0,1.0,1.0])                                              |(1000,[18,90,209,372,526,539,546,559,761],[5.805282948774089,5.675370814533879,2.538112540815402,0.08279470574890349,3.3386050210125595,4.938765523154743,4.821927986319388,3.018346778126166,6.564125388599429])                                                                                                                                       |\n",
            "|    But sure the bravery of his grief did put me                     |[, , , , but, sure, the, bravery, of, his, grief, did, put, me]                          |(1000,[17,18,369,372,495,605,739,821,840,871,943],[1.0,1.0,1.0,4.0,1.0,1.0,1.0,1.0,1.0,1.0,1.0])                              |(1000,[17,18,369,372,495,605,739,821,840,871,943],[1.4980982149178739,5.805282948774089,3.1551394863196998,0.16558941149780698,1.8906045125874118,2.9067557127177035,4.161750824997012,5.187133420141851,2.8101288770286317,4.965860776763454,6.114387456813276])                                                                                       |\n",
            "|    Out of my grief and my impatience                                |[, , , , out, of, my, grief, and, my, impatience]                                        |(1000,[18,372,495,568,754,793,891],[1.0,4.0,1.0,2.0,1.0,1.0,1.0])                                                             |(1000,[18,372,495,568,754,793,891],[5.805282948774089,0.16558941149780698,1.8906045125874118,4.507149729662212,4.469369611946551,5.813991276665873,1.5061903604809945])                                                                                                                                                                                 |\n",
            "|    an arm? No. Or take away the grief of a wound? No. Honour hath no|[, , , , an, arm?, no., or, take, away, the, grief, of, a, wound?, no., honour, hath, no]|(1000,[3,17,18,219,288,306,372,467,470,495,690,704,737,741,855],[1.0,1.0,1.0,1.0,1.0,1.0,4.0,1.0,2.0,1.0,1.0,1.0,1.0,1.0,1.0])|(1000,[3,17,18,219,288,306,372,467,470,495,690,704,737,741,855],[5.206001904446235,1.4980982149178739,5.805282948774089,5.660257176723831,5.5902648049037955,3.9455587536322376,0.16558941149780698,2.156954572124522,9.538568505667932,1.8906045125874118,3.949617383780763,3.6096653137730588,4.919511017364607,3.515203471716521,2.6739441250863316])|\n",
            "|    This present grief had wip'd it from my mind.                    |[, , , , this, present, grief, had, wip'd, it, from, my, mind.]                          |(1000,[18,130,191,372,373,568,569,686,764,921],[1.0,1.0,1.0,4.0,1.0,1.0,1.0,1.0,1.0,1.0])                                     |(1000,[18,130,191,372,373,568,569,686,764,921],[5.805282948774089,5.411445878661043,5.578677189731408,0.16558941149780698,2.955044330441781,2.253574864831106,3.686523433219637,2.9460592450353866,5.828675828348794,3.6847882254269733])                                                                                                               |\n",
            "|    To build a grief on. Were you not restor'd                       |[, , , , to, build, a, grief, on., were, you, not, restor'd]                             |(1000,[14,18,35,338,372,405,467,488,611,962],[1.0,1.0,1.0,1.0,4.0,1.0,1.0,1.0,1.0,1.0])                                       |(1000,[14,18,35,338,372,405,467,488,611,962],[5.011845890005277,5.805282948774089,5.762843765498932,2.4450882137869567,0.16558941149780698,2.6642749344146326,2.156954572124522,1.8446900071133143,5.329156483904529,4.190081331623238])                                                                                                                |\n",
            "|    Is overspread with them; therefore my grief                      |[, , , , is, overspread, with, them;, therefore, my, grief]                              |(1000,[18,209,372,488,568,650,729,882],[1.0,1.0,4.0,1.0,1.0,1.0,1.0,1.0])                                                     |(1000,[18,209,372,488,568,650,729,882],[5.805282948774089,2.538112540815402,0.16558941149780698,1.8446900071133143,2.253574864831106,2.6502522438831213,4.540209607335656,5.447163961263122])                                                                                                                                                           |\n",
            "|    Ere you with grief had spoke and I had heard                     |[, , , , ere, you, with, grief, had, spoke, and, i, had, heard]                          |(1000,[18,338,372,569,650,673,756,891,973],[1.0,1.0,4.0,2.0,1.0,2.0,1.0,1.0,1.0])                                             |(1000,[18,338,372,569,650,673,756,891,973],[5.805282948774089,2.4450882137869567,0.16558941149780698,7.373046866439274,2.6502522438831213,10.38050709495619,1.755107740238857,1.5061903604809945,5.144444011446801])                                                                                                                                    |\n",
            "|    What, all amort? Rouen hangs her head for grief                  |[, , , , what,, all, amort?, rouen, hangs, her, head, for, grief]                        |(1000,[18,64,112,116,222,288,344,372,878],[1.0,1.0,1.0,1.0,1.0,1.0,1.0,5.0,1.0])                                              |(1000,[18,64,112,116,222,288,344,372,878],[5.805282948774089,5.273295540180226,3.655067848369205,5.123763806209262,5.071082586546864,5.5902648049037955,2.552201186960874,0.2069867643722587,4.815462446554746])                                                                                                                                        |\n",
            "|    O Warwick, Warwick! I foresee with grief                         |[, , , , o, warwick,, warwick!, i, foresee, with, grief]                                 |(1000,[18,372,441,450,483,556,650,756],[1.0,4.0,1.0,1.0,1.0,1.0,1.0,1.0])                                                     |(1000,[18,372,441,450,483,556,650,756],[5.805282948774089,0.16558941149780698,5.819839246548296,5.027656496031919,6.196400608474112,4.43427829213528,2.6502522438831213,1.755107740238857])                                                                                                                                                             |\n",
            "|    To you Duke Humphrey must unload his grief                       |[, , , , to, you, duke, humphrey, must, unload, his, grief]                              |(1000,[18,23,91,229,338,372,457,488,840],[1.0,1.0,1.0,1.0,1.0,4.0,1.0,1.0,1.0])                                               |(1000,[18,23,91,229,338,372,457,488,840],[5.805282948774089,4.218646374933233,4.38629200057786,4.78374731486152,2.4450882137869567,0.16558941149780698,5.465513099931319,1.8446900071133143,2.8101288770286317])                                                                                                                                        |\n",
            "|    Your grief, the common grief of all the land.                    |[, , , , your, grief,, the, common, grief, of, all, the, land.]                          |(1000,[17,18,123,263,332,372,495,534],[2.0,1.0,1.0,1.0,1.0,5.0,1.0,1.0])                                                      |(1000,[17,18,123,263,332,372,495,534],[2.9961964298357477,5.805282948774089,5.954628237326409,2.6427634113883274,5.65278516188513,0.2069867643722587,1.8906045125874118,5.513994669745578])                                                                                                                                                             |\n",
            "|  WARWICK. For grief that they are past recovery;                    |[, , warwick., for, grief, that, they, are, past, recovery;]                             |(1000,[18,48,275,344,372,760,763,936,948],[1.0,1.0,1.0,1.0,2.0,1.0,1.0,1.0,1.0])                                              |(1000,[18,48,275,344,372,760,763,936,948],[5.805282948774089,3.7950149307359724,4.7509910597866405,2.552201186960874,0.08279470574890349,2.3684097393998074,3.3290846268778727,5.520495234348672,5.488406919797171])                                                                                                                                    |\n",
            "|    And greatness of his place be grief to us,                       |[, , , , and, greatness, of, his, place, be, grief, to, us,]                             |(1000,[18,326,372,390,488,495,828,840,855,891],[1.0,1.0,4.0,1.0,1.0,1.0,1.0,1.0,1.0,1.0])                                     |(1000,[18,326,372,390,488,495,828,840,855,891],[5.805282948774089,4.9497613578292725,0.16558941149780698,5.0614206756351265,1.8446900071133143,1.8906045125874118,5.8834007280380405,2.8101288770286317,2.6739441250863316,1.5061903604809945])                                                                                                         |\n",
            "|    Sorrow and grief have vanquish'd all my powers;                  |[, , , , sorrow, and, grief, have, vanquish'd, all, my, powers;]                         |(1000,[18,299,372,433,513,568,683,891],[1.0,1.0,5.0,1.0,1.0,1.0,1.0,1.0])                                                     |(1000,[18,299,372,433,513,568,683,891],[5.805282948774089,2.9239435103487614,0.2069867643722587,4.58184759537324,4.824092489328961,2.253574864831106,3.9442095292314723,1.5061903604809945])                                                                                                                                                            |\n",
            "|  QUEEN. Oft have I heard that grief softens the mind                |[, , queen., oft, have, i, heard, that, grief, softens, the, mind]                       |(1000,[17,18,134,171,184,299,372,624,673,756,760],[1.0,1.0,1.0,1.0,1.0,1.0,2.0,1.0,1.0,1.0,1.0])                              |(1000,[17,18,134,171,184,299,372,624,673,756,760],[1.4980982149178739,5.805282948774089,5.455277596037292,4.816537137684511,5.630698374482287,2.9239435103487614,0.08279470574890349,4.937551193922341,5.190253547478095,1.755107740238857,2.3684097393998074])                                                                                         |\n",
            "|  KING HENRY. And I, with grief and sorrow, to the court.            |[, , king, henry., and, i,, with, grief, and, sorrow,, to, the, court.]                  |(1000,[17,18,68,215,372,450,481,488,494,650,891],[1.0,1.0,1.0,1.0,2.0,1.0,1.0,1.0,1.0,1.0,2.0])                               |(1000,[17,18,68,215,372,450,481,488,494,650,891],[1.4980982149178739,5.805282948774089,5.013153934665293,5.388323461240189,0.08279470574890349,5.027656496031919,5.864824342465106,1.8446900071133143,3.9628083869670174,2.6502522438831213,3.012380720961989])                                                                                         |\n",
            "|    Laugh'd in his face; and when with grief he wept,                |[, , , , laugh'd, in, his, face;, and, when, with, grief, he, wept,]                     |(1000,[18,76,99,372,507,559,650,663,840,891,994],[1.0,1.0,1.0,4.0,1.0,1.0,1.0,1.0,1.0,1.0,1.0])                               |(1000,[18,76,99,372,507,559,650,663,840,891,994],[5.805282948774089,3.966937780309028,6.213642414908618,0.16558941149780698,4.989866983286502,3.018346778126166,2.6502522438831213,2.3933533828450484,2.8101288770286317,1.5061903604809945,6.551855296007615])                                                                                         |\n",
            "|    For what is in this world but grief and woe?                     |[, , , , for, what, is, in, this, world, but, grief, and, woe?]                          |(1000,[18,209,323,344,360,372,373,526,605,663,891],[1.0,1.0,1.0,1.0,1.0,4.0,1.0,1.0,1.0,1.0,1.0])                             |(1000,[18,209,323,344,360,372,373,526,605,663,891],[5.805282948774089,2.538112540815402,4.692323211697837,2.552201186960874,4.607688826557128,0.16558941149780698,2.955044330441781,3.3386050210125595,2.9067557127177035,2.3933533828450484,1.5061903604809945])                                                                                       |\n",
            "|  KING HENRY. Woe above woe! grief more than common grief!           |[, , king, henry., woe, above, woe!, grief, more, than, common, grief!]                  |(1000,[18,68,261,332,362,372,494,629,645,874,988],[1.0,1.0,1.0,1.0,1.0,2.0,1.0,1.0,1.0,1.0,1.0])                              |(1000,[18,68,261,332,362,372,494,629,645,874,988],[5.805282948774089,5.013153934665293,4.0001261499742125,5.65278516188513,5.302582732452015,0.08279470574890349,3.9628083869670174,4.035438162251428,5.544698836089559,6.319002930566444,4.810106247354221])                                                                                           |\n",
            "|    That she, poor wretch, for grief can speak no more;              |[, , , , that, she,, poor, wretch,, for, grief, can, speak, no, more;]                   |(1000,[18,103,133,344,372,494,704,732,760,824,961],[1.0,1.0,1.0,1.0,4.0,1.0,1.0,1.0,1.0,1.0,1.0])                             |(1000,[18,103,133,344,372,494,704,732,760,824,961],[5.805282948774089,4.59210409554043,3.878127256471619,2.552201186960874,0.16558941149780698,3.9628083869670174,3.6096653137730588,4.48854933298517,2.3684097393998074,3.4192815653614765,6.222376094877372])                                                                                         |\n",
            "|    Under your promis'd pardon. The subjects' grief                  |[, , , , under, your, promis'd, pardon., the, subjects', grief]                          |(1000,[17,18,30,263,372,512,734,809],[1.0,1.0,1.0,1.0,4.0,1.0,1.0,1.0])                                                       |(1000,[17,18,30,263,372,512,734,809],[1.4980982149178739,5.805282948774089,5.498989029127708,2.6427634113883274,0.16558941149780698,5.961362269507752,5.309600305110662,5.038337505452254])                                                                                                                                                             |\n",
            "|    Than to be perk'd up in a glist'ring grief                       |[, , , , than, to, be, perk'd, up, in, a, glist'ring, grief]                             |(1000,[18,261,372,467,488,663,751,855,871,911],[1.0,1.0,4.0,1.0,1.0,1.0,1.0,1.0,1.0,1.0])                                     |(1000,[18,261,372,467,488,663,751,855,871,911],[5.805282948774089,4.0001261499742125,0.16558941149780698,2.156954572124522,1.8446900071133143,2.3933533828450484,4.494765359216176,2.6739441250863316,4.965860776763454,3.8950983892929547])                                                                                                            |\n",
            "|        Killing care and grief of heart                              |[, , , , , , , , killing, care, and, grief, of, heart]                                   |(1000,[18,310,349,372,495,808,891],[1.0,1.0,1.0,8.0,1.0,1.0,1.0])                                                             |(1000,[18,310,349,372,495,808,891],[5.805282948774089,5.451212549789123,5.435115622746948,0.33117882299561396,1.8906045125874118,4.688531737961575,1.5061903604809945])                                                                                                                                                                                 |\n",
            "|    For grief is proud, and makes his owner stoop.                   |[, , , , for, grief, is, proud,, and, makes, his, owner, stoop.]                         |(1000,[18,53,209,344,372,382,598,840,853,891],[1.0,1.0,1.0,1.0,4.0,1.0,1.0,1.0,1.0,1.0])                                      |(1000,[18,53,209,344,372,382,598,840,853,891],[5.805282948774089,5.964746367491993,2.538112540815402,2.552201186960874,0.16558941149780698,6.271824370291354,6.166924790341158,2.8101288770286317,5.196523160491691,1.5061903604809945])                                                                                                                |\n",
            "|    O, if I could, what grief should I forget!                       |[, , , , o,, if, i, could,, what, grief, should, i, forget!]                             |(1000,[18,228,372,526,541,660,756,824,868],[1.0,1.0,4.0,1.0,1.0,1.0,2.0,1.0,1.0])                                             |(1000,[18,228,372,526,541,660,756,824,868],[5.805282948774089,5.8405807308551125,0.16558941149780698,3.3386050210125595,4.236546614218518,4.396836913754475,3.510215480477714,3.4192815653614765,4.38629200057786])                                                                                                                                     |\n",
            "|  KING PHILIP. You are as fond of grief as of your child.            |[, , king, philip., you, are, as, fond, of, grief, as, of, your, child.]                 |(1000,[18,254,263,338,372,412,494,495,655,749,763],[1.0,1.0,1.0,1.0,2.0,1.0,1.0,2.0,1.0,2.0,1.0])                             |(1000,[18,254,263,338,372,412,494,495,655,749,763],[5.805282948774089,6.079567691654049,2.6427634113883274,2.4450882137869567,0.08279470574890349,5.4947427382462575,3.9628083869670174,3.7812090251748236,5.746359875777243,6.117729256989172,3.3290846268778727])                                                                                     |\n",
            "|  CONSTANCE. Grief fills the room up of my absent child,             |[, , constance., grief, fills, the, room, up, of, my, absent, child,]                    |(1000,[17,18,246,372,494,495,568,727,730,751,773],[1.0,1.0,1.0,2.0,1.0,1.0,1.0,1.0,1.0,1.0,1.0])                              |(1000,[17,18,246,372,494,495,568,727,730,751,773],[1.4980982149178739,5.805282948774089,5.852629069371287,0.08279470574890349,3.9628083869670174,1.8906045125874118,2.253574864831106,5.147433550295167,6.068225415050113,4.494765359216176,6.102645638936593])                                                                                         |\n",
            "|    When grief and blood ill-temper'd vexeth him?                    |[, , , , when, grief, and, blood, ill-temper'd, vexeth, him?]                            |(1000,[18,76,359,372,451,566,661,891],[1.0,1.0,1.0,4.0,1.0,1.0,1.0,1.0])                                                      |(1000,[18,76,359,372,451,566,661,891],[5.805282948774089,3.966937780309028,5.043721098535726,0.16558941149780698,4.336503334078839,5.126692065988351,5.3008360071170735,1.5061903604809945])                                                                                                                                                            |\n",
            "|    And grief that young Octavius with Mark Antony                   |[, , , , and, grief, that, young, octavius, with, mark, antony]                          |(1000,[18,372,508,650,680,760,774,809,891],[1.0,4.0,1.0,1.0,1.0,1.0,1.0,1.0,1.0])                                             |(1000,[18,372,508,650,680,760,774,809,891],[5.805282948774089,0.16558941149780698,5.212371352731714,2.6502522438831213,4.94608262897181,2.3684097393998074,5.688142380213367,5.038337505452254,1.5061903604809945])                                                                                                                                     |\n",
            "|     As full of grief as age; wretched in both.                      |[, , , , , as, full, of, grief, as, age;, wretched, in, both.]                           |(1000,[18,372,495,506,663,749,865,897,981],[1.0,5.0,1.0,1.0,1.0,2.0,1.0,1.0,1.0])                                             |(1000,[18,372,495,506,663,749,865,897,981],[5.805282948774089,0.2069867643722587,1.8906045125874118,5.325572250676713,2.3933533828450484,6.117729256989172,5.5902648049037955,5.021038338189441,4.863876741522233])                                                                                                                                     |\n",
            "|     The grief hath craz'd my wits. What a night 's this!            |[, , , , , the, grief, hath, craz'd, my, wits., what, a, night, 's, this!]               |(1000,[17,18,46,306,372,388,464,467,526,568,686,869],[1.0,1.0,1.0,1.0,5.0,1.0,1.0,1.0,1.0,1.0,1.0,1.0])                       |(1000,[17,18,46,306,372,388,464,467,526,568,686,869],[1.4980982149178739,5.805282948774089,5.3902300395107705,3.9455587536322376,0.2069867643722587,5.9183804469340675,6.027704217644475,2.156954572124522,3.3386050210125595,2.253574864831106,2.9460592450353866,5.327362761450502])                                                                  |\n",
            "|     When grief hath mates, and bearing fellowship.                  |[, , , , , when, grief, hath, mates,, and, bearing, fellowship.]                         |(1000,[18,50,76,306,372,661,731,891],[1.0,1.0,1.0,1.0,5.0,1.0,1.0,1.0])                                                       |(1000,[18,50,76,306,372,661,731,891],[5.805282948774089,6.634441887016888,3.966937780309028,3.9455587536322376,0.2069867643722587,5.3008360071170735,5.1459376637035845,1.5061903604809945])                                                                                                                                                            |\n",
            "|     To deal with grief alone.                                       |[, , , , , to, deal, with, grief, alone.]                                                |(1000,[18,372,433,488,650,925],[1.0,5.0,1.0,1.0,1.0,1.0])                                                                     |(1000,[18,372,433,488,650,925],[5.805282948774089,0.2069867643722587,4.58184759537324,1.8446900071133143,2.6502522438831213,4.520822893535466])                                                                                                                                                                                                         |\n",
            "|     His grief grew puissant, and the strings of life                |[, , , , , his, grief, grew, puissant,, and, the, strings, of, life]                     |(1000,[17,18,24,372,477,495,652,760,840,891],[1.0,1.0,1.0,5.0,1.0,1.0,1.0,1.0,1.0,1.0])                                       |(1000,[17,18,24,372,477,495,652,760,840,891],[1.4980982149178739,5.805282948774089,5.560411841754115,0.2069867643722587,4.572537329222145,1.8906045125874118,6.091040092816285,2.3684097393998074,2.8101288770286317,1.5061903604809945])                                                                                                               |\n",
            "|      And they thy glory through my grief will show.                 |[, , , , , , and, they, thy, glory, through, my, grief, will, show.]                     |(1000,[18,48,138,205,352,372,385,420,568,891],[1.0,1.0,1.0,1.0,1.0,6.0,1.0,1.0,1.0,1.0])                                      |(1000,[18,48,138,205,352,372,385,420,568,891],[5.805282948774089,3.7950149307359724,3.34821692495903,5.399817840665924,5.954628237326409,0.24838411724671047,4.478529981345215,3.2116255828005422,2.253574864831106,1.5061903604809945])                                                                                                                |\n",
            "|    That in love's grief desir'st society;                           |[, , , , that, in, love's, grief, desir'st, society;]                                    |(1000,[18,229,372,663,760,818,945],[1.0,1.0,4.0,1.0,1.0,1.0,1.0])                                                             |(1000,[18,229,372,663,760,818,945],[5.805282948774089,4.78374731486152,0.16558941149780698,2.3933533828450484,2.3684097393998074,5.17474936094213,5.327362761450502])                                                                                                                                                                                   |\n",
            "|    Give sorrow words. The grief that does not speak                 |[, , , , give, sorrow, words., the, grief, that, does, not, speak]                       |(1000,[17,18,372,405,433,698,732,760,783,897],[1.0,1.0,4.0,1.0,1.0,1.0,1.0,1.0,1.0,1.0])                                      |(1000,[17,18,372,405,433,698,732,760,783,897],[1.4980982149178739,5.805282948774089,0.16558941149780698,2.6642749344146326,4.58184759537324,5.2155713554623855,4.48854933298517,2.3684097393998074,4.09529375439156,5.021038338189441])                                                                                                                 |\n",
            "|  MALCOLM. Be this the whetstone of your sword. Let grief            |[, , malcolm., be, this, the, whetstone, of, your, sword., let, grief]                   |(1000,[10,17,18,203,263,267,372,373,495,621,855],[1.0,1.0,1.0,1.0,1.0,1.0,2.0,1.0,1.0,1.0,1.0])                               |(1000,[10,17,18,203,263,267,372,373,495,621,855],[5.064171709007017,1.4980982149178739,5.805282948774089,5.706301115225238,2.6427634113883274,3.9054210616003737,0.08279470574890349,2.955044330441781,1.8906045125874118,6.006274826188576,2.6739441250863316])                                                                                        |\n",
            "|    I now begin with grief and shame to utter:                       |[, , , , i, now, begin, with, grief, and, shame, to, utter:]                             |(1000,[18,30,314,372,488,513,650,756,856,891],[1.0,1.0,1.0,4.0,1.0,1.0,1.0,1.0,1.0,1.0])                                      |(1000,[18,30,314,372,488,513,650,756,856,891],[5.805282948774089,5.498989029127708,4.0900799782430335,0.16558941149780698,1.8446900071133143,4.824092489328961,2.6502522438831213,1.755107740238857,6.6888770935719055,1.5061903604809945])                                                                                                             |\n",
            "|    That know love's grief by his complexion!                        |[, , , , that, know, love's, grief, by, his, complexion!]                                |(1000,[18,372,581,760,770,779,840,945],[1.0,4.0,1.0,1.0,1.0,1.0,1.0,1.0])                                                     |(1000,[18,372,581,760,770,779,840,945],[5.805282948774089,0.16558941149780698,3.225547930802744,2.3684097393998074,4.32459843157252,4.25416018830776,2.8101288770286317,5.327362761450502])                                                                                                                                                             |\n",
            "|  Bene. Well, every one can master a grief but he that has it.       |[, , bene., well,, every, one, can, master, a, grief, but, he, that, has, it.]           |(1000,[18,66,78,133,372,401,467,559,604,605,681,760,805,815],[1.0,1.0,1.0,1.0,2.0,1.0,1.0,1.0,1.0,1.0,1.0,1.0,1.0,1.0])       |(1000,[18,66,78,133,372,401,467,559,604,605,681,760,805,815],[5.805282948774089,5.225233266374122,4.75199861654694,3.878127256471619,0.08279470574890349,4.912385096474639,2.156954572124522,3.018346778126166,5.013153934665293,2.9067557127177035,4.548399661305701,2.3684097393998074,4.0413641055189755,4.098435118231394])                         |\n",
            "|    accus'd, in this manner refus'd, and upon the grief of this      |[, , , , accus'd,, in, this, manner, refus'd,, and, upon, the, grief, of, this]          |(1000,[17,18,372,373,443,495,500,557,663,735,891],[1.0,1.0,4.0,2.0,1.0,1.0,1.0,1.0,1.0,1.0,1.0])                              |(1000,[17,18,372,373,443,495,500,557,663,735,891],[1.4980982149178739,5.805282948774089,0.16558941149780698,5.910088660883562,4.993710677961064,1.8906045125874118,5.834610563868608,5.867896541502075,2.3933533828450484,4.134744499227492,1.5061903604809945])                                                                                        |\n",
            "|    And 'tis not wisdom thus to second grief                         |[, , , , and, 'tis, not, wisdom, thus, to, second, grief]                                |(1000,[18,256,372,376,405,488,684,837,891],[1.0,1.0,4.0,1.0,1.0,1.0,1.0,1.0,1.0])                                             |(1000,[18,256,372,376,405,488,684,837,891],[5.805282948774089,4.88207974697931,0.16558941149780698,4.187785119362888,2.6642749344146326,1.8446900071133143,4.900620254895053,5.207590467131372,1.5061903604809945])                                                                                                                                     |\n",
            "|    As thus for thus, and such a grief for such,                     |[, , , , as, thus, for, thus,, and, such, a, grief, for, such,]                          |(1000,[18,272,344,372,387,467,684,749,889,891],[1.0,1.0,2.0,4.0,1.0,1.0,1.0,1.0,1.0,1.0])                                     |(1000,[18,272,344,372,387,467,684,749,889,891],[5.805282948774089,4.133657542598735,5.104402373921748,0.16558941149780698,5.760077512006042,2.156954572124522,4.900620254895053,3.058864628494586,5.837591192006746,1.5061903604809945])                                                                                                                |\n",
            "|    Patch grief with proverbs, make misfortune drunk                 |[, , , , patch, grief, with, proverbs,, make, misfortune, drunk]                         |(1000,[18,53,174,372,525,650,704,756],[1.0,1.0,1.0,4.0,1.0,1.0,1.0,1.0])                                                      |(1000,[18,53,174,372,525,650,704,756],[5.805282948774089,5.964746367491993,5.503253427914166,0.16558941149780698,4.171293417757605,2.6502522438831213,3.6096653137730588,1.755107740238857])                                                                                                                                                            |\n",
            "|    Can counsel and speak comfort to that grief                      |[, , , , can, counsel, and, speak, comfort, to, that, grief]                             |(1000,[18,128,133,372,488,732,753,760,891],[1.0,1.0,1.0,4.0,1.0,1.0,1.0,1.0,1.0])                                             |(1000,[18,128,133,372,488,732,753,760,891],[5.805282948774089,5.31312764562863,3.878127256471619,0.16558941149780698,1.8446900071133143,4.48854933298517,5.209181557363614,2.3684097393998074,1.5061903604809945])                                                                                                                                      |\n",
            "|    Take hold on me; for my particular grief                         |[, , , , take, hold, on, me;, for, my, particular, grief]                                |(1000,[18,344,372,389,568,736,855,925,984],[1.0,1.0,4.0,1.0,1.0,1.0,1.0,1.0,1.0])                                             |(1000,[18,344,372,389,568,736,855,925,984],[5.805282948774089,2.552201186960874,0.16558941149780698,5.137009032959283,2.253574864831106,3.6858289887472844,2.6739441250863316,4.520822893535466,5.378844717285645])                                                                                                                                     |\n",
            "|    That he hath left part of his grief with me                      |[, , , , that, he, hath, left, part, of, his, grief, with, me]                           |(1000,[18,306,369,372,495,559,650,662,740,760,840],[1.0,1.0,1.0,4.0,1.0,1.0,1.0,1.0,1.0,1.0,1.0])                             |(1000,[18,306,369,372,495,559,650,662,740,760,840],[5.805282948774089,3.9455587536322376,3.1551394863196998,0.16558941149780698,1.8906045125874118,3.018346778126166,2.6502522438831213,4.686641378230406,5.188692266911143,2.3684097393998074,2.8101288770286317])                                                                                     |\n",
            "|    Thy match was mortal to him, and pure grief                      |[, , , , thy, match, was, mortal, to, him,, and, pure, grief]                            |(1000,[18,138,304,372,488,509,523,683,793,891],[1.0,1.0,1.0,4.0,1.0,1.0,1.0,1.0,1.0,1.0])                                     |(1000,[18,138,304,372,488,509,523,683,793,891],[5.805282948774089,3.34821692495903,5.480021126420898,0.16558941149780698,1.8446900071133143,4.431347887107863,4.2437974012722135,3.9442095292314723,5.813991276665873,1.5061903604809945])                                                                                                              |\n",
            "|  DUCHESS. Yet one word more- grief boundeth where it falls,         |[, , duchess., yet, one, word, more-, grief, boundeth, where, it, falls,]                |(1000,[18,37,116,372,478,519,679,686,702,718,815],[1.0,1.0,1.0,2.0,1.0,1.0,1.0,1.0,1.0,1.0,1.0])                              |(1000,[18,37,116,372,478,519,679,686,702,718,815],[5.805282948774089,4.339168225729215,5.123763806209262,0.08279470574890349,5.09069105793524,5.157967883980127,5.209181557363614,2.9460592450353866,5.363863163670028,4.418266305210374,4.098435118231394])                                                                                            |\n",
            "|  GAUNT. Thy grief is but thy absence for a time.                    |[, , gaunt., thy, grief, is, but, thy, absence, for, a, time.]                           |(1000,[18,63,138,209,276,344,372,467,605,787],[1.0,1.0,2.0,1.0,1.0,1.0,2.0,1.0,1.0,1.0])                                      |(1000,[18,63,138,209,276,344,372,467,605,787],[5.805282948774089,5.650306845870663,6.69643384991806,2.538112540815402,5.356455722392167,2.552201186960874,0.08279470574890349,2.156954572124522,2.9067557127177035,5.716827528212225])                                                                                                                  |\n",
            "|  BOLINGBROKE. Joy absent, grief is present for that time.           |[, , bolingbroke., joy, absent,, grief, is, present, for, that, time.]                   |(1000,[18,130,209,264,276,344,372,645,760,976],[1.0,1.0,1.0,1.0,1.0,1.0,2.0,1.0,1.0,1.0])                                     |(1000,[18,130,209,264,276,344,372,645,760,976],[5.805282948774089,5.411445878661043,2.538112540815402,5.672835958930691,5.356455722392167,2.552201186960874,0.08279470574890349,5.544698836089559,2.3684097393998074,6.368517995093824])                                                                                                                |\n",
            "|  BOLINGBROKE. To men in joy; but grief makes one hour ten.          |[, , bolingbroke., to, men, in, joy;, but, grief, makes, one, hour, ten.]                |(1000,[18,167,264,372,415,488,527,585,605,663,815,853],[1.0,1.0,1.0,2.0,1.0,1.0,1.0,1.0,1.0,1.0,1.0,1.0])                     |(1000,[18,167,264,372,415,488,527,585,605,663,815,853],[5.805282948774089,5.64536856423008,5.672835958930691,0.08279470574890349,5.746359875777243,1.8446900071133143,5.1701445945553814,4.618215239544115,2.9067557127177035,2.3933533828450484,4.098435118231394,5.196523160491691])                                                                  |\n",
            "|    To counterfeit oppression of such grief                          |[, , , , to, counterfeit, oppression, of, such, grief]                                   |(1000,[18,256,272,288,372,488,495],[1.0,1.0,1.0,1.0,4.0,1.0,1.0])                                                             |(1000,[18,256,272,288,372,488,495],[5.805282948774089,4.88207974697931,4.133657542598735,5.5902648049037955,0.16558941149780698,1.8446900071133143,1.8906045125874118])                                                                                                                                                                                 |\n",
            "|    Within me grief hath kept a tedious fast;                        |[, , , , within, me, grief, hath, kept, a, tedious, fast;]                               |(1000,[18,63,71,285,306,369,372,467,817],[1.0,1.0,1.0,1.0,1.0,1.0,4.0,1.0,1.0])                                               |(1000,[18,63,71,285,306,369,372,467,817],[5.805282948774089,5.650306845870663,5.533624525790465,6.271824370291354,3.9455587536322376,3.1551394863196998,0.16558941149780698,2.156954572124522,5.053212695217297])                                                                                                                                       |\n",
            "|  BUSHY. Each substance of a grief hath twenty shadows,              |[, , bushy., each, substance, of, a, grief, hath, twenty, shadows,]                      |(1000,[18,161,168,306,372,467,495,713,765,885],[1.0,1.0,1.0,1.0,2.0,1.0,1.0,1.0,1.0,1.0])                                     |(1000,[18,161,168,306,372,467,495,713,765,885],[5.805282948774089,5.535829598348779,3.752197251799615,3.9455587536322376,0.08279470574890349,2.156954572124522,1.8906045125874118,5.592598528250016,5.749088390430447,5.3978929122563395])                                                                                                              |\n",
            "|    Which shows like grief itself, but is not so;                    |[, , , , which, shows, like, grief, itself,, but, is, not, so;]                          |(1000,[18,209,330,372,405,469,594,605,675,804],[1.0,1.0,1.0,4.0,1.0,1.0,1.0,1.0,1.0,1.0])                                     |(1000,[18,209,330,372,405,469,594,605,675,804],[5.805282948774089,2.538112540815402,4.063904503838386,0.16558941149780698,2.6642749344146326,5.706301115225238,4.409639364574851,2.9067557127177035,5.384521175290451,3.8121961421271346])                                                                                                              |\n",
            "|    Find shapes of grief more than himself to wail;                  |[, , , , find, shapes, of, grief, more, than, himself, to, wail;]                        |(1000,[18,220,261,361,372,488,495,510,629,792],[1.0,1.0,1.0,1.0,4.0,1.0,1.0,1.0,1.0,1.0])                                     |(1000,[18,220,261,361,372,488,495,510,629,792],[5.805282948774089,5.3509359291685685,4.0001261499742125,5.234989441319486,0.16558941149780698,1.8446900071133143,1.8906045125874118,5.241546841865646,4.035438162251428,5.751824370249321])                                                                                                             |\n",
            "|  NORTHUMBERLAND. Sorrow and grief of heart                          |[, , northumberland., sorrow, and, grief, of, heart]                                     |(1000,[18,372,375,433,495,808,891],[1.0,2.0,1.0,1.0,1.0,1.0,1.0])                                                             |(1000,[18,372,375,433,495,808,891],[5.805282948774089,0.08279470574890349,5.660257176723831,4.58184759537324,1.8906045125874118,4.688531737961575,1.5061903604809945])                                                                                                                                                                                  |\n",
            "|    'Tis very true: my grief lies all within;                        |[, , , , 'tis, very, true:, my, grief, lies, all, within;]                               |(1000,[18,372,376,534,568,802,823,944],[1.0,5.0,1.0,1.0,1.0,1.0,1.0,1.0])                                                     |(1000,[18,372,376,534,568,802,823,944],[5.805282948774089,0.2069867643722587,4.187785119362888,5.513994669745578,2.253574864831106,4.313483573766224,5.852629069371287,4.39471901673974])                                                                                                                                                               |\n",
            "|    Are merely shadows to the unseen grief                           |[, , , , are, merely, shadows, to, the, unseen, grief]                                   |(1000,[17,18,146,372,488,637,763,864],[1.0,1.0,1.0,4.0,1.0,1.0,1.0,1.0])                                                      |(1000,[17,18,146,372,488,637,763,864],[1.4980982149178739,5.805282948774089,4.860500261105627,0.16558941149780698,1.8446900071133143,5.880280600701797,3.3290846268778727,5.740925079791285])                                                                                                                                                           |\n",
            "|    Why should hard-favour'd grief be lodg'd in thee,                |[, , , , why, should, hard-favour'd, grief, be, lodg'd, in, thee,]                       |(1000,[18,32,275,372,541,619,663,725,855],[1.0,1.0,1.0,4.0,1.0,1.0,1.0,1.0,1.0])                                              |(1000,[18,32,275,372,541,619,663,725,855],[5.805282948774089,4.845999170414827,4.7509910597866405,0.16558941149780698,4.236546614218518,5.375078234490169,2.3933533828450484,4.666079906192604,2.6739441250863316])                                                                                                                                     |\n",
            "|    The badges of his grief and patience,                            |[, , , , the, badges, of, his, grief, and, patience,]                                    |(1000,[17,18,372,495,594,697,840,891],[1.0,1.0,4.0,1.0,1.0,1.0,1.0,1.0])                                                      |(1000,[17,18,372,495,594,697,840,891],[1.4980982149178739,5.805282948774089,0.16558941149780698,1.8906045125874118,4.409639364574851,5.451212549789123,2.8101288770286317,1.5061903604809945])                                                                                                                                                          |\n",
            "|    And being but a toy, which is no grief to give.                  |[, , , , and, being, but, a, toy,, which, is, no, grief, to, give.]                      |(1000,[18,73,209,372,467,488,605,704,759,804,819,891],[1.0,1.0,1.0,4.0,1.0,1.0,1.0,1.0,1.0,1.0,1.0,1.0])                      |(1000,[18,73,209,372,467,488,605,704,759,804,819,891],[5.805282948774089,4.6856975367257,2.538112540815402,0.16558941149780698,2.156954572124522,1.8446900071133143,2.9067557127177035,3.6096653137730588,5.831638793479451,3.8121961421271346,6.249044341959533,1.5061903604809945])                                                                   |\n",
            "|    Or I with grief and extreme age shall perish                     |[, , , , or, i, with, grief, and, extreme, age, shall, perish]                           |(1000,[18,372,390,477,650,657,741,756,791,891],[1.0,4.0,1.0,1.0,1.0,1.0,1.0,1.0,1.0,1.0])                                     |(1000,[18,372,390,477,650,657,741,756,791,891],[5.805282948774089,0.16558941149780698,5.0614206756351265,4.572537329222145,2.6502522438831213,3.42997399548519,3.515203471716521,1.755107740238857,5.768399335343534,1.5061903604809945])                                                                                                               |\n",
            "|    But that stiff use of grief makes wild grief tame,               |[, , , , but, that, stiff, use, of, grief, makes, wild, grief, tame,]                    |(1000,[18,105,133,372,495,605,760,807,853,939],[2.0,1.0,1.0,4.0,1.0,1.0,1.0,1.0,1.0,1.0])                                     |(1000,[18,105,133,372,495,605,760,807,853,939],[11.610565897548177,5.908718536022331,3.878127256471619,0.16558941149780698,1.8906045125874118,2.9067557127177035,2.3684097393998074,5.957989585029114,5.196523160491691,4.26835357683943])                                                                                                              |\n",
            "|    Doth add more grief to too much of mine own.                     |[, , , , doth, add, more, grief, to, too, much, of, mine, own.]                          |(1000,[18,255,372,488,495,523,524,629,813,887,992],[1.0,1.0,4.0,1.0,1.0,1.0,1.0,1.0,1.0,1.0,1.0])                             |(1000,[18,255,372,488,495,523,524,629,813,887,992],[5.805282948774089,4.686641378230406,0.16558941149780698,1.8446900071133143,1.8906045125874118,4.2437974012722135,4.5128547238862895,4.035438162251428,5.486303869600393,5.544698836089559,4.2689752740929015])                                                                                      |\n",
            "|    One desperate grief cures with another's languish.               |[, , , , one, desperate, grief, cures, with, another's, languish.]                       |(1000,[18,286,372,454,479,650,665,815],[1.0,1.0,4.0,1.0,1.0,1.0,1.0,1.0])                                                     |(1000,[18,286,372,454,479,650,665,815],[5.805282948774089,5.210775183198892,0.16558941149780698,5.511837171605557,6.25355902231406,2.6502522438831213,4.851551655529613,4.098435118231394])                                                                                                                                                             |\n",
            "|    Who is already sick and pale with grief                          |[, , , , who, is, already, sick, and, pale, with, grief]                                 |(1000,[18,209,372,507,594,650,805,845,891],[1.0,1.0,4.0,1.0,1.0,1.0,1.0,1.0,1.0])                                             |(1000,[18,209,372,507,594,650,805,845,891],[5.805282948774089,2.538112540815402,0.16558941149780698,4.989866983286502,4.409639364574851,2.6502522438831213,4.0413641055189755,5.855663973066441,1.5061903604809945])                                                                                                                                    |\n",
            "|    It were a grief so brief to part with thee.                      |[, , , , it, were, a, grief, so, brief, to, part, with, thee.]                           |(1000,[18,340,372,403,467,488,601,650,686,740,962],[1.0,1.0,4.0,1.0,1.0,1.0,1.0,1.0,1.0,1.0,1.0])                             |(1000,[18,340,372,403,467,488,601,650,686,740,962],[5.805282948774089,5.650306845870663,0.16558941149780698,3.104969730174031,2.156954572124522,1.8446900071133143,4.425512713731141,2.6502522438831213,2.9460592450353866,5.188692266911143,4.190081331623238])                                                                                        |\n",
            "|    Therefore have done. Some grief shows much of love;              |[, , , , therefore, have, done., some, grief, shows, much, of, love;]                    |(1000,[18,207,299,334,372,400,488,495,524,594],[1.0,1.0,1.0,1.0,4.0,1.0,1.0,1.0,1.0,1.0])                                     |(1000,[18,207,299,334,372,400,488,495,524,594],[5.805282948774089,5.461406317978666,2.9239435103487614,5.819839246548296,0.16558941149780698,4.411072029576347,1.8446900071133143,1.8906045125874118,4.5128547238862895,4.409639364574851])                                                                                                             |\n",
            "|    But much of grief shows still some want of wit.                  |[, , , , but, much, of, grief, shows, still, some, want, of, wit.]                       |(1000,[18,144,372,400,495,524,594,605,712],[1.0,1.0,4.0,1.0,2.0,1.0,1.0,1.0,2.0])                                             |(1000,[18,144,372,400,495,524,594,605,712],[5.805282948774089,5.156456167894804,0.16558941149780698,4.411072029576347,3.7812090251748236,4.5128547238862895,4.409639364574851,2.9067557127177035,10.300864106582848])                                                                                                                                   |\n",
            "|           'When griping grief the heart doth wound,                 |[, , , , , , , , , , , 'when, griping, grief, the, heart, doth, wound,]                  |(1000,[17,18,372,710,788,808,968,992],[1.0,1.0,11.0,1.0,1.0,1.0,1.0,1.0])                                                     |(1000,[17,18,372,710,788,808,968,992],[1.4980982149178739,5.805282948774089,0.4553708816189692,6.110458178673387,5.992239508072192,4.688531737961575,5.773985942052174,4.2689752740929015])                                                                                                                                                             |\n",
            "|    That murd'red my love's cousin- with which grief                 |[, , , , that, murd'red, my, love's, cousin-, with, which, grief]                        |(1000,[18,43,71,372,568,650,760,804,945],[1.0,1.0,1.0,4.0,1.0,1.0,1.0,1.0,1.0])                                               |(1000,[18,43,71,372,568,650,760,804,945],[5.805282948774089,5.199672769394587,5.533624525790465,0.16558941149780698,2.253574864831106,2.6502522438831213,2.3684097393998074,3.8121961421271346,5.327362761450502])                                                                                                                                      |\n",
            "|    Grief of my son's exile hath stopp'd her breath.                 |[, , , , grief, of, my, son's, exile, hath, stopp'd, her, breath.]                       |(1000,[18,112,271,306,372,459,495,568,728,941],[1.0,1.0,1.0,1.0,4.0,1.0,1.0,1.0,1.0,1.0])                                     |(1000,[18,112,271,306,372,459,495,568,728,941],[5.805282948774089,3.655067848369205,6.213642414908618,3.9455587536322376,0.16558941149780698,6.158660280491264,1.8906045125874118,2.253574864831106,4.7300635396806845,5.880280600701797])                                                                                                              |\n",
            "|    You, to remove that siege of grief from her,                     |[, , , , you,, to, remove, that, siege, of, grief, from, her,]                           |(1000,[18,80,372,488,493,495,696,760,914,921],[1.0,1.0,4.0,1.0,1.0,1.0,1.0,1.0,1.0,1.0])                                      |(1000,[18,80,372,488,493,495,696,760,914,921],[5.805282948774089,4.552519980278721,0.16558941149780698,1.8446900071133143,4.902962176340134,1.8906045125874118,4.157847837048254,2.3684097393998074,6.486935749908299,3.6847882254269733])                                                                                                              |\n",
            "|  GONZALO. When every grief is entertain'd that's offer'd,           |[, , gonzalo., when, every, grief, is, entertain'd, that's, offer'd,]                    |(1000,[18,76,209,368,372,545,662,681,933],[1.0,1.0,1.0,1.0,2.0,1.0,1.0,1.0,1.0])                                              |(1000,[18,76,209,368,372,545,662,681,933],[5.805282948774089,3.966937780309028,2.538112540815402,5.743638785662882,0.08279470574890349,5.8405807308551125,4.686641378230406,4.548399661305701,5.179375429330912])                                                                                                                                       |\n",
            "|    Who hath cause to wet the grief on't.                            |[, , , , who, hath, cause, to, wet, the, grief, on't.]                                   |(1000,[17,18,266,306,316,372,383,488,805],[1.0,1.0,1.0,1.0,1.0,4.0,1.0,1.0,1.0])                                              |(1000,[17,18,266,306,316,372,383,488,805],[1.4980982149178739,5.805282948774089,5.66276030694195,3.9455587536322376,5.531424304880862,0.16558941149780698,5.985295035719381,1.8446900071133143,4.0413641055189755])                                                                                                                                     |\n",
            "|    Let grief and sorrow still embrace his heart                     |[, , , , let, grief, and, sorrow, still, embrace, his, heart]                            |(1000,[18,87,267,372,433,712,808,840,891],[1.0,1.0,1.0,4.0,1.0,1.0,1.0,1.0,1.0])                                              |(1000,[18,87,267,372,433,712,808,840,891],[5.805282948774089,5.7194765363838025,3.9054210616003737,0.16558941149780698,4.58184759537324,5.150432053291424,4.688531737961575,2.8101288770286317,1.5061903604809945])                                                                                                                                     |\n",
            "|  FIRST LORD. I am sick of that grief too, as I understand how all   |[, , first, lord., i, am, sick, of, that, grief, too,, as, i, understand, how, all]      |(1000,[18,236,372,403,485,487,495,643,749,756,760,845,892],[1.0,1.0,3.0,1.0,1.0,1.0,1.0,1.0,1.0,2.0,1.0,1.0,1.0])             |(1000,[18,236,372,403,485,487,495,643,749,756,760,845,892],[5.805282948774089,5.4212402762533305,0.12419205862335524,3.104969730174031,3.848286666879645,5.6932970308020305,1.8906045125874118,3.852788413790596,3.058864628494586,3.510215480477714,2.3684097393998074,5.855663973066441,4.084893244623482])                                           |\n",
            "|    My honest grief unto him, and as my lord                         |[, , , , my, honest, grief, unto, him,, and, as, my, lord]                               |(1000,[18,149,372,405,509,548,568,749,891],[1.0,1.0,4.0,1.0,1.0,1.0,2.0,1.0,1.0])                                             |(1000,[18,149,372,405,509,548,568,749,891],[5.805282948774089,5.749088390430447,0.16558941149780698,2.6642749344146326,4.431347887107863,4.432812016212753,4.507149729662212,3.058864628494586,1.5061903604809945])                                                                                                                                     |\n",
            "|    Nev'r did poor steward wear a truer grief                        |[, , , , nev'r, did, poor, steward, wear, a, truer, grief]                               |(1000,[18,87,103,135,250,372,467,581,739],[1.0,1.0,1.0,1.0,1.0,4.0,1.0,1.0,1.0])                                              |(1000,[18,87,103,135,250,372,467,581,739],[5.805282948774089,5.7194765363838025,4.59210409554043,4.2941655229214595,6.138292977666831,0.16558941149780698,2.156954572124522,3.225547930802744,4.161750824997012])                                                                                                                                       |\n",
            "|    My grief was at the height before thou cam'st,                   |[, , , , my, grief, was, at, the, height, before, thou, cam'st,]                         |(1000,[17,18,120,162,318,372,568,599,606,683],[1.0,1.0,1.0,1.0,1.0,4.0,1.0,1.0,1.0,1.0])                                      |(1000,[17,18,120,162,318,372,568,599,606,683],[1.4980982149178739,5.805282948774089,4.798422630645734,3.7720518092275235,5.7937885693483535,0.16558941149780698,2.253574864831106,5.480021126420898,3.107302546161984,3.9442095292314723])                                                                                                              |\n",
            "|  LUCIUS. Sweet father, cease your tears; for at your grief          |[, , lucius., sweet, father,, cease, your, tears;, for, at, your, grief]                 |(1000,[18,64,117,162,263,344,372,470,714,925],[1.0,1.0,1.0,1.0,2.0,1.0,2.0,1.0,1.0,1.0])                                      |(1000,[18,64,117,162,263,344,372,470,714,925],[5.805282948774089,5.273295540180226,5.243192932772315,3.7720518092275235,5.285526822776655,2.552201186960874,0.08279470574890349,4.769284252833966,4.167915036165978,4.520822893535466])                                                                                                                 |\n",
            "|    Thy grief their sports, thy resolution mock'd,                   |[, , , , thy, grief, their, sports,, thy, resolution, mock'd,]                           |(1000,[18,58,138,260,265,372,967],[1.0,1.0,2.0,1.0,1.0,4.0,1.0])                                                              |(1000,[18,58,138,260,265,372,967],[5.805282948774089,6.196400608474112,6.69643384991806,6.0757726206854965,5.599632554907396,0.16558941149780698,3.83974829420979])                                                                                                                                                                                     |\n",
            "|    And cannot passionate our tenfold grief                          |[, , , , and, cannot, passionate, our, tenfold, grief]                                   |(1000,[18,165,169,330,372,514,891],[1.0,1.0,1.0,1.0,4.0,1.0,1.0])                                                             |(1000,[18,165,169,330,372,514,891],[5.805282948774089,3.5181343061708463,4.682871345489865,4.063904503838386,0.16558941149780698,5.503253427914166,1.5061903604809945])                                                                                                                                                                                 |\n",
            "|  MARCUS. Alas, poor man! grief has so wrought on him,               |[, , marcus., alas,, poor, man!, grief, has, so, wrought, on, him,]                      |(1000,[18,66,100,103,205,372,403,509,528,736,783],[1.0,1.0,1.0,1.0,1.0,2.0,1.0,1.0,1.0,1.0,1.0])                              |(1000,[18,66,100,103,205,372,403,509,528,736,783],[5.805282948774089,5.225233266374122,5.239903456121916,4.59210409554043,5.399817840665924,0.08279470574890349,3.104969730174031,4.431347887107863,5.724795697861402,3.6858289887472844,4.09529375439156])                                                                                             |\n",
            "|    Witness these trenches made by grief and care;                   |[, , , , witness, these, trenches, made, by, grief, and, care;]                          |(1000,[18,263,344,353,372,534,551,581,891],[1.0,1.0,1.0,1.0,4.0,1.0,1.0,1.0,1.0])                                             |(1000,[18,263,344,353,372,534,551,581,891],[5.805282948774089,2.6427634113883274,2.552201186960874,5.382625440125551,0.16558941149780698,5.513994669745578,5.1063720634973935,3.225547930802744,1.5061903604809945])                                                                                                                                    |\n",
            "|    What grief hath set these jaundies o'er your cheeks?             |[, , , , what, grief, hath, set, these, jaundies, o'er, your, cheeks?]                   |(1000,[18,49,263,277,306,342,372,526,725],[1.0,1.0,2.0,1.0,1.0,1.0,4.0,1.0,1.0])                                              |(1000,[18,49,263,277,306,342,372,526,725],[5.805282948774089,5.057308264082034,5.285526822776655,5.751824370249321,3.9455587536322376,5.0822403034175165,0.16558941149780698,3.3386050210125595,4.666079906192604])                                                                                                                                     |\n",
            "|    The grief is fine, full, perfect, that I taste,                  |[, , , , the, grief, is, fine,, full,, perfect,, that, i, taste,]                        |(1000,[17,18,38,209,317,372,694,756,760,775],[1.0,1.0,1.0,1.0,1.0,4.0,1.0,1.0,1.0,1.0])                                       |(1000,[17,18,38,209,317,372,694,756,760,775],[1.4980982149178739,5.805282948774089,5.625855750006498,2.538112540815402,5.992239508072192,0.16558941149780698,5.327362761450502,1.755107740238857,2.3684097393998074,6.196400608474112])                                                                                                                 |\n",
            "|    No grief did ever come so near thy heart                         |[, , , , no, grief, did, ever, come, so, near, thy, heart]                               |(1000,[18,138,372,403,594,704,739,808,964,974],[1.0,1.0,4.0,1.0,1.0,1.0,1.0,1.0,1.0,1.0])                                     |(1000,[18,138,372,403,594,704,739,808,964,974],[5.805282948774089,3.34821692495903,0.16558941149780698,3.104969730174031,4.409639364574851,3.6096653137730588,4.161750824997012,4.688531737961575,4.170729560962288,4.862749980839642])                                                                                                                 |\n",
            "|    That honourable grief lodg'd here which burns                    |[, , , , that, honourable, grief, lodg'd, here, which, burns]                            |(1000,[18,135,213,372,619,760,804,821],[1.0,1.0,1.0,4.0,1.0,1.0,1.0,1.0])                                                     |(1000,[18,135,213,372,619,760,804,821],[5.805282948774089,4.2941655229214595,5.271599186932048,0.16558941149780698,5.375078234490169,2.3684097393998074,3.8121961421271346,5.187133420141851])                                                                                                                                                          |\n",
            "|  LEONTES. This sessions, to our great grief we pronounce,           |[, , leontes., this, sessions,, to, our, great, grief, we, pronounce,]                   |(1000,[18,113,165,330,370,372,373,488,588,750],[1.0,1.0,1.0,1.0,1.0,2.0,1.0,1.0,1.0,1.0])                                     |(1000,[18,113,165,330,370,372,373,488,588,750],[5.805282948774089,5.877170178287405,3.5181343061708463,4.063904503838386,5.233356787895602,0.08279470574890349,2.955044330441781,1.8446900071133143,3.438069020801814,4.390496631859891])                                                                                                               |\n",
            "|    To take off so much grief from you as he                         |[, , , , to, take, off, so, much, grief, from, you, as, he]                              |(1000,[18,224,338,372,403,488,524,559,749,855,921],[1.0,1.0,1.0,4.0,1.0,1.0,1.0,1.0,1.0,1.0,1.0])                             |(1000,[18,224,338,372,403,488,524,559,749,855,921],[5.805282948774089,4.520822893535466,2.4450882137869567,0.16558941149780698,3.104969730174031,1.8446900071133143,4.5128547238862895,3.018346778126166,3.058864628494586,2.6739441250863316,3.6847882254269733])                                                                                      |\n",
            "|  Of grief and blushes, aptly understood                             |[, , of, grief, and, blushes,, aptly, understood]                                        |(1000,[18,369,372,495,644,651,891],[1.0,1.0,2.0,1.0,1.0,1.0,1.0])                                                             |(1000,[18,369,372,495,644,651,891],[5.805282948774089,3.1551394863196998,0.08279470574890349,1.8906045125874118,5.5902648049037955,6.12229263632039,1.5061903604809945])                                                                                                                                                                                |\n",
            "+---------------------------------------------------------------------+-----------------------------------------------------------------------------------------+------------------------------------------------------------------------------------------------------------------------------+--------------------------------------------------------------------------------------------------------------------------------------------------------------------------------------------------------------------------------------------------------------------------------------------------------------------------------------------------------+\n",
            "\n"
          ]
        }
      ],
      "source": [
        "# Search for \"grief\"\n",
        "keyword = \"grief\"\n",
        "filteredResult = result.filter(array_contains(col(\"words\"), keyword))\n",
        "filteredResult.show(n=filteredResult.count(), truncate=False)"
      ]
    },
    {
      "cell_type": "code",
      "execution_count": null,
      "metadata": {
        "id": "wbyMx1-GQzPG"
      },
      "outputs": [],
      "source": [
        "spark.stop()"
      ]
    },
    {
      "cell_type": "markdown",
      "metadata": {
        "id": "bz9Gq37VPsWJ"
      },
      "source": [
        "# Word2Vec"
      ]
    },
    {
      "cell_type": "markdown",
      "metadata": {
        "id": "p93u9MsqPyzD"
      },
      "source": [
        "Feature transformer thet converts words into numerical vectors using a neural network-based embedding model. It maps words to a continous vector space\n",
        "preserving similarity. It captures relationships between words."
      ]
    },
    {
      "cell_type": "markdown",
      "metadata": {
        "id": "hscOYC61QsET"
      },
      "source": [
        " word2Vec converts words into numerical vector representations to find similarities between them\n"
      ]
    },
    {
      "cell_type": "code",
      "execution_count": null,
      "metadata": {
        "id": "L6sjN5jBQk2d"
      },
      "outputs": [],
      "source": [
        "from pyspark.sql import SparkSession\n",
        "from pyspark.ml.feature import Tokenizer, Word2Vec\n",
        "from pyspark.sql.functions import col, regexp_replace, trim, lower"
      ]
    },
    {
      "cell_type": "code",
      "execution_count": null,
      "metadata": {
        "id": "fFyb9BmWQ2om"
      },
      "outputs": [],
      "source": [
        "spark = SparkSession.builder.appName(\"NLPFeatureExtractionWord2Vec\").getOrCreate()"
      ]
    },
    {
      "cell_type": "code",
      "execution_count": null,
      "metadata": {
        "colab": {
          "base_uri": "https://localhost:8080/",
          "height": 73
        },
        "id": "R9GfjXLGQ6Yb",
        "outputId": "024b86db-973a-44e5-a0cb-35f4ca9c1ac7"
      },
      "outputs": [
        {
          "output_type": "display_data",
          "data": {
            "text/plain": [
              "<IPython.core.display.HTML object>"
            ],
            "text/html": [
              "\n",
              "     <input type=\"file\" id=\"files-973933e3-45af-4bc9-9eca-6e4190e43223\" name=\"files[]\" multiple disabled\n",
              "        style=\"border:none\" />\n",
              "     <output id=\"result-973933e3-45af-4bc9-9eca-6e4190e43223\">\n",
              "      Upload widget is only available when the cell has been executed in the\n",
              "      current browser session. Please rerun this cell to enable.\n",
              "      </output>\n",
              "      <script>// Copyright 2017 Google LLC\n",
              "//\n",
              "// Licensed under the Apache License, Version 2.0 (the \"License\");\n",
              "// you may not use this file except in compliance with the License.\n",
              "// You may obtain a copy of the License at\n",
              "//\n",
              "//      http://www.apache.org/licenses/LICENSE-2.0\n",
              "//\n",
              "// Unless required by applicable law or agreed to in writing, software\n",
              "// distributed under the License is distributed on an \"AS IS\" BASIS,\n",
              "// WITHOUT WARRANTIES OR CONDITIONS OF ANY KIND, either express or implied.\n",
              "// See the License for the specific language governing permissions and\n",
              "// limitations under the License.\n",
              "\n",
              "/**\n",
              " * @fileoverview Helpers for google.colab Python module.\n",
              " */\n",
              "(function(scope) {\n",
              "function span(text, styleAttributes = {}) {\n",
              "  const element = document.createElement('span');\n",
              "  element.textContent = text;\n",
              "  for (const key of Object.keys(styleAttributes)) {\n",
              "    element.style[key] = styleAttributes[key];\n",
              "  }\n",
              "  return element;\n",
              "}\n",
              "\n",
              "// Max number of bytes which will be uploaded at a time.\n",
              "const MAX_PAYLOAD_SIZE = 100 * 1024;\n",
              "\n",
              "function _uploadFiles(inputId, outputId) {\n",
              "  const steps = uploadFilesStep(inputId, outputId);\n",
              "  const outputElement = document.getElementById(outputId);\n",
              "  // Cache steps on the outputElement to make it available for the next call\n",
              "  // to uploadFilesContinue from Python.\n",
              "  outputElement.steps = steps;\n",
              "\n",
              "  return _uploadFilesContinue(outputId);\n",
              "}\n",
              "\n",
              "// This is roughly an async generator (not supported in the browser yet),\n",
              "// where there are multiple asynchronous steps and the Python side is going\n",
              "// to poll for completion of each step.\n",
              "// This uses a Promise to block the python side on completion of each step,\n",
              "// then passes the result of the previous step as the input to the next step.\n",
              "function _uploadFilesContinue(outputId) {\n",
              "  const outputElement = document.getElementById(outputId);\n",
              "  const steps = outputElement.steps;\n",
              "\n",
              "  const next = steps.next(outputElement.lastPromiseValue);\n",
              "  return Promise.resolve(next.value.promise).then((value) => {\n",
              "    // Cache the last promise value to make it available to the next\n",
              "    // step of the generator.\n",
              "    outputElement.lastPromiseValue = value;\n",
              "    return next.value.response;\n",
              "  });\n",
              "}\n",
              "\n",
              "/**\n",
              " * Generator function which is called between each async step of the upload\n",
              " * process.\n",
              " * @param {string} inputId Element ID of the input file picker element.\n",
              " * @param {string} outputId Element ID of the output display.\n",
              " * @return {!Iterable<!Object>} Iterable of next steps.\n",
              " */\n",
              "function* uploadFilesStep(inputId, outputId) {\n",
              "  const inputElement = document.getElementById(inputId);\n",
              "  inputElement.disabled = false;\n",
              "\n",
              "  const outputElement = document.getElementById(outputId);\n",
              "  outputElement.innerHTML = '';\n",
              "\n",
              "  const pickedPromise = new Promise((resolve) => {\n",
              "    inputElement.addEventListener('change', (e) => {\n",
              "      resolve(e.target.files);\n",
              "    });\n",
              "  });\n",
              "\n",
              "  const cancel = document.createElement('button');\n",
              "  inputElement.parentElement.appendChild(cancel);\n",
              "  cancel.textContent = 'Cancel upload';\n",
              "  const cancelPromise = new Promise((resolve) => {\n",
              "    cancel.onclick = () => {\n",
              "      resolve(null);\n",
              "    };\n",
              "  });\n",
              "\n",
              "  // Wait for the user to pick the files.\n",
              "  const files = yield {\n",
              "    promise: Promise.race([pickedPromise, cancelPromise]),\n",
              "    response: {\n",
              "      action: 'starting',\n",
              "    }\n",
              "  };\n",
              "\n",
              "  cancel.remove();\n",
              "\n",
              "  // Disable the input element since further picks are not allowed.\n",
              "  inputElement.disabled = true;\n",
              "\n",
              "  if (!files) {\n",
              "    return {\n",
              "      response: {\n",
              "        action: 'complete',\n",
              "      }\n",
              "    };\n",
              "  }\n",
              "\n",
              "  for (const file of files) {\n",
              "    const li = document.createElement('li');\n",
              "    li.append(span(file.name, {fontWeight: 'bold'}));\n",
              "    li.append(span(\n",
              "        `(${file.type || 'n/a'}) - ${file.size} bytes, ` +\n",
              "        `last modified: ${\n",
              "            file.lastModifiedDate ? file.lastModifiedDate.toLocaleDateString() :\n",
              "                                    'n/a'} - `));\n",
              "    const percent = span('0% done');\n",
              "    li.appendChild(percent);\n",
              "\n",
              "    outputElement.appendChild(li);\n",
              "\n",
              "    const fileDataPromise = new Promise((resolve) => {\n",
              "      const reader = new FileReader();\n",
              "      reader.onload = (e) => {\n",
              "        resolve(e.target.result);\n",
              "      };\n",
              "      reader.readAsArrayBuffer(file);\n",
              "    });\n",
              "    // Wait for the data to be ready.\n",
              "    let fileData = yield {\n",
              "      promise: fileDataPromise,\n",
              "      response: {\n",
              "        action: 'continue',\n",
              "      }\n",
              "    };\n",
              "\n",
              "    // Use a chunked sending to avoid message size limits. See b/62115660.\n",
              "    let position = 0;\n",
              "    do {\n",
              "      const length = Math.min(fileData.byteLength - position, MAX_PAYLOAD_SIZE);\n",
              "      const chunk = new Uint8Array(fileData, position, length);\n",
              "      position += length;\n",
              "\n",
              "      const base64 = btoa(String.fromCharCode.apply(null, chunk));\n",
              "      yield {\n",
              "        response: {\n",
              "          action: 'append',\n",
              "          file: file.name,\n",
              "          data: base64,\n",
              "        },\n",
              "      };\n",
              "\n",
              "      let percentDone = fileData.byteLength === 0 ?\n",
              "          100 :\n",
              "          Math.round((position / fileData.byteLength) * 100);\n",
              "      percent.textContent = `${percentDone}% done`;\n",
              "\n",
              "    } while (position < fileData.byteLength);\n",
              "  }\n",
              "\n",
              "  // All done.\n",
              "  yield {\n",
              "    response: {\n",
              "      action: 'complete',\n",
              "    }\n",
              "  };\n",
              "}\n",
              "\n",
              "scope.google = scope.google || {};\n",
              "scope.google.colab = scope.google.colab || {};\n",
              "scope.google.colab._files = {\n",
              "  _uploadFiles,\n",
              "  _uploadFilesContinue,\n",
              "};\n",
              "})(self);\n",
              "</script> "
            ]
          },
          "metadata": {}
        },
        {
          "output_type": "stream",
          "name": "stdout",
          "text": [
            "Saving shakespeare.txt to shakespeare (3).txt\n"
          ]
        }
      ],
      "source": [
        "from google.colab import files\n",
        "\n",
        "# Upload the file\n",
        "uploaded = files.upload()\n",
        "\n",
        "# Get the uploaded file name\n",
        "file_name = list(uploaded.keys())[0]\n",
        "\n",
        "# Read the file\n",
        "data = spark.read.text(file_name).withColumnRenamed(\"value\", \"raw_text\")\n"
      ]
    },
    {
      "cell_type": "markdown",
      "source": [
        "Text processing"
      ],
      "metadata": {
        "id": "6_tUDFDPMQl6"
      }
    },
    {
      "cell_type": "code",
      "source": [
        "pip install inflect"
      ],
      "metadata": {
        "colab": {
          "base_uri": "https://localhost:8080/"
        },
        "id": "qFsHAiZmOt67",
        "outputId": "d6ab122d-1f93-4b18-851f-b790fa1ebda7"
      },
      "execution_count": null,
      "outputs": [
        {
          "output_type": "stream",
          "name": "stdout",
          "text": [
            "Requirement already satisfied: inflect in /usr/local/lib/python3.11/dist-packages (7.5.0)\n",
            "Requirement already satisfied: more_itertools>=8.5.0 in /usr/local/lib/python3.11/dist-packages (from inflect) (10.6.0)\n",
            "Requirement already satisfied: typeguard>=4.0.1 in /usr/local/lib/python3.11/dist-packages (from inflect) (4.4.2)\n",
            "Requirement already satisfied: typing_extensions>=4.10.0 in /usr/local/lib/python3.11/dist-packages (from typeguard>=4.0.1->inflect) (4.12.2)\n"
          ]
        }
      ]
    },
    {
      "cell_type": "code",
      "source": [
        "import inflect\n",
        "from pyspark.sql.functions import udf, col\n",
        "from pyspark.sql.types import StringType\n",
        "\n",
        "engine = inflect.engine()\n",
        "\n",
        "def replace_ordinal(text):\n",
        "    words = text.split()\n",
        "    for i, word in enumerate(words):\n",
        "        # Remove trailing punctuation (e.g., \"100th,\" → \"100th\")\n",
        "        clean_word = word.strip(\".,;!?\")\n",
        "        # Check for ordinal patterns like 100th, 2nd, etc.\n",
        "        if len(clean_word) >= 2 and clean_word[-2:] in ('th', 'st', 'nd', 'rd'):\n",
        "            number_part = clean_word[:-2]\n",
        "            if number_part.isdigit():\n",
        "                try:\n",
        "                    # Convert to integer and get ordinal word\n",
        "                    ordinal_word = engine.number_to_words(int(number_part), ordinal=True)\n",
        "                    # Replace the original word with its ordinal text\n",
        "                    words[i] = words[i].replace(clean_word, ordinal_word)\n",
        "                except:\n",
        "                    pass  # Skip conversion on errors\n",
        "    return ' '.join(words)\n",
        "\n",
        "# Register UDF\n",
        "replace_ordinal_udf = udf(replace_ordinal, StringType())\n",
        "data = data.withColumn(\"cleaned_text\", replace_ordinal_udf(col(\"raw_text\")))"
      ],
      "metadata": {
        "id": "ktEJFArFLnN3"
      },
      "execution_count": null,
      "outputs": []
    },
    {
      "cell_type": "code",
      "execution_count": null,
      "metadata": {
        "id": "Gb6uFCKsRFdC",
        "colab": {
          "base_uri": "https://localhost:8080/"
        },
        "outputId": "f99859b4-eb76-45e2-8797-12b2d7448587"
      },
      "outputs": [
        {
          "output_type": "stream",
          "name": "stdout",
          "text": [
            "+----------------------------------------------------------------+----------------------------------------------------------------+\n",
            "|raw_text                                                        |cleaned_text                                                    |\n",
            "+----------------------------------------------------------------+----------------------------------------------------------------+\n",
            "|This is the 100th Etext file presented by Project Gutenberg, and|This is the 100th Etext file presented by Project Gutenberg, and|\n",
            "|is presented in cooperation with World Library, Inc., from their|is presented in cooperation with World Library, Inc., from their|\n",
            "|Library of the Future and Shakespeare CDROMS.  Project Gutenberg|Library of the Future and Shakespeare CDROMS. Project Gutenberg |\n",
            "|often releases Etexts that are NOT placed in the Public Domain!!|often releases Etexts that are NOT placed in the Public Domain!!|\n",
            "|Shakespeare                                                     |Shakespeare                                                     |\n",
            "+----------------------------------------------------------------+----------------------------------------------------------------+\n",
            "only showing top 5 rows\n",
            "\n"
          ]
        }
      ],
      "source": [
        "data.show(5, truncate=False)"
      ]
    },
    {
      "cell_type": "markdown",
      "metadata": {
        "id": "HhulnCGgRLkG"
      },
      "source": [
        "Split the sentences into numerical vector representations"
      ]
    },
    {
      "cell_type": "code",
      "execution_count": null,
      "metadata": {
        "id": "nWFTHDkSRJDQ",
        "colab": {
          "base_uri": "https://localhost:8080/"
        },
        "outputId": "6808d2ef-d8ab-42b6-ed1a-40689b673c7b"
      },
      "outputs": [
        {
          "output_type": "stream",
          "name": "stdout",
          "text": [
            "+----------------------------------------------------------------+----------------------------------------------------------------------------+\n",
            "|cleaned_text                                                    |words                                                                       |\n",
            "+----------------------------------------------------------------+----------------------------------------------------------------------------+\n",
            "|This is the 100th Etext file presented by Project Gutenberg, and|[this, is, the, 100th, etext, file, presented, by, project, gutenberg,, and]|\n",
            "|is presented in cooperation with World Library, Inc., from their|[is, presented, in, cooperation, with, world, library,, inc.,, from, their] |\n",
            "|Library of the Future and Shakespeare CDROMS. Project Gutenberg |[library, of, the, future, and, shakespeare, cdroms., project, gutenberg]   |\n",
            "|often releases Etexts that are NOT placed in the Public Domain!!|[often, releases, etexts, that, are, not, placed, in, the, public, domain!!]|\n",
            "|Shakespeare                                                     |[shakespeare]                                                               |\n",
            "+----------------------------------------------------------------+----------------------------------------------------------------------------+\n",
            "only showing top 5 rows\n",
            "\n"
          ]
        }
      ],
      "source": [
        "tokenizer = Tokenizer(inputCol=\"cleaned_text\", outputCol=\"words\")\n",
        "wordsData = tokenizer.transform(data)\n",
        "wordsData.select(\"cleaned_text\", \"words\").show(5, truncate=False)"
      ]
    },
    {
      "cell_type": "markdown",
      "metadata": {
        "id": "d-g8t7YaRXSe"
      },
      "source": [
        "Convert the words into numerical vector representations\n"
      ]
    },
    {
      "cell_type": "code",
      "execution_count": null,
      "metadata": {
        "id": "b-23LoCiRVPp"
      },
      "outputs": [],
      "source": [
        "word2Vec = Word2Vec(vectorSize=3, minCount=0, inputCol=\"words\", outputCol=\"result\")"
      ]
    },
    {
      "cell_type": "markdown",
      "source": [
        "Train the model"
      ],
      "metadata": {
        "id": "sRzxh3DuPfQz"
      }
    },
    {
      "cell_type": "code",
      "source": [
        "model = word2Vec.fit(wordsData)"
      ],
      "metadata": {
        "id": "sCL-rMNePe3G"
      },
      "execution_count": null,
      "outputs": []
    },
    {
      "cell_type": "markdown",
      "metadata": {
        "id": "JlZZf167RfIm"
      },
      "source": [
        "Transform the data to get word vectors (each sentence is converted to sentence-level embeddings\n"
      ]
    },
    {
      "cell_type": "code",
      "execution_count": null,
      "metadata": {
        "id": "lqxJk4AHRiH7",
        "colab": {
          "base_uri": "https://localhost:8080/"
        },
        "outputId": "2a1e249a-bcb1-4adf-aca5-5e9d79fec6d6"
      },
      "outputs": [
        {
          "output_type": "stream",
          "name": "stdout",
          "text": [
            "+----------------------------------------------------------------------------+--------------------------------------------------------------+\n",
            "|words                                                                       |result                                                        |\n",
            "+----------------------------------------------------------------------------+--------------------------------------------------------------+\n",
            "|[this, is, the, 100th, etext, file, presented, by, project, gutenberg,, and]|[-0.5995194738392126,-7.235522974621166E-4,0.7563755735754967]|\n",
            "|[is, presented, in, cooperation, with, world, library,, inc.,, from, their] |[-0.927121011260897,0.07981600277125836,0.4507550247013569]   |\n",
            "|[library, of, the, future, and, shakespeare, cdroms., project, gutenberg]   |[-1.0230527371168137,-0.00898773761259185,1.024926015900241]  |\n",
            "|[often, releases, etexts, that, are, not, placed, in, the, public, domain!!]|[-0.17524426193399864,0.112800582989373,-0.04939867573028261] |\n",
            "|[shakespeare]                                                               |[-3.248802423477173,0.4621964991092682,1.4162503480911255]    |\n",
            "+----------------------------------------------------------------------------+--------------------------------------------------------------+\n",
            "only showing top 5 rows\n",
            "\n"
          ]
        }
      ],
      "source": [
        "result = model.transform(wordsData)\n",
        "result.select(\"words\", \"result\").show(5, truncate=False)"
      ]
    },
    {
      "cell_type": "markdown",
      "metadata": {
        "id": "0wIiTetRRwID"
      },
      "source": [
        "get word vector for specific word"
      ]
    },
    {
      "cell_type": "code",
      "execution_count": null,
      "metadata": {
        "id": "SnDXksysRvmT",
        "colab": {
          "base_uri": "https://localhost:8080/"
        },
        "outputId": "01983b1c-1b7c-44f4-de06-54a7af9095ce"
      },
      "outputs": [
        {
          "output_type": "stream",
          "name": "stdout",
          "text": [
            "+-----+------------------------------------------------------------+\n",
            "|word |vector                                                      |\n",
            "+-----+------------------------------------------------------------+\n",
            "|grief|[-0.2706522047519684,0.20689503848552704,0.2844409942626953]|\n",
            "+-----+------------------------------------------------------------+\n",
            "\n"
          ]
        }
      ],
      "source": [
        "word = \"grief\"\n",
        "wordVector = model.getVectors().filter(col(\"word\") == word)\n",
        "wordVector.show(truncate=False)"
      ]
    },
    {
      "cell_type": "markdown",
      "metadata": {
        "id": "Ozoq6BEzR6Nj"
      },
      "source": [
        "Find similar words"
      ]
    },
    {
      "cell_type": "code",
      "execution_count": null,
      "metadata": {
        "id": "D84bLItXR5XW",
        "colab": {
          "base_uri": "https://localhost:8080/"
        },
        "outputId": "1c805fc8-26e8-4386-ce2f-cbd58a5a096d"
      },
      "outputs": [
        {
          "output_type": "stream",
          "name": "stdout",
          "text": [
            "+-------------+------------------+\n",
            "|word         |similarity        |\n",
            "+-------------+------------------+\n",
            "|another?     |0.9999030828475952|\n",
            "|fabian.      |0.9998683333396912|\n",
            "|curate;      |0.9998637437820435|\n",
            "|marshalship, |0.9997220635414124|\n",
            "|well-govern'd|0.9997202157974243|\n",
            "+-------------+------------------+\n",
            "\n"
          ]
        }
      ],
      "source": [
        "synonyms = model.findSynonyms(\"love\", 5)\n",
        "synonyms.show(truncate=False)"
      ]
    }
  ],
  "metadata": {
    "colab": {
      "provenance": [],
      "authorship_tag": "ABX9TyO5PcWrIryDn4pxmRjTiNuz",
      "include_colab_link": true
    },
    "kernelspec": {
      "display_name": "Python 3",
      "name": "python3"
    },
    "language_info": {
      "name": "python"
    }
  },
  "nbformat": 4,
  "nbformat_minor": 0
}