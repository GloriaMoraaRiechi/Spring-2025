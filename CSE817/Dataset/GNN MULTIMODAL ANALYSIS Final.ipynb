{
 "cells": [
  {
   "cell_type": "markdown",
   "id": "40b39d62",
   "metadata": {},
   "source": [
    "# Kidney CT Scan Dataset: Multimodal Patch-Based GNN for Normal, Cyst, Tumor, and Stone Classification\n",
    "\n",
    "## Project Description\n",
    "\n",
    "This project leverages a curated dataset of kidney CT scans collected from multiple diagnostic centers in Dhaka, Bangladesh. The images are categorized into four diagnostic classes:\n",
    "\n",
    "- **Normal**\n",
    "- **Cyst**\n",
    "- **Tumor**\n",
    "- **Stone**\n",
    "\n",
    "The primary objective is to implement a **Graph Neural Network (GNN)** model that integrates both **visual features** from the images and **semantic features** derived from medical text to improve classification of kidney conditions.\n",
    "\n",
    "### Multimodal Design\n",
    "\n",
    "Each image is divided into smaller patches (e.g., a 4x4 grid). These patches are:\n",
    "- Processed through a **Convolutional Neural Network (CNN)**, specifically a pretrained **ResNet18**, to extract deep features from each patch.\n",
    "- Treated as individual **nodes** in a graph, capturing spatial and text-interconnected relationships.\n",
    "\n",
    "Additionally, each image is paired with a corresponding **domain-informed text description**, such as:\n",
    "> “Contrast-enhanced CT shows a solid irregular renal mass indicating a tumor.”\n",
    "\n",
    "These text descriptions are embedded using language models like **BioBERT** or **CLIP**, and included as **text nodes** in the same graph structure.\n",
    "\n",
    "The resulting graph per image contains:\n",
    "- **Patch nodes** (image regions)\n",
    "- **One text node**\n",
    "- **Edges** representing spatial proximity and semantic relationships\n",
    "\n",
    "A GNN model (e.g., **Graph Attention Network (GAT)** or **GraphSAGE**) processes this structure to learn complex interactions between image regions and associated diagnostic language, followed by a **global pooling layer** and **multi-layer perceptron (MLP)** for final classification.\n",
    "\n",
    "\n",
    "## Class Descriptions\n",
    "\n",
    "- **Normal**: CT scans displaying healthy kidney tissues without visible abnormalities. These serve as a reference baseline.\n",
    "\n",
    "- **Cyst**: CT images revealing fluid-filled sacs, typically benign, but clinically relevant due to potential complications such as rupture or infection.\n",
    "\n",
    "- **Tumor**: Scans showing irregular masses that may indicate malignancies like renal cell carcinoma. Tumors are characterized by their shape, density, and contrast uptake.\n",
    "\n",
    "- **Stone**: Highly radiodense structures representing calcified mineral deposits in the renal system. These may cause pain, obstructions, or urinary tract infections.\n",
    "\n",
    "\n",
    "## Significance\n",
    "\n",
    "This multimodal GNN approach demonstrates how **spatial, semantic, and visual information** can be combined to advance automated kidney disease diagnosis. It has the potential to:\n",
    "- Improve detection accuracy\n",
    "- Assist radiologists with clinical decision-making\n",
    "- Serve as a foundation for computer-aided detection (CAD) systems in medical imaging\n"
   ]
  },
  {
   "cell_type": "markdown",
   "id": "2d859a43",
   "metadata": {},
   "source": [
    "## 1. Dataset Preparation"
   ]
  },
  {
   "cell_type": "code",
   "execution_count": 90,
   "id": "b5fca8e1",
   "metadata": {},
   "outputs": [
    {
     "name": "stdout",
     "output_type": "stream",
     "text": [
      "✅ Dataset loaded.\n",
      "   Unnamed: 0       image_id  \\\n",
      "0           0  Tumor- (1044)   \n",
      "1           1    Tumor- (83)   \n",
      "2           2   Tumor- (580)   \n",
      "3           3  Tumor- (1701)   \n",
      "4           4  Tumor- (1220)   \n",
      "\n",
      "                                                path   diag  target  Class  \\\n",
      "0  C:\\Users\\glori\\Desktop\\Fundamentals of Big Dat...  Tumor       3  Tumor   \n",
      "1  C:\\Users\\glori\\Desktop\\Fundamentals of Big Dat...  Tumor       3  Tumor   \n",
      "2  C:\\Users\\glori\\Desktop\\Fundamentals of Big Dat...  Tumor       3  Tumor   \n",
      "3  C:\\Users\\glori\\Desktop\\Fundamentals of Big Dat...  Tumor       3  Tumor   \n",
      "4  C:\\Users\\glori\\Desktop\\Fundamentals of Big Dat...  Tumor       3  Tumor   \n",
      "\n",
      "                                    text_description  \n",
      "0  Contrast-enhanced CT shows a solid irregular r...  \n",
      "1  Contrast-enhanced CT shows a solid irregular r...  \n",
      "2  Contrast-enhanced CT shows a solid irregular r...  \n",
      "3  Contrast-enhanced CT shows a solid irregular r...  \n",
      "4  Contrast-enhanced CT shows a solid irregular r...  \n"
     ]
    }
   ],
   "source": [
    "import pandas as pd\n",
    "import os\n",
    "\n",
    "csv_path = r\"C:\\Users\\glori\\Desktop\\Fundamentals of Big Data Analytics\\GNN Multimodal analysis\\dataset_with_text.csv\"\n",
    "\n",
    "df = pd.read_csv(csv_path)\n",
    "print(\"✅ Dataset loaded.\")\n",
    "print(df.head())"
   ]
  },
  {
   "cell_type": "code",
   "execution_count": 91,
   "id": "0d12bf85",
   "metadata": {},
   "outputs": [
    {
     "name": "stdout",
     "output_type": "stream",
     "text": [
      "✅ All image paths are valid.\n"
     ]
    }
   ],
   "source": [
    "df['path_exists'] = df['path'].apply(lambda x: os.path.exists(x))\n",
    "\n",
    "missing_count = (~df['path_exists']).sum()\n",
    "if missing_count > 0:\n",
    "    print(f\"{missing_count} images have broken paths.\")\n",
    "    print(df[df['path_exists'] == False][['image_id', 'path']].head())\n",
    "else:\n",
    "    print(\"✅ All image paths are valid.\")"
   ]
  },
  {
   "cell_type": "markdown",
   "id": "bc6583b4",
   "metadata": {},
   "source": [
    "## Patch-Based CNN Feature Extraction (ResNet18)"
   ]
  },
  {
   "cell_type": "markdown",
   "id": "a94971cf",
   "metadata": {},
   "source": [
    "- load each image\n",
    "\n",
    "- Divide the images into a 4x4 grid (16 patches)\n",
    "\n",
    "- Extract a 512-dimensional feature vecor from each patch using ResNet18\n",
    "\n",
    "- Save the result in a Numpy file for use in GNN graph creation"
   ]
  },
  {
   "cell_type": "code",
   "execution_count": 95,
   "id": "58e4273f",
   "metadata": {},
   "outputs": [],
   "source": [
    "import torch\n",
    "import torchvision.models as models\n",
    "import torchvision.transforms as transforms\n",
    "from PIL import Image\n",
    "import pandas as pd\n",
    "import numpy as np\n",
    "from tqdm import tqdm"
   ]
  },
  {
   "cell_type": "markdown",
   "id": "1ccdd9d0",
   "metadata": {},
   "source": [
    "### Load ResNet18 pretrained on ImageNet, remove final FC layer"
   ]
  },
  {
   "cell_type": "code",
   "execution_count": 96,
   "id": "1a050770",
   "metadata": {},
   "outputs": [
    {
     "name": "stderr",
     "output_type": "stream",
     "text": [
      "C:\\Users\\glori\\AppData\\Local\\Packages\\PythonSoftwareFoundation.Python.3.11_qbz5n2kfra8p0\\LocalCache\\local-packages\\Python311\\site-packages\\torchvision\\models\\_utils.py:208: UserWarning: The parameter 'pretrained' is deprecated since 0.13 and may be removed in the future, please use 'weights' instead.\n",
      "  warnings.warn(\n",
      "C:\\Users\\glori\\AppData\\Local\\Packages\\PythonSoftwareFoundation.Python.3.11_qbz5n2kfra8p0\\LocalCache\\local-packages\\Python311\\site-packages\\torchvision\\models\\_utils.py:223: UserWarning: Arguments other than a weight enum or `None` for 'weights' are deprecated since 0.13 and may be removed in the future. The current behavior is equivalent to passing `weights=ResNet18_Weights.IMAGENET1K_V1`. You can also use `weights=ResNet18_Weights.DEFAULT` to get the most up-to-date weights.\n",
      "  warnings.warn(msg)\n"
     ]
    },
    {
     "data": {
      "text/plain": [
       "Sequential(\n",
       "  (0): Conv2d(3, 64, kernel_size=(7, 7), stride=(2, 2), padding=(3, 3), bias=False)\n",
       "  (1): BatchNorm2d(64, eps=1e-05, momentum=0.1, affine=True, track_running_stats=True)\n",
       "  (2): ReLU(inplace=True)\n",
       "  (3): MaxPool2d(kernel_size=3, stride=2, padding=1, dilation=1, ceil_mode=False)\n",
       "  (4): Sequential(\n",
       "    (0): BasicBlock(\n",
       "      (conv1): Conv2d(64, 64, kernel_size=(3, 3), stride=(1, 1), padding=(1, 1), bias=False)\n",
       "      (bn1): BatchNorm2d(64, eps=1e-05, momentum=0.1, affine=True, track_running_stats=True)\n",
       "      (relu): ReLU(inplace=True)\n",
       "      (conv2): Conv2d(64, 64, kernel_size=(3, 3), stride=(1, 1), padding=(1, 1), bias=False)\n",
       "      (bn2): BatchNorm2d(64, eps=1e-05, momentum=0.1, affine=True, track_running_stats=True)\n",
       "    )\n",
       "    (1): BasicBlock(\n",
       "      (conv1): Conv2d(64, 64, kernel_size=(3, 3), stride=(1, 1), padding=(1, 1), bias=False)\n",
       "      (bn1): BatchNorm2d(64, eps=1e-05, momentum=0.1, affine=True, track_running_stats=True)\n",
       "      (relu): ReLU(inplace=True)\n",
       "      (conv2): Conv2d(64, 64, kernel_size=(3, 3), stride=(1, 1), padding=(1, 1), bias=False)\n",
       "      (bn2): BatchNorm2d(64, eps=1e-05, momentum=0.1, affine=True, track_running_stats=True)\n",
       "    )\n",
       "  )\n",
       "  (5): Sequential(\n",
       "    (0): BasicBlock(\n",
       "      (conv1): Conv2d(64, 128, kernel_size=(3, 3), stride=(2, 2), padding=(1, 1), bias=False)\n",
       "      (bn1): BatchNorm2d(128, eps=1e-05, momentum=0.1, affine=True, track_running_stats=True)\n",
       "      (relu): ReLU(inplace=True)\n",
       "      (conv2): Conv2d(128, 128, kernel_size=(3, 3), stride=(1, 1), padding=(1, 1), bias=False)\n",
       "      (bn2): BatchNorm2d(128, eps=1e-05, momentum=0.1, affine=True, track_running_stats=True)\n",
       "      (downsample): Sequential(\n",
       "        (0): Conv2d(64, 128, kernel_size=(1, 1), stride=(2, 2), bias=False)\n",
       "        (1): BatchNorm2d(128, eps=1e-05, momentum=0.1, affine=True, track_running_stats=True)\n",
       "      )\n",
       "    )\n",
       "    (1): BasicBlock(\n",
       "      (conv1): Conv2d(128, 128, kernel_size=(3, 3), stride=(1, 1), padding=(1, 1), bias=False)\n",
       "      (bn1): BatchNorm2d(128, eps=1e-05, momentum=0.1, affine=True, track_running_stats=True)\n",
       "      (relu): ReLU(inplace=True)\n",
       "      (conv2): Conv2d(128, 128, kernel_size=(3, 3), stride=(1, 1), padding=(1, 1), bias=False)\n",
       "      (bn2): BatchNorm2d(128, eps=1e-05, momentum=0.1, affine=True, track_running_stats=True)\n",
       "    )\n",
       "  )\n",
       "  (6): Sequential(\n",
       "    (0): BasicBlock(\n",
       "      (conv1): Conv2d(128, 256, kernel_size=(3, 3), stride=(2, 2), padding=(1, 1), bias=False)\n",
       "      (bn1): BatchNorm2d(256, eps=1e-05, momentum=0.1, affine=True, track_running_stats=True)\n",
       "      (relu): ReLU(inplace=True)\n",
       "      (conv2): Conv2d(256, 256, kernel_size=(3, 3), stride=(1, 1), padding=(1, 1), bias=False)\n",
       "      (bn2): BatchNorm2d(256, eps=1e-05, momentum=0.1, affine=True, track_running_stats=True)\n",
       "      (downsample): Sequential(\n",
       "        (0): Conv2d(128, 256, kernel_size=(1, 1), stride=(2, 2), bias=False)\n",
       "        (1): BatchNorm2d(256, eps=1e-05, momentum=0.1, affine=True, track_running_stats=True)\n",
       "      )\n",
       "    )\n",
       "    (1): BasicBlock(\n",
       "      (conv1): Conv2d(256, 256, kernel_size=(3, 3), stride=(1, 1), padding=(1, 1), bias=False)\n",
       "      (bn1): BatchNorm2d(256, eps=1e-05, momentum=0.1, affine=True, track_running_stats=True)\n",
       "      (relu): ReLU(inplace=True)\n",
       "      (conv2): Conv2d(256, 256, kernel_size=(3, 3), stride=(1, 1), padding=(1, 1), bias=False)\n",
       "      (bn2): BatchNorm2d(256, eps=1e-05, momentum=0.1, affine=True, track_running_stats=True)\n",
       "    )\n",
       "  )\n",
       "  (7): Sequential(\n",
       "    (0): BasicBlock(\n",
       "      (conv1): Conv2d(256, 512, kernel_size=(3, 3), stride=(2, 2), padding=(1, 1), bias=False)\n",
       "      (bn1): BatchNorm2d(512, eps=1e-05, momentum=0.1, affine=True, track_running_stats=True)\n",
       "      (relu): ReLU(inplace=True)\n",
       "      (conv2): Conv2d(512, 512, kernel_size=(3, 3), stride=(1, 1), padding=(1, 1), bias=False)\n",
       "      (bn2): BatchNorm2d(512, eps=1e-05, momentum=0.1, affine=True, track_running_stats=True)\n",
       "      (downsample): Sequential(\n",
       "        (0): Conv2d(256, 512, kernel_size=(1, 1), stride=(2, 2), bias=False)\n",
       "        (1): BatchNorm2d(512, eps=1e-05, momentum=0.1, affine=True, track_running_stats=True)\n",
       "      )\n",
       "    )\n",
       "    (1): BasicBlock(\n",
       "      (conv1): Conv2d(512, 512, kernel_size=(3, 3), stride=(1, 1), padding=(1, 1), bias=False)\n",
       "      (bn1): BatchNorm2d(512, eps=1e-05, momentum=0.1, affine=True, track_running_stats=True)\n",
       "      (relu): ReLU(inplace=True)\n",
       "      (conv2): Conv2d(512, 512, kernel_size=(3, 3), stride=(1, 1), padding=(1, 1), bias=False)\n",
       "      (bn2): BatchNorm2d(512, eps=1e-05, momentum=0.1, affine=True, track_running_stats=True)\n",
       "    )\n",
       "  )\n",
       "  (8): AdaptiveAvgPool2d(output_size=(1, 1))\n",
       ")"
      ]
     },
     "execution_count": 96,
     "metadata": {},
     "output_type": "execute_result"
    }
   ],
   "source": [
    "resnet = models.resnet18(pretrained=True)\n",
    "resnet = torch.nn.Sequential(*list(resnet.children())[:-1])  # Remove classification head\n",
    "resnet.eval()"
   ]
  },
  {
   "cell_type": "markdown",
   "id": "0004a777",
   "metadata": {},
   "source": [
    "## Image Processing"
   ]
  },
  {
   "cell_type": "code",
   "execution_count": null,
   "id": "98644fae",
   "metadata": {},
   "outputs": [],
   "source": [
    "transform = transforms.Compose([\n",
    "    transforms.Resize((224, 224)),  # Resize whole image \n",
    "    transforms.ToTensor()\n",
    "])"
   ]
  },
  {
   "cell_type": "markdown",
   "id": "f9d496c5",
   "metadata": {},
   "source": [
    "### Patch extraction"
   ]
  },
  {
   "cell_type": "code",
   "execution_count": null,
   "id": "4d89459f",
   "metadata": {},
   "outputs": [
    {
     "name": "stdout",
     "output_type": "stream",
     "text": [
      "📦 Extracting patch features using ResNet18...\n"
     ]
    },
    {
     "name": "stderr",
     "output_type": "stream",
     "text": [
      "100%|██████████| 12446/12446 [1:01:42<00:00,  3.36it/s]\n"
     ]
    },
    {
     "name": "stdout",
     "output_type": "stream",
     "text": [
      "✅ Feature extraction complete. Saved to 'patch_features.npy'.\n"
     ]
    }
   ],
   "source": [
    "grid_size = 4  \n",
    "patch_features = []\n",
    "\n",
    "print(\"📦 Extracting patch features using ResNet18...\")\n",
    "\n",
    "for _, row in tqdm(df.iterrows(), total=len(df)):\n",
    "    try:\n",
    "        image_path = row[\"path\"]\n",
    "        img = Image.open(image_path).convert(\"RGB\")\n",
    "        img = transform(img)\n",
    "\n",
    "        # Get patch size\n",
    "        C, H, W = img.shape\n",
    "        patch_H = H // grid_size\n",
    "        patch_W = W // grid_size\n",
    "\n",
    "        patches = []\n",
    "        for i in range(grid_size):\n",
    "            for j in range(grid_size):\n",
    "                top = i * patch_H\n",
    "                left = j * patch_W\n",
    "                patch = img[:, top:top + patch_H, left:left + patch_W]\n",
    "                patch = patch.unsqueeze(0)  # Add batch dim\n",
    "\n",
    "                with torch.no_grad():\n",
    "                    feature = resnet(patch).squeeze().numpy()  # Shape: (512,)\n",
    "                patches.append(feature)\n",
    "\n",
    "        patch_features.append(patches)\n",
    "\n",
    "    except Exception as e:\n",
    "        print(f\"Error processing {row['image_id']}: {e}\")\n",
    "        patch_features.append([np.zeros(512)] * (grid_size * grid_size))\n",
    "\n",
    "# Convert to NumPy array and save\n",
    "patch_features = np.array(patch_features)  # Shape: [N, 16, 512]\n",
    "np.save(\"patch_features.npy\", patch_features)\n",
    "print(\"✅ Feature extraction complete. Saved to 'patch_features.npy'.\")"
   ]
  },
  {
   "cell_type": "markdown",
   "id": "4a25530e",
   "metadata": {},
   "source": [
    "OUTPUT\n",
    "\n",
    "- 16 nodes per image (1 node per patch)\n",
    "\n",
    "- Feature vectors for each node\n",
    "\n",
    "- A foundation to build a graph structure (connect patches, add a text node)\n",
    "\n"
   ]
  },
  {
   "cell_type": "markdown",
   "id": "0e06c545",
   "metadata": {},
   "source": [
    "## Text Embedding"
   ]
  },
  {
   "cell_type": "markdown",
   "id": "85d7bfe5",
   "metadata": {},
   "source": [
    "### Embed text_description"
   ]
  },
  {
   "cell_type": "markdown",
   "id": "c1820841",
   "metadata": {},
   "source": [
    "#### Spark Text Preprocessing (Lowercase, Clean Punctuation)"
   ]
  },
  {
   "cell_type": "code",
   "execution_count": null,
   "id": "30200b18",
   "metadata": {},
   "outputs": [],
   "source": [
    "# PySpark code to clean text_description column\n",
    "\n",
    "from pyspark.sql import SparkSession\n",
    "from pyspark.sql.functions import col, lower, regexp_replace\n",
    "\n",
    "# Initialize Spark session\n",
    "spark = SparkSession.builder.appName(\"TextClean\").getOrCreate()\n",
    "\n",
    "# Load CSV with original text_description\n",
    "csv_path = r\"C:\\Users\\glori\\Desktop\\Fundamentals of Big Data Analytics\\GNN Multimodal analysis\\dataset_with_text.csv\"\n",
    "df = spark.read.csv(csv_path, header=True)\n",
    "\n",
    "# Clean the text: lowercase + remove non-word characters\n",
    "df_cleaned = df.withColumn(\n",
    "    \"text_description\",\n",
    "    regexp_replace(lower(col(\"text_description\")), r\"[^\\w\\s]\", \"\")\n",
    ")\n",
    "\n",
    "# Show sample\n",
    "df_cleaned.select(\"text_description\").show(5, truncate=False)\n",
    "\n",
    "# Save cleaned version back to CSV\n",
    "cleaned_csv_path = r\"C:\\Users\\glori\\Desktop\\Fundamentals of Big Data Analytics\\GNN Multimodal analysis\\cleaned_dataset.csv\"\n",
    "df_cleaned.toPandas().to_csv(cleaned_csv_path, index=False)\n"
   ]
  },
  {
   "cell_type": "markdown",
   "id": "dd0bd9bc",
   "metadata": {},
   "source": [
    "#### Text Embedding with sentence-transformers"
   ]
  },
  {
   "cell_type": "code",
   "execution_count": null,
   "id": "191d8d52",
   "metadata": {},
   "outputs": [],
   "source": [
    "# Python code to compute text embeddings\n",
    "from sentence_transformers import SentenceTransformer\n",
    "import pandas as pd\n",
    "import numpy as np\n",
    "from tqdm import tqdm\n",
    "\n",
    "# Load cleaned dataset\n",
    "csv_path = r\"C:\\Users\\glori\\Desktop\\Fundamentals of Big Data Analytics\\GNN Multimodal analysis\\cleaned_dataset.csv\"\n",
    "df = pd.read_csv(csv_path)\n",
    "\n",
    "# Load MiniLM model (fast + good for semantic embeddings)\n",
    "model = SentenceTransformer(\"sentence-transformers/all-MiniLM-L6-v2\")\n",
    "\n",
    "# Embed descriptions\n",
    "descriptions = df[\"text_description\"].fillna(\"No description\").tolist()\n",
    "print(\"🔤 Embedding text_descriptions...\")\n",
    "embeddings = model.encode(descriptions, show_progress_bar=True)\n",
    "\n",
    "# Save embeddings to .npy\n",
    "np.save(\"text_embeddings_sbert.npy\", embeddings)\n",
    "print(\"✅ Saved to text_embeddings_sbert.npy\")\n",
    "print(f\"Embedding shape: {embeddings.shape}\")\n"
   ]
  },
  {
   "cell_type": "markdown",
   "id": "816dc76c",
   "metadata": {},
   "source": [
    "## graph construction pipeline using torch_geometric"
   ]
  },
  {
   "cell_type": "markdown",
   "id": "89b62e14",
   "metadata": {},
   "source": [
    "- patch_features.npy → shape: (N, 16, 512) → 16 patch nodes per image\n",
    "\n",
    "- text_embeddings_sbert.npy → shape: (N, 384) → 1 text node per image"
   ]
  },
  {
   "cell_type": "code",
   "execution_count": 99,
   "id": "eaa5f7bf",
   "metadata": {},
   "outputs": [],
   "source": [
    "import numpy as np\n",
    "import torch\n",
    "from torch_geometric.data import Data"
   ]
  },
  {
   "cell_type": "code",
   "execution_count": 1,
   "id": "bfacdebd",
   "metadata": {},
   "outputs": [
    {
     "name": "stdout",
     "output_type": "stream",
     "text": [
      "✅ Created 12446 multimodal graphs with labels.\n"
     ]
    }
   ],
   "source": [
    "import torch\n",
    "import numpy as np\n",
    "import pandas as pd\n",
    "from torch_geometric.data import Data\n",
    "\n",
    "df = pd.read_csv(r\"C:\\Users\\glori\\Desktop\\Fundamentals of Big Data Analytics\\GNN Multimodal analysis\\cleaned_dataset.csv\")\n",
    "\n",
    "# Load features\n",
    "patch_features = np.load(\"patch_features.npy\")  # [N, 16, 512]\n",
    "text_embeddings = np.load(\"text_embeddings_sbert.npy\")  # [N, 384]\n",
    "\n",
    "# Ensure shapes align\n",
    "assert patch_features.shape[0] == text_embeddings.shape[0], \"Mismatch in number of samples!\"\n",
    "\n",
    "num_samples = patch_features.shape[0]\n",
    "patch_dim = patch_features.shape[2]\n",
    "\n",
    "graph_list = []\n",
    "\n",
    "for i in range(num_samples):\n",
    "    patch_nodes = patch_features[i]\n",
    "    text_node = text_embeddings[i].reshape(1, -1)\n",
    "\n",
    "    if text_node.shape[1] != patch_nodes.shape[1]:\n",
    "        padded_text = np.zeros((1, patch_nodes.shape[1]))\n",
    "        padded_text[:, :text_node.shape[1]] = text_node\n",
    "        text_node = padded_text\n",
    "\n",
    "    x = np.vstack([patch_nodes, text_node])\n",
    "    x = torch.tensor(x, dtype=torch.float)\n",
    "\n",
    "    # Edge construction\n",
    "    edge_index = []\n",
    "    grid_size = 4\n",
    "    for row in range(grid_size):\n",
    "        for col in range(grid_size):\n",
    "            idx = row * grid_size + col\n",
    "            if col < grid_size - 1:\n",
    "                edge_index.append([idx, idx + 1])\n",
    "                edge_index.append([idx + 1, idx])\n",
    "            if row < grid_size - 1:\n",
    "                edge_index.append([idx, idx + grid_size])\n",
    "                edge_index.append([idx + grid_size, idx])\n",
    "    for idx in range(16):\n",
    "        edge_index.append([idx, 16])\n",
    "        edge_index.append([16, idx])\n",
    "\n",
    "    edge_index = torch.tensor(edge_index, dtype=torch.long).t().contiguous()\n",
    "\n",
    "    # Add label from DataFrame\n",
    "    label = df.iloc[i][\"target\"]\n",
    "    data = Data(x=x, edge_index=edge_index, y=torch.tensor(label, dtype=torch.long))\n",
    "    graph_list.append(data)\n",
    "\n",
    "# Save graph dataset\n",
    "graph_dataset = graph_list\n",
    "print(f\"✅ Created {len(graph_dataset)} multimodal graphs with labels.\")\n"
   ]
  },
  {
   "cell_type": "code",
   "execution_count": 2,
   "id": "cb9acd06",
   "metadata": {},
   "outputs": [],
   "source": [
    "graph_dataset = graph_list"
   ]
  },
  {
   "cell_type": "code",
   "execution_count": 3,
   "id": "3e7219e1",
   "metadata": {},
   "outputs": [
    {
     "name": "stdout",
     "output_type": "stream",
     "text": [
      "Data(x=[17, 512], edge_index=[2, 80], y=3)\n",
      "Number of nodes: 17\n",
      "Edge index shape: torch.Size([2, 80])\n",
      "Node feature shape: torch.Size([17, 512])\n"
     ]
    }
   ],
   "source": [
    "# Pick a sample graph (e.g., first one)\n",
    "data = graph_list[0]\n",
    "\n",
    "# Summary of the graph\n",
    "print(data)\n",
    "print(f\"Number of nodes: {data.num_nodes}\")\n",
    "print(f\"Edge index shape: {data.edge_index.shape}\")\n",
    "print(f\"Node feature shape: {data.x.shape}\")"
   ]
  },
  {
   "cell_type": "code",
   "execution_count": 104,
   "id": "d129ab5b",
   "metadata": {},
   "outputs": [
    {
     "data": {
      "image/png": "[encoded data removed]",
      "text/plain": [
       "<Figure size 600x600 with 1 Axes>"
      ]
     },
     "metadata": {},
     "output_type": "display_data"
    }
   ],
   "source": [
    "import matplotlib.pyplot as plt\n",
    "from torch_geometric.utils import to_networkx\n",
    "import networkx as nx\n",
    "\n",
    "# Convert to NetworkX for visualization\n",
    "G = to_networkx(data)\n",
    "\n",
    "# Plot graph\n",
    "plt.figure(figsize=(6, 6))\n",
    "nx.draw(G, with_labels=True, node_color='lightblue', edge_color='gray')\n",
    "plt.title(\"Sample Multimodal Graph (1 CT scan)\")\n",
    "plt.show()\n"
   ]
  },
  {
   "cell_type": "markdown",
   "id": "6e8e7af8",
   "metadata": {},
   "source": [
    "# GNN Model"
   ]
  },
  {
   "cell_type": "markdown",
   "id": "8e707844",
   "metadata": {},
   "source": [
    "### GNN Model Definition"
   ]
  },
  {
   "cell_type": "code",
   "execution_count": 52,
   "id": "7dde70b0",
   "metadata": {},
   "outputs": [],
   "source": [
    "import torch\n",
    "import torch.nn.functional as F\n",
    "from torch.nn import Linear\n",
    "from torch_geometric.nn import GCNConv, global_max_pool\n",
    "\n",
    "class GCNGraphClassifier(torch.nn.Module):\n",
    "    def __init__(self, in_channels=512, hidden_channels=64, num_classes=4):\n",
    "        super().__init__()\n",
    "        self.conv1 = GCNConv(in_channels, hidden_channels)\n",
    "        self.conv2 = GCNConv(hidden_channels, hidden_channels)\n",
    "        self.lin = Linear(hidden_channels, num_classes)\n",
    "\n",
    "    def forward(self, x, edge_index, batch):\n",
    "        x = self.conv1(x, edge_index)\n",
    "        x = F.relu(x)\n",
    "        x = self.conv2(x, edge_index)\n",
    "        x = global_max_pool(x, batch)\n",
    "        return self.lin(x)\n"
   ]
  },
  {
   "cell_type": "markdown",
   "id": "2f18b1be",
   "metadata": {},
   "source": [
    "### Setup Model, Optimizer, and DataLoader"
   ]
  },
  {
   "cell_type": "code",
   "execution_count": null,
   "id": "78fcdc44",
   "metadata": {},
   "outputs": [
    {
     "name": "stderr",
     "output_type": "stream",
     "text": [
      "C:\\Users\\glori\\AppData\\Local\\Packages\\PythonSoftwareFoundation.Python.3.11_qbz5n2kfra8p0\\LocalCache\\local-packages\\Python311\\site-packages\\torch_geometric\\deprecation.py:26: UserWarning: 'data.DataLoader' is deprecated, use 'loader.DataLoader' instead\n",
      "  warnings.warn(out)\n"
     ]
    }
   ],
   "source": [
    "import torch\n",
    "from torch_geometric.data import DataLoader\n",
    "from sklearn.model_selection import train_test_split\n",
    "\n",
    "# Class distribution from your dataset (based on previous counts)\n",
    "class_counts = torch.tensor([3709, 5077, 1377, 2283], dtype=torch.float)\n",
    "class_weights = 1.0 / class_counts\n",
    "class_weights = class_weights / class_weights.sum()  # Normalize\n",
    "\n",
    "device = torch.device(\"cuda\" if torch.cuda.is_available() else \"cpu\")\n",
    "\n",
    "# Model, optimizer, loss with class weights\n",
    "model = GCNGraphClassifier().to(device)\n",
    "optimizer = torch.optim.Adam(model.parameters(), lr=0.001)\n",
    "criterion = torch.nn.CrossEntropyLoss(weight=class_weights.to(device))\n",
    "\n",
    "# Rebuild train/test split\n",
    "labels = [data.y.item() for data in graph_list]\n",
    "train_idx, test_idx = train_test_split(\n",
    "    list(range(len(graph_list))),\n",
    "    test_size=0.2,\n",
    "    stratify=labels,\n",
    "    random_state=42\n",
    ")\n",
    "\n",
    "train_dataset = [graph_list[i] for i in train_idx]\n",
    "test_dataset = [graph_list[i] for i in test_idx]\n",
    "\n",
    "train_loader = DataLoader(train_dataset, batch_size=8, shuffle=True)\n",
    "test_loader = DataLoader(test_dataset, batch_size=8)\n"
   ]
  },
  {
   "cell_type": "code",
   "execution_count": 54,
   "id": "acfd06d5",
   "metadata": {},
   "outputs": [
    {
     "name": "stdout",
     "output_type": "stream",
     "text": [
      "Full: Counter({1: 5077, 0: 3709, 3: 2283, 2: 1377})\n",
      "Train: Counter({1: 4061, 0: 2967, 3: 1826, 2: 1102})\n",
      "Test: Counter({1: 1016, 0: 742, 3: 457, 2: 275})\n"
     ]
    }
   ],
   "source": [
    "from collections import Counter\n",
    "print(\"Full:\", Counter(labels))\n",
    "print(\"Train:\", Counter([data.y.item() for data in train_dataset]))\n",
    "print(\"Test:\", Counter([data.y.item() for data in test_dataset]))\n"
   ]
  },
  {
   "cell_type": "markdown",
   "id": "73a61d7c",
   "metadata": {},
   "source": [
    "### Training & Evaluation Functions"
   ]
  },
  {
   "cell_type": "code",
   "execution_count": 55,
   "id": "b4334b5f",
   "metadata": {},
   "outputs": [],
   "source": [
    "def train():\n",
    "    model.train()\n",
    "    total_loss = 0\n",
    "    for data in train_loader:\n",
    "        data = data.to(device)\n",
    "        optimizer.zero_grad()\n",
    "        out = model(data.x, data.edge_index, data.batch)\n",
    "        loss = criterion(out, data.y)\n",
    "        loss.backward()\n",
    "        optimizer.step()\n",
    "        total_loss += loss.item()\n",
    "    return total_loss / len(train_loader)\n",
    "\n",
    "def test(loader):\n",
    "    model.eval()\n",
    "    correct = 0\n",
    "    for data in loader:\n",
    "        data = data.to(device)\n",
    "        out = model(data.x, data.edge_index, data.batch)\n",
    "        pred = out.argmax(dim=1)\n",
    "        correct += (pred == data.y).sum().item()\n",
    "    return correct / len(loader.dataset)\n"
   ]
  },
  {
   "cell_type": "code",
   "execution_count": 56,
   "id": "387bdde6",
   "metadata": {},
   "outputs": [
    {
     "name": "stdout",
     "output_type": "stream",
     "text": [
      "Epoch 01 | Loss: 0.8196 | Test Acc: 0.8486\n",
      "Epoch 02 | Loss: 0.3002 | Test Acc: 0.9016\n",
      "Epoch 03 | Loss: 0.1443 | Test Acc: 0.9703\n",
      "Epoch 04 | Loss: 0.0894 | Test Acc: 0.9791\n",
      "Epoch 05 | Loss: 0.0552 | Test Acc: 0.9948\n",
      "Epoch 06 | Loss: 0.0361 | Test Acc: 0.9880\n",
      "Epoch 07 | Loss: 0.0629 | Test Acc: 0.9980\n",
      "Epoch 08 | Loss: 0.0428 | Test Acc: 0.9944\n",
      "Epoch 09 | Loss: 0.0138 | Test Acc: 0.9908\n",
      "Epoch 10 | Loss: 0.0387 | Test Acc: 0.9984\n",
      "Epoch 11 | Loss: 0.0145 | Test Acc: 0.8245\n",
      "Epoch 12 | Loss: 0.0329 | Test Acc: 0.9904\n",
      "Epoch 13 | Loss: 0.0156 | Test Acc: 0.9988\n",
      "Epoch 14 | Loss: 0.0408 | Test Acc: 0.9988\n",
      "Epoch 15 | Loss: 0.0016 | Test Acc: 1.0000\n",
      "Epoch 16 | Loss: 0.0005 | Test Acc: 0.9996\n",
      "Epoch 17 | Loss: 0.0004 | Test Acc: 1.0000\n",
      "Epoch 18 | Loss: 0.0410 | Test Acc: 0.9988\n",
      "Epoch 19 | Loss: 0.0080 | Test Acc: 0.9996\n",
      "Epoch 20 | Loss: 0.0022 | Test Acc: 0.9908\n"
     ]
    }
   ],
   "source": [
    "train_losses = []\n",
    "\n",
    "for epoch in range(1, 21):\n",
    "    loss = train()\n",
    "    acc = test(test_loader)\n",
    "    train_losses.append(loss)\n",
    "    print(f\"Epoch {epoch:02d} | Loss: {loss:.4f} | Test Acc: {acc:.4f}\")"
   ]
  },
  {
   "cell_type": "markdown",
   "id": "a4979c61",
   "metadata": {},
   "source": [
    "## Evaluation"
   ]
  },
  {
   "cell_type": "code",
   "execution_count": 57,
   "id": "06dbb792",
   "metadata": {},
   "outputs": [
    {
     "data": {
      "image/png": "[encoded data removed]",
      "text/plain": [
       "<Figure size 600x500 with 2 Axes>"
      ]
     },
     "metadata": {},
     "output_type": "display_data"
    }
   ],
   "source": [
    "from sklearn.metrics import confusion_matrix, classification_report\n",
    "import matplotlib.pyplot as plt\n",
    "import seaborn as sns\n",
    "import torch\n",
    "\n",
    "# Collect true and predicted labels\n",
    "all_preds = []\n",
    "all_labels = []\n",
    "\n",
    "model.eval()\n",
    "with torch.no_grad():\n",
    "    for data in test_loader:\n",
    "        data = data.to(device)\n",
    "        out = model(data.x, data.edge_index, data.batch)\n",
    "        preds = out.argmax(dim=1).cpu().numpy()\n",
    "        labels = data.y.cpu().numpy()\n",
    "        all_preds.extend(preds)\n",
    "        all_labels.extend(labels)\n",
    "\n",
    "# Confusion Matrix\n",
    "cm = confusion_matrix(all_labels, all_preds)\n",
    "plt.figure(figsize=(6,5))\n",
    "sns.heatmap(cm, annot=True, fmt=\"d\", cmap=\"Blues\",\n",
    "            xticklabels=[\"Cyst\", \"Normal\", \"Stone\", \"Tumor\"],\n",
    "            yticklabels=[\"Cyst\", \"Normal\", \"Stone\", \"Tumor\"])\n",
    "plt.xlabel(\"Predicted\")\n",
    "plt.ylabel(\"Actual\")\n",
    "plt.title(\"Confusion Matrix\")\n",
    "plt.show()"
   ]
  },
  {
   "cell_type": "markdown",
   "id": "eccc8994",
   "metadata": {},
   "source": [
    "### Classification report"
   ]
  },
  {
   "cell_type": "code",
   "execution_count": null,
   "id": "775269d1",
   "metadata": {},
   "outputs": [
    {
     "name": "stdout",
     "output_type": "stream",
     "text": [
      "              precision    recall  f1-score   support\n",
      "\n",
      "        Cyst       0.97      1.00      0.99       742\n",
      "      Normal       1.00      1.00      1.00      1016\n",
      "       Stone       1.00      0.93      0.96       275\n",
      "       Tumor       1.00      1.00      1.00       457\n",
      "\n",
      "    accuracy                           0.99      2490\n",
      "   macro avg       0.99      0.98      0.99      2490\n",
      "weighted avg       0.99      0.99      0.99      2490\n",
      "\n"
     ]
    }
   ],
   "source": [
    "print(classification_report(all_labels, all_preds, target_names=[\"Cyst\", \"Normal\", \"Stone\", \"Tumor\"]))"
   ]
  },
  {
   "cell_type": "markdown",
   "id": "8b258241",
   "metadata": {},
   "source": [
    "### ROC Curve"
   ]
  },
  {
   "cell_type": "code",
   "execution_count": 59,
   "id": "94e4e7ec",
   "metadata": {},
   "outputs": [
    {
     "data": {
      "image/png": "[encoded data removed]",
      "text/plain": [
       "<Figure size 800x600 with 1 Axes>"
      ]
     },
     "metadata": {},
     "output_type": "display_data"
    }
   ],
   "source": [
    "import torch\n",
    "from sklearn.metrics import roc_curve, auc\n",
    "from sklearn.preprocessing import label_binarize\n",
    "import matplotlib.pyplot as plt\n",
    "import numpy as np\n",
    "\n",
    "\n",
    "class_names = [\"Normal\", \"Cyst\", \"Tumor\", \"Stone\"]\n",
    "n_classes = len(class_names)\n",
    "\n",
    "# Collect predictions and labels\n",
    "model.eval()\n",
    "all_probs = []\n",
    "all_labels = []\n",
    "\n",
    "with torch.no_grad():\n",
    "    for data in test_loader:\n",
    "        data = data.to(device)\n",
    "        out = model(data.x, data.edge_index, data.batch)\n",
    "        probs = torch.softmax(out, dim=1).cpu().numpy()\n",
    "        labels = data.y.cpu().numpy()\n",
    "\n",
    "        all_probs.append(probs)\n",
    "        all_labels.extend(labels)\n",
    "\n",
    "# Convert to arrays\n",
    "all_probs = np.vstack(all_probs)\n",
    "all_labels = np.array(all_labels)\n",
    "\n",
    "# Binarize labels for multiclass ROC\n",
    "y_true_bin = label_binarize(all_labels, classes=np.arange(n_classes))\n",
    "\n",
    "# Compute ROC curve and AUC for each class\n",
    "fpr = dict()\n",
    "tpr = dict()\n",
    "roc_auc = dict()\n",
    "\n",
    "for i in range(n_classes):\n",
    "    fpr[i], tpr[i], _ = roc_curve(y_true_bin[:, i], all_probs[:, i])\n",
    "    roc_auc[i] = auc(fpr[i], tpr[i])\n",
    "\n",
    "# Plot all ROC curves\n",
    "plt.figure(figsize=(8, 6))\n",
    "for i in range(n_classes):\n",
    "    plt.plot(fpr[i], tpr[i], label=f\"{class_names[i]} (AUC = {roc_auc[i]:.2f})\")\n",
    "\n",
    "plt.plot([0, 1], [0, 1], \"k--\")\n",
    "plt.xlim([0.0, 1.0])\n",
    "plt.ylim([0.0, 1.05])\n",
    "plt.xlabel(\"False Positive Rate\")\n",
    "plt.ylabel(\"True Positive Rate\")\n",
    "plt.title(\"Multiclass ROC Curve\")\n",
    "plt.legend(loc=\"lower right\")\n",
    "plt.grid()\n",
    "plt.tight_layout()\n",
    "plt.show()\n"
   ]
  },
  {
   "cell_type": "code",
   "execution_count": 60,
   "id": "7db0dca1",
   "metadata": {},
   "outputs": [
    {
     "data": {
      "image/png": "[encoded data removed]",
      "text/plain": [
       "<Figure size 800x500 with 1 Axes>"
      ]
     },
     "metadata": {},
     "output_type": "display_data"
    }
   ],
   "source": [
    "import matplotlib.pyplot as plt\n",
    "\n",
    "plt.figure(figsize=(8, 5))\n",
    "plt.plot(range(1, len(train_losses) + 1), train_losses, marker='o')\n",
    "plt.xlabel(\"Epoch\")\n",
    "plt.ylabel(\"Training Loss\")\n",
    "plt.title(\"Training Loss Curve\")\n",
    "plt.grid(True)\n",
    "plt.tight_layout()\n",
    "plt.show()\n"
   ]
  },
  {
   "cell_type": "markdown",
   "id": "0fb4baba",
   "metadata": {},
   "source": [
    "# Grad-CAM Integration for GCNGraphClassifier\n"
   ]
  },
  {
   "cell_type": "markdown",
   "id": "a3224584",
   "metadata": {},
   "source": [
    "### 1. Register Hooks"
   ]
  },
  {
   "cell_type": "code",
   "execution_count": 61,
   "id": "aa957921",
   "metadata": {},
   "outputs": [
    {
     "data": {
      "text/plain": [
       "<torch.utils.hooks.RemovableHandle at 0x14dd0dd8f50>"
      ]
     },
     "execution_count": 61,
     "metadata": {},
     "output_type": "execute_result"
    }
   ],
   "source": [
    "# Hook storage\n",
    "activations = {}\n",
    "gradients = {}\n",
    "\n",
    "def forward_hook(module, input, output):\n",
    "    activations['value'] = output.detach()\n",
    "\n",
    "def backward_hook(module, grad_input, grad_output):\n",
    "    gradients['value'] = grad_output[0].detach()\n",
    "\n",
    "# Register hooks on the second GCN layer\n",
    "model.conv2.register_forward_hook(forward_hook)\n",
    "model.conv2.register_backward_hook(backward_hook)\n"
   ]
  },
  {
   "cell_type": "markdown",
   "id": "5074ab6f",
   "metadata": {},
   "source": [
    "### 2. Run One Sample Through the Model"
   ]
  },
  {
   "cell_type": "code",
   "execution_count": null,
   "id": "044dc93a",
   "metadata": {},
   "outputs": [
    {
     "name": "stderr",
     "output_type": "stream",
     "text": [
      "C:\\Users\\glori\\AppData\\Local\\Packages\\PythonSoftwareFoundation.Python.3.11_qbz5n2kfra8p0\\LocalCache\\local-packages\\Python311\\site-packages\\torch\\nn\\modules\\module.py:1842: FutureWarning: Using a non-full backward hook when the forward contains multiple autograd Nodes is deprecated and will be removed in future versions. This hook will be missing some grad_input. Please use register_full_backward_hook to get the documented behavior.\n",
      "  self._maybe_warn_non_full_backward_hook(args, result, grad_fn)\n"
     ]
    }
   ],
   "source": [
    "data = test_dataset[0].to(device)\n",
    "\n",
    "model.eval()\n",
    "\n",
    "# Forward pass\n",
    "output = model(data.x, data.edge_index, data.batch)\n",
    "pred_class = output.argmax(dim=1).item()\n",
    "\n",
    "# Backward pass\n",
    "model.zero_grad()\n",
    "class_loss = output[0, pred_class]  # Target class score\n",
    "class_loss.backward()\n"
   ]
  },
  {
   "cell_type": "markdown",
   "id": "34938a2d",
   "metadata": {},
   "source": [
    "### 3. Compute Grad-CAM Heatmap"
   ]
  },
  {
   "cell_type": "code",
   "execution_count": 63,
   "id": "76572408",
   "metadata": {},
   "outputs": [],
   "source": [
    "# Get activation maps and gradients\n",
    "acts = activations['value']         # shape: [num_nodes, hidden_channels]\n",
    "grads = gradients['value']          # shape: [num_nodes, hidden_channels]\n",
    "\n",
    "# Compute global average of gradients per feature channel\n",
    "weights = grads.mean(dim=0)         # shape: [hidden_channels]\n",
    "\n",
    "# Compute Grad-CAM by weighing activations\n",
    "cam = (acts * weights).sum(dim=1)   # shape: [num_nodes]\n",
    "cam = cam.cpu().numpy()\n",
    "\n",
    "# Normalize CAM values for visualization\n",
    "cam = (cam - cam.min()) / (cam.max() - cam.min() + 1e-6)"
   ]
  },
  {
   "cell_type": "code",
   "execution_count": 64,
   "id": "16654e2c",
   "metadata": {},
   "outputs": [
    {
     "data": {
      "image/png": "[encoded data removed]",
      "text/plain": [
       "<Figure size 500x500 with 2 Axes>"
      ]
     },
     "metadata": {},
     "output_type": "display_data"
    }
   ],
   "source": [
    "import matplotlib.pyplot as plt\n",
    "import numpy as np\n",
    "\n",
    "# Reshape first 16 node CAMs into a 4x4 grid\n",
    "patch_cam = cam[:16].reshape(4, 4)\n",
    "\n",
    "plt.figure(figsize=(5, 5))\n",
    "plt.imshow(patch_cam, cmap='hot', interpolation='nearest')\n",
    "plt.colorbar(label=\"Grad-CAM Intensity\")\n",
    "plt.title(\"Grad-CAM Heatmap on Patch Nodes\")\n",
    "plt.axis(\"off\")\n",
    "plt.show()\n"
   ]
  },
  {
   "cell_type": "code",
   "execution_count": 65,
   "id": "9fbac2ec",
   "metadata": {},
   "outputs": [
    {
     "name": "stdout",
     "output_type": "stream",
     "text": [
      "Text node CAM value: 0.9830\n"
     ]
    }
   ],
   "source": [
    "print(f\"Text node CAM value: {cam[16]:.4f}\")\n"
   ]
  },
  {
   "cell_type": "markdown",
   "id": "882710b2",
   "metadata": {},
   "source": [
    "#### Conclusion and Future Directions\n",
    "\n",
    "From this analysis, it's evident that the **influence of the text node (clinical description)** on model decision-making is **class-dependent**. Notably:\n",
    "\n",
    "- The **\"Normal\"** class consistently demonstrated **strong Grad-CAM activation** from the text node when correctly classified, suggesting that the model **relies heavily on textual features** for this class.\n",
    "- Conversely, the **\"Stone\"** and **\"Tumor\"** classes showed **no correct predictions**, and their Grad-CAM activations were inconsistent. This may indicate that the current text embeddings **lack discriminative power** for these pathologies.\n",
    "- The **\"Cyst\"** class displayed a reverse trend, where correct predictions had **lower CAM values**, implying that image features alone may suffice for its classification.\n",
    "\n",
    "These insights suggest that while multimodal integration using superpixel-based graphs and text embeddings is promising, **the quality and informativeness of the text features vary by diagnosis type**.\n",
    "\n",
    "Future Directions\n",
    "- **Explore richer textual metadata** (e.g., radiologist notes or patient history) to enhance text node representations.\n",
    "- Investigate **attention-based GNNs** (like GAT) or **transformer-based multimodal architectures** to better capture cross-modal dependencies.\n",
    "- Conduct **finer-grained ablation studies** to quantify the specific contributions of image and text modalities per class.\n",
    "\n",
    "This project has provided a strong foundation for understanding **interpretable multimodal graph learning** and opens the door to more nuanced and clinically meaningful model development."
   ]
  }
 ],
 "metadata": {
  "kernelspec": {
   "display_name": "Python 3",
   "language": "python",
   "name": "python3"
  },
  "language_info": {
   "codemirror_mode": {
    "name": "ipython",
    "version": 3
   },
   "file_extension": ".py",
   "mimetype": "text/x-python",
   "name": "python",
   "nbconvert_exporter": "python",
   "pygments_lexer": "ipython3",
   "version": "3.11.9"
  }
 },
 "nbformat": 4,
 "nbformat_minor": 5
}
