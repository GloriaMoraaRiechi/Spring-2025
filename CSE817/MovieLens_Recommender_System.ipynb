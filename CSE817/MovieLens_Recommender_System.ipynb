{
 "cells": [
  {
   "cell_type": "markdown",
   "id": "89af004f",
   "metadata": {},
   "source": [
    "# Imports"
   ]
  },
  {
   "cell_type": "code",
   "execution_count": null,
   "id": "b9edcd48",
   "metadata": {},
   "outputs": [],
   "source": [
    "# import packages for reading in data\n",
    "from pyspark.sql import SparkSession\n",
    "from pyspark.context import SparkContext\n",
    "\n",
    "# import packages for types\n",
    "from pyspark.sql.types import IntegerType, DoubleType\n",
    "\n",
    "# import functions for getting substring & rounding numbers\n",
    "from pyspark.sql.functions import substring, round\n",
    "\n",
    "# import functions for model\n",
    "from pyspark.ml.recommendation import ALS\n",
    "from pyspark.ml.evaluation import RegressionEvaluator\n",
    "\n",
    "# import packages for turning the recommendations into seperate columns\n",
    "from pyspark.sql.functions import col, explode\n",
    "\n",
    "# import packages for interactively selecting user\n",
    "from ipywidgets import widgets, interact\n"
   ]
  },
  {
   "cell_type": "markdown",
   "id": "0a89c7e8",
   "metadata": {},
   "source": [
    "# Read in the data"
   ]
  },
  {
   "cell_type": "code",
   "execution_count": 4,
   "id": "d2cc5006",
   "metadata": {},
   "outputs": [
    {
     "name": "stderr",
     "output_type": "stream",
     "text": [
      "your 131072x1 screen size is bogus. expect trouble\n",
      "25/05/08 10:28:09 WARN Utils: Your hostname, Gloria resolves to a loopback address: 127.0.1.1; using 10.255.255.254 instead (on interface lo)\n",
      "25/05/08 10:28:09 WARN Utils: Set SPARK_LOCAL_IP if you need to bind to another address\n",
      "Setting default log level to \"WARN\".\n",
      "To adjust logging level use sc.setLogLevel(newLevel). For SparkR, use setLogLevel(newLevel).\n",
      "25/05/08 10:28:09 WARN NativeCodeLoader: Unable to load native-hadoop library for your platform... using builtin-java classes where applicable\n"
     ]
    }
   ],
   "source": [
    "from pyspark.sql import SparkSession\n",
    "\n",
    "spark = SparkSession.builder \\\n",
    "    .appName(\"ALS Recommender System\") \\\n",
    "    .master(\"local[*]\") \\\n",
    "    .getOrCreate()"
   ]
  },
  {
   "cell_type": "code",
   "execution_count": 6,
   "id": "c2d2c9e7",
   "metadata": {},
   "outputs": [
    {
     "name": "stderr",
     "output_type": "stream",
     "text": [
      "                                                                                \r"
     ]
    }
   ],
   "source": [
    "ratings = spark.read.csv(\"file:///home/moraa/Spring-2025/CSE817/ml-latest-small/ratings.csv\", header=True, inferSchema=True)\n"
   ]
  },
  {
   "cell_type": "code",
   "execution_count": 7,
   "id": "556d40c9",
   "metadata": {},
   "outputs": [
    {
     "name": "stdout",
     "output_type": "stream",
     "text": [
      "+------+-------+------+---------+\n",
      "|userId|movieId|rating|timestamp|\n",
      "+------+-------+------+---------+\n",
      "|     1|      1|   4.0|964982703|\n",
      "|     1|      3|   4.0|964981247|\n",
      "|     1|      6|   4.0|964982224|\n",
      "|     1|     47|   5.0|964983815|\n",
      "|     1|     50|   5.0|964982931|\n",
      "+------+-------+------+---------+\n",
      "only showing top 5 rows\n",
      "\n"
     ]
    }
   ],
   "source": [
    "ratings.show(5)"
   ]
  },
  {
   "cell_type": "code",
   "execution_count": 8,
   "id": "098edbd2",
   "metadata": {},
   "outputs": [
    {
     "name": "stdout",
     "output_type": "stream",
     "text": [
      "root\n",
      " |-- userId: integer (nullable = true)\n",
      " |-- movieId: integer (nullable = true)\n",
      " |-- rating: double (nullable = true)\n",
      " |-- timestamp: integer (nullable = true)\n",
      "\n"
     ]
    }
   ],
   "source": [
    "ratings.printSchema()"
   ]
  },
  {
   "cell_type": "code",
   "execution_count": 9,
   "id": "3bc84795",
   "metadata": {},
   "outputs": [
    {
     "name": "stderr",
     "output_type": "stream",
     "text": [
      "                                                                                \r"
     ]
    },
    {
     "data": {
      "text/plain": [
       "100836"
      ]
     },
     "execution_count": 9,
     "metadata": {},
     "output_type": "execute_result"
    }
   ],
   "source": [
    "ratings.count()"
   ]
  },
  {
   "cell_type": "code",
   "execution_count": 10,
   "id": "6010db2d",
   "metadata": {},
   "outputs": [],
   "source": [
    "movies = spark.read.csv(\"file:///home/moraa/Spring-2025/CSE817/ml-latest-small/movies.csv\", header=True, inferSchema=True)"
   ]
  },
  {
   "cell_type": "code",
   "execution_count": 11,
   "id": "25f79108",
   "metadata": {},
   "outputs": [
    {
     "name": "stdout",
     "output_type": "stream",
     "text": [
      "+-------+--------------------+--------------------+\n",
      "|movieId|               title|              genres|\n",
      "+-------+--------------------+--------------------+\n",
      "|      1|    Toy Story (1995)|Adventure|Animati...|\n",
      "|      2|      Jumanji (1995)|Adventure|Childre...|\n",
      "|      3|Grumpier Old Men ...|      Comedy|Romance|\n",
      "|      4|Waiting to Exhale...|Comedy|Drama|Romance|\n",
      "|      5|Father of the Bri...|              Comedy|\n",
      "+-------+--------------------+--------------------+\n",
      "only showing top 5 rows\n",
      "\n"
     ]
    }
   ],
   "source": [
    "movies.show(5)"
   ]
  },
  {
   "cell_type": "code",
   "execution_count": 12,
   "id": "faf6f5b4",
   "metadata": {},
   "outputs": [],
   "source": [
    "from pyspark.sql.functions import regexp_extract\n",
    "\n",
    "movies = movies.withColumn(\"year\", regexp_extract(\"title\", r'\\\\((\\\\d{4})\\\\)', 1))"
   ]
  },
  {
   "cell_type": "code",
   "execution_count": 13,
   "id": "8bf13b01",
   "metadata": {},
   "outputs": [],
   "source": [
    "ratings = ratings.withColumnRenamed(\"userId\", \"user_id\") \\\n",
    "                 .withColumnRenamed(\"movieId\", \"movie_id\")\n",
    "\n",
    "movies = movies.withColumnRenamed(\"movieId\", \"movie_id\")\n"
   ]
  },
  {
   "cell_type": "code",
   "execution_count": 14,
   "id": "10c38957",
   "metadata": {},
   "outputs": [],
   "source": [
    "combined = ratings.join(movies, on=\"movie_id\", how=\"inner\")"
   ]
  },
  {
   "cell_type": "code",
   "execution_count": 15,
   "id": "ff13e18a",
   "metadata": {},
   "outputs": [
    {
     "name": "stdout",
     "output_type": "stream",
     "text": [
      "root\n",
      " |-- movie_id: integer (nullable = true)\n",
      " |-- user_id: integer (nullable = true)\n",
      " |-- rating: double (nullable = true)\n",
      " |-- timestamp: integer (nullable = true)\n",
      " |-- title: string (nullable = true)\n",
      " |-- genres: string (nullable = true)\n",
      " |-- year: string (nullable = true)\n",
      "\n",
      "+--------+-------+------+---------+--------------------+--------------------+----+\n",
      "|movie_id|user_id|rating|timestamp|               title|              genres|year|\n",
      "+--------+-------+------+---------+--------------------+--------------------+----+\n",
      "|       1|      1|   4.0|964982703|    Toy Story (1995)|Adventure|Animati...|    |\n",
      "|       3|      1|   4.0|964981247|Grumpier Old Men ...|      Comedy|Romance|    |\n",
      "|       6|      1|   4.0|964982224|         Heat (1995)|Action|Crime|Thri...|    |\n",
      "|      47|      1|   5.0|964983815|Seven (a.k.a. Se7...|    Mystery|Thriller|    |\n",
      "|      50|      1|   5.0|964982931|Usual Suspects, T...|Crime|Mystery|Thr...|    |\n",
      "+--------+-------+------+---------+--------------------+--------------------+----+\n",
      "only showing top 5 rows\n",
      "\n"
     ]
    }
   ],
   "source": [
    "combined.printSchema()\n",
    "combined.show(5)"
   ]
  },
  {
   "cell_type": "code",
   "execution_count": 16,
   "id": "a04ff55c",
   "metadata": {},
   "outputs": [],
   "source": [
    "df = combined"
   ]
  },
  {
   "cell_type": "code",
   "execution_count": 17,
   "id": "f35f379e",
   "metadata": {},
   "outputs": [
    {
     "name": "stdout",
     "output_type": "stream",
     "text": [
      "root\n",
      " |-- movie_id: integer (nullable = true)\n",
      " |-- user_id: integer (nullable = true)\n",
      " |-- rating: double (nullable = true)\n",
      " |-- timestamp: integer (nullable = true)\n",
      " |-- title: string (nullable = true)\n",
      " |-- genres: string (nullable = true)\n",
      " |-- year: string (nullable = true)\n",
      "\n",
      "+--------+-------+------+---------+--------------------+--------------------+----+\n",
      "|movie_id|user_id|rating|timestamp|               title|              genres|year|\n",
      "+--------+-------+------+---------+--------------------+--------------------+----+\n",
      "|       1|      1|   4.0|964982703|    Toy Story (1995)|Adventure|Animati...|    |\n",
      "|       3|      1|   4.0|964981247|Grumpier Old Men ...|      Comedy|Romance|    |\n",
      "|       6|      1|   4.0|964982224|         Heat (1995)|Action|Crime|Thri...|    |\n",
      "|      47|      1|   5.0|964983815|Seven (a.k.a. Se7...|    Mystery|Thriller|    |\n",
      "|      50|      1|   5.0|964982931|Usual Suspects, T...|Crime|Mystery|Thr...|    |\n",
      "+--------+-------+------+---------+--------------------+--------------------+----+\n",
      "only showing top 5 rows\n",
      "\n"
     ]
    }
   ],
   "source": [
    "df.printSchema()\n",
    "df.show(5)"
   ]
  },
  {
   "cell_type": "code",
   "execution_count": 19,
   "id": "c0532e3c",
   "metadata": {},
   "outputs": [],
   "source": [
    "df = df.drop(\"timestamp\")"
   ]
  },
  {
   "cell_type": "code",
   "execution_count": 20,
   "id": "818c6558",
   "metadata": {},
   "outputs": [
    {
     "name": "stdout",
     "output_type": "stream",
     "text": [
      "+--------+-------+------+---------------------------+-------------------------------------------+----+\n",
      "|movie_id|user_id|rating|title                      |genres                                     |year|\n",
      "+--------+-------+------+---------------------------+-------------------------------------------+----+\n",
      "|1       |1      |4.0   |Toy Story (1995)           |Adventure|Animation|Children|Comedy|Fantasy|    |\n",
      "|3       |1      |4.0   |Grumpier Old Men (1995)    |Comedy|Romance                             |    |\n",
      "|6       |1      |4.0   |Heat (1995)                |Action|Crime|Thriller                      |    |\n",
      "|47      |1      |5.0   |Seven (a.k.a. Se7en) (1995)|Mystery|Thriller                           |    |\n",
      "|50      |1      |5.0   |Usual Suspects, The (1995) |Crime|Mystery|Thriller                     |    |\n",
      "|70      |1      |3.0   |From Dusk Till Dawn (1996) |Action|Comedy|Horror|Thriller              |    |\n",
      "|101     |1      |5.0   |Bottle Rocket (1996)       |Adventure|Comedy|Crime|Romance             |    |\n",
      "|110     |1      |4.0   |Braveheart (1995)          |Action|Drama|War                           |    |\n",
      "|151     |1      |5.0   |Rob Roy (1995)             |Action|Drama|Romance|War                   |    |\n",
      "|157     |1      |5.0   |Canadian Bacon (1995)      |Comedy|War                                 |    |\n",
      "+--------+-------+------+---------------------------+-------------------------------------------+----+\n",
      "only showing top 10 rows\n",
      "\n"
     ]
    }
   ],
   "source": [
    "df.show(10, truncate=False)"
   ]
  },
  {
   "cell_type": "code",
   "execution_count": 22,
   "id": "5af342ee",
   "metadata": {},
   "outputs": [],
   "source": [
    "from pyspark.sql.functions import regexp_extract\n",
    "\n",
    "df = df.withColumn(\"year\", regexp_extract(\"title\", r\"\\((\\d{4})\\)\", 1))"
   ]
  },
  {
   "cell_type": "code",
   "execution_count": 23,
   "id": "dd6f3018",
   "metadata": {},
   "outputs": [
    {
     "name": "stdout",
     "output_type": "stream",
     "text": [
      "+---------------------------+----+\n",
      "|title                      |year|\n",
      "+---------------------------+----+\n",
      "|Toy Story (1995)           |1995|\n",
      "|Grumpier Old Men (1995)    |1995|\n",
      "|Heat (1995)                |1995|\n",
      "|Seven (a.k.a. Se7en) (1995)|1995|\n",
      "|Usual Suspects, The (1995) |1995|\n",
      "|From Dusk Till Dawn (1996) |1996|\n",
      "|Bottle Rocket (1996)       |1996|\n",
      "|Braveheart (1995)          |1995|\n",
      "|Rob Roy (1995)             |1995|\n",
      "|Canadian Bacon (1995)      |1995|\n",
      "+---------------------------+----+\n",
      "only showing top 10 rows\n",
      "\n"
     ]
    }
   ],
   "source": [
    "df.select(\"title\", \"year\").show(10, truncate=False)"
   ]
  },
  {
   "cell_type": "code",
   "execution_count": 24,
   "id": "cdfc0aa3",
   "metadata": {},
   "outputs": [],
   "source": [
    "from pyspark.sql.functions import regexp_replace\n",
    "\n",
    "df = df.withColumn(\n",
    "    \"title\",\n",
    "    regexp_replace(\"title\", r\"\\s*\\(\\d{4}\\)\", \"\")\n",
    ")\n"
   ]
  },
  {
   "cell_type": "code",
   "execution_count": 25,
   "id": "4064c2f2",
   "metadata": {},
   "outputs": [
    {
     "name": "stdout",
     "output_type": "stream",
     "text": [
      "+--------------------+----+\n",
      "|title               |year|\n",
      "+--------------------+----+\n",
      "|Toy Story           |1995|\n",
      "|Grumpier Old Men    |1995|\n",
      "|Heat                |1995|\n",
      "|Seven (a.k.a. Se7en)|1995|\n",
      "|Usual Suspects, The |1995|\n",
      "|From Dusk Till Dawn |1996|\n",
      "|Bottle Rocket       |1996|\n",
      "|Braveheart          |1995|\n",
      "|Rob Roy             |1995|\n",
      "|Canadian Bacon      |1995|\n",
      "+--------------------+----+\n",
      "only showing top 10 rows\n",
      "\n"
     ]
    }
   ],
   "source": [
    "df.select(\"title\", \"year\").show(10, truncate=False)"
   ]
  },
  {
   "cell_type": "code",
   "execution_count": 26,
   "id": "2f90699f",
   "metadata": {},
   "outputs": [
    {
     "name": "stdout",
     "output_type": "stream",
     "text": [
      "+--------+-------+------+--------------------+-------------------------------------------+----+\n",
      "|movie_id|user_id|rating|title               |genres                                     |year|\n",
      "+--------+-------+------+--------------------+-------------------------------------------+----+\n",
      "|1       |1      |4.0   |Toy Story           |Adventure|Animation|Children|Comedy|Fantasy|1995|\n",
      "|3       |1      |4.0   |Grumpier Old Men    |Comedy|Romance                             |1995|\n",
      "|6       |1      |4.0   |Heat                |Action|Crime|Thriller                      |1995|\n",
      "|47      |1      |5.0   |Seven (a.k.a. Se7en)|Mystery|Thriller                           |1995|\n",
      "|50      |1      |5.0   |Usual Suspects, The |Crime|Mystery|Thriller                     |1995|\n",
      "|70      |1      |3.0   |From Dusk Till Dawn |Action|Comedy|Horror|Thriller              |1996|\n",
      "|101     |1      |5.0   |Bottle Rocket       |Adventure|Comedy|Crime|Romance             |1996|\n",
      "|110     |1      |4.0   |Braveheart          |Action|Drama|War                           |1995|\n",
      "|151     |1      |5.0   |Rob Roy             |Action|Drama|Romance|War                   |1995|\n",
      "|157     |1      |5.0   |Canadian Bacon      |Comedy|War                                 |1995|\n",
      "+--------+-------+------+--------------------+-------------------------------------------+----+\n",
      "only showing top 10 rows\n",
      "\n"
     ]
    }
   ],
   "source": [
    "df.show(10, truncate=False)"
   ]
  },
  {
   "cell_type": "markdown",
   "id": "3d5c1d00",
   "metadata": {},
   "source": [
    "See how many users and movies there are"
   ]
  },
  {
   "cell_type": "code",
   "execution_count": 28,
   "id": "c35b3872",
   "metadata": {},
   "outputs": [
    {
     "name": "stderr",
     "output_type": "stream",
     "text": [
      "[Stage 22:>                                                         (0 + 1) / 1]\r"
     ]
    },
    {
     "name": "stdout",
     "output_type": "stream",
     "text": [
      "There are 610 users in this dataset.\n"
     ]
    },
    {
     "name": "stderr",
     "output_type": "stream",
     "text": [
      "                                                                                \r"
     ]
    }
   ],
   "source": [
    "print(\"There are\", df.select(\"user_id\").dropDuplicates().count(), \"users in this dataset.\")"
   ]
  },
  {
   "cell_type": "code",
   "execution_count": 29,
   "id": "4a57d293",
   "metadata": {},
   "outputs": [
    {
     "name": "stdout",
     "output_type": "stream",
     "text": [
      "There are 9724 movies in this dataset.\n"
     ]
    }
   ],
   "source": [
    "print(\"There are\", df.select(\"movie_id\").dropDuplicates().count(), \"movies in this dataset.\")"
   ]
  },
  {
   "cell_type": "markdown",
   "id": "06b8734e",
   "metadata": {},
   "source": [
    "See what their max and min values are"
   ]
  },
  {
   "cell_type": "code",
   "execution_count": 31,
   "id": "18701dbb",
   "metadata": {},
   "outputs": [
    {
     "name": "stdout",
     "output_type": "stream",
     "text": [
      "Min user_id = Row(min(user_id)=1)\n",
      "Max user_id = Row(max(user_id)=610)\n"
     ]
    }
   ],
   "source": [
    "print (\"Min user_id =\", df.agg({\"user_id\": \"min\"}).collect()[0])\n",
    "print (\"Max user_id =\", df.agg({\"user_id\": \"max\"}).collect()[0])"
   ]
  },
  {
   "cell_type": "code",
   "execution_count": 32,
   "id": "5b9885e0",
   "metadata": {},
   "outputs": [
    {
     "name": "stdout",
     "output_type": "stream",
     "text": [
      "Min movie_id = Row(min(movie_id)=1)\n",
      "Max movie_id = Row(max(movie_id)=193609)\n"
     ]
    }
   ],
   "source": [
    "print (\"Min movie_id =\", df.agg({\"movie_id\": \"min\"}).collect()[0])\n",
    "print (\"Max movie_id =\", df.agg({\"movie_id\": \"max\"}).collect()[0])"
   ]
  },
  {
   "cell_type": "code",
   "execution_count": 33,
   "id": "424cf250",
   "metadata": {},
   "outputs": [
    {
     "name": "stdout",
     "output_type": "stream",
     "text": [
      "+--------+--------------------------------------------------------+\n",
      "|movie_id|title                                                   |\n",
      "+--------+--------------------------------------------------------+\n",
      "|1136    |Monty Python and the Holy Grail                         |\n",
      "|775     |Spirits of the Dead                                     |\n",
      "|848     |Spitfire Grill, The                                     |\n",
      "|1882    |Godzilla                                                |\n",
      "|48774   |Children of Men                                         |\n",
      "|158872  |Sausage Party                                           |\n",
      "|60040   |Incredible Hulk, The                                    |\n",
      "|73321   |Book of Eli, The                                        |\n",
      "|99728   |Gangster Squad                                          |\n",
      "|29      |City of Lost Children, The (Cité des enfants perdus, La)|\n",
      "+--------+--------------------------------------------------------+\n",
      "only showing top 10 rows\n",
      "\n"
     ]
    }
   ],
   "source": [
    "df.select([\"movie_id\", \"title\"]).drop_duplicates().show(10, truncate=False)\n"
   ]
  },
  {
   "cell_type": "markdown",
   "id": "6966981d",
   "metadata": {},
   "source": [
    "Check if there are users with multiple ratings on a particular movie"
   ]
  },
  {
   "cell_type": "code",
   "execution_count": 34,
   "id": "b68c26d7",
   "metadata": {},
   "outputs": [],
   "source": [
    "if df[\"movie_id\", \"user_id\"].count() > df.dropDuplicates([\"movie_id\", \"user_id\"]).count():\n",
    "    raise ValueError('Data has duplicates')"
   ]
  },
  {
   "cell_type": "markdown",
   "id": "810309ed",
   "metadata": {},
   "source": [
    "## Calculate the sparcity of a users vs movies matrix"
   ]
  },
  {
   "cell_type": "code",
   "execution_count": 35,
   "id": "d604211c",
   "metadata": {},
   "outputs": [],
   "source": [
    "# Count the total number of ratings in the dataset\n",
    "num_ratings = float(df.select(\"rating\").count())\n",
    "\n",
    "# Count the number of distinct userIds and distinct movieIds\n",
    "num_users = df.select(\"user_id\").distinct().count()\n",
    "num_movies = df.select(\"movie_id\").distinct().count()"
   ]
  },
  {
   "cell_type": "code",
   "execution_count": 37,
   "id": "892ff3df",
   "metadata": {},
   "outputs": [
    {
     "name": "stdout",
     "output_type": "stream",
     "text": [
      "The ratings dataframe is 98.30% empty.\n"
     ]
    }
   ],
   "source": [
    "# Caluclate the sparsity\n",
    "sparsity = (1.0 - (num_ratings / (num_users * num_movies))) * 100\n",
    "\n",
    "print (\"The ratings dataframe is %.2f\" % sparsity + \"% empty.\")"
   ]
  },
  {
   "cell_type": "markdown",
   "id": "df70f6d5",
   "metadata": {},
   "source": [
    "## Build recommender model"
   ]
  },
  {
   "cell_type": "markdown",
   "id": "fde17146",
   "metadata": {},
   "source": [
    "Split the data into a train & test split"
   ]
  },
  {
   "cell_type": "code",
   "execution_count": 38,
   "id": "4421c4cf",
   "metadata": {},
   "outputs": [],
   "source": [
    "# Split the data to create a test and train set\n",
    "train, test = df.randomSplit([0.8, 0.2], seed = 42)"
   ]
  },
  {
   "cell_type": "markdown",
   "id": "9e29270c",
   "metadata": {},
   "source": [
    "Create model"
   ]
  },
  {
   "cell_type": "code",
   "execution_count": 39,
   "id": "d86a4d7a",
   "metadata": {},
   "outputs": [],
   "source": [
    "# Create ALS model\n",
    "als = ALS(userCol=\"user_id\", itemCol=\"movie_id\", ratingCol=\"rating\", nonnegative=True, implicitPrefs=False, coldStartStrategy=\"drop\")"
   ]
  },
  {
   "cell_type": "markdown",
   "id": "2a391304",
   "metadata": {},
   "source": [
    "Fit the model to the trainind data"
   ]
  },
  {
   "cell_type": "code",
   "execution_count": 40,
   "id": "a66f83cf",
   "metadata": {},
   "outputs": [],
   "source": [
    "# train out model by fitting it to the training data\n",
    "model = als.fit(train)"
   ]
  },
  {
   "cell_type": "markdown",
   "id": "5ebb32af",
   "metadata": {},
   "source": [
    "Evaluate the model"
   ]
  },
  {
   "cell_type": "code",
   "execution_count": 41,
   "id": "a66de06d",
   "metadata": {},
   "outputs": [],
   "source": [
    "# run the test set through the model to get a prediction\n",
    "unrounded_predictions = model.transform(test)"
   ]
  },
  {
   "cell_type": "code",
   "execution_count": 42,
   "id": "68e5605d",
   "metadata": {},
   "outputs": [],
   "source": [
    "# round the predictions\n",
    "predictions = unrounded_predictions.withColumn(\"prediction\", round(unrounded_predictions[\"prediction\"], 3))"
   ]
  },
  {
   "cell_type": "code",
   "execution_count": 43,
   "id": "486fa177",
   "metadata": {},
   "outputs": [
    {
     "name": "stdout",
     "output_type": "stream",
     "text": [
      "+--------+-------+------+--------------------+--------------------+----+----------+\n",
      "|movie_id|user_id|rating|               title|              genres|year|prediction|\n",
      "+--------+-------+------+--------------------+--------------------+----+----------+\n",
      "|     296|    471|   4.0|        Pulp Fiction|Comedy|Crime|Dram...|1994|     4.108|\n",
      "|     356|    463|   4.0|        Forrest Gump|Comedy|Drama|Roma...|1994|     3.998|\n",
      "|    1197|    148|   3.0| Princess Bride, The|Action|Adventure|...|1987|     4.086|\n",
      "|    1221|    463|   4.5|Godfather: Part I...|         Crime|Drama|1974|     4.035|\n",
      "|    1690|    463|   4.0| Alien: Resurrection|Action|Horror|Sci-Fi|1997|      3.28|\n",
      "|    2167|    463|   3.0|               Blade|Action|Horror|Thr...|1998|     3.706|\n",
      "|    2394|    496|   3.5|Prince of Egypt, The|   Animation|Musical|1998|     3.125|\n",
      "|    4191|    496|   2.5|               Alfie|Comedy|Drama|Romance|1966|      4.07|\n",
      "|    4223|    463|   4.0|  Enemy at the Gates|           Drama|War|2001|     3.985|\n",
      "|    4886|    148|   3.0|      Monsters, Inc.|Adventure|Animati...|2001|     3.911|\n",
      "+--------+-------+------+--------------------+--------------------+----+----------+\n",
      "only showing top 10 rows\n",
      "\n"
     ]
    }
   ],
   "source": [
    "# Compare the user rating to the predicted rating\n",
    "predictions.show(10)"
   ]
  },
  {
   "cell_type": "markdown",
   "id": "671425e2",
   "metadata": {},
   "source": [
    "We will now attempt to get an official metric on the accuracy of these predictions."
   ]
  },
  {
   "cell_type": "code",
   "execution_count": 44,
   "id": "ab545eeb",
   "metadata": {},
   "outputs": [],
   "source": [
    "# Define an evaluator using RMSE\n",
    "evaluator = RegressionEvaluator(metricName=\"rmse\", labelCol=\"rating\", predictionCol=\"prediction\")"
   ]
  },
  {
   "cell_type": "code",
   "execution_count": 45,
   "id": "964379c1",
   "metadata": {},
   "outputs": [
    {
     "name": "stderr",
     "output_type": "stream",
     "text": [
      "[Stage 225:>                                                        (0 + 1) / 1]\r"
     ]
    },
    {
     "name": "stdout",
     "output_type": "stream",
     "text": [
      "Root-mean-square error = 0.8754690602840302\n"
     ]
    },
    {
     "name": "stderr",
     "output_type": "stream",
     "text": [
      "                                                                                \r"
     ]
    }
   ],
   "source": [
    "# evaluate model performance\n",
    "rmse = evaluator.evaluate(predictions)\n",
    "\n",
    "print(\"Root-mean-square error = \" + str(rmse))"
   ]
  },
  {
   "cell_type": "markdown",
   "id": "e3f6e7d9",
   "metadata": {},
   "source": [
    "## Recommend movies"
   ]
  },
  {
   "cell_type": "markdown",
   "id": "63215179",
   "metadata": {},
   "source": [
    "1. Generate recommendation for all users\n"
   ]
  },
  {
   "cell_type": "code",
   "execution_count": 46,
   "id": "b2d6c4d4",
   "metadata": {},
   "outputs": [],
   "source": [
    "num_movies_to_recommend = 5"
   ]
  },
  {
   "cell_type": "code",
   "execution_count": 47,
   "id": "d2fb202c",
   "metadata": {},
   "outputs": [],
   "source": [
    "# Generate n Recommendations for all users\n",
    "recommendations_for_users = model.recommendForAllUsers(num_movies_to_recommend)"
   ]
  },
  {
   "cell_type": "code",
   "execution_count": 48,
   "id": "81cd07c7",
   "metadata": {},
   "outputs": [
    {
     "name": "stderr",
     "output_type": "stream",
     "text": [
      "[Stage 275:===========================================>         (83 + 12) / 100]\r"
     ]
    },
    {
     "name": "stdout",
     "output_type": "stream",
     "text": [
      "+-------+--------------------------------------------------------------------------------------------------+\n",
      "|user_id|recommendations                                                                                   |\n",
      "+-------+--------------------------------------------------------------------------------------------------+\n",
      "|1      |[{132333, 5.7711916}, {5490, 5.7711916}, {5915, 5.7511315}, {945, 5.747388}, {3983, 5.6669397}]   |\n",
      "|2      |[{1218, 5.021182}, {131724, 4.892015}, {7842, 4.867265}, {60943, 4.8495092}, {59018, 4.8495092}]  |\n",
      "|3      |[{1241, 5.3868766}, {89118, 5.2076526}, {2068, 4.947723}, {6835, 4.9265428}, {7982, 4.918167}]    |\n",
      "|4      |[{25825, 5.654018}, {48322, 5.5147}, {25850, 5.3838487}, {926, 5.0376754}, {74452, 4.955408}]     |\n",
      "|5      |[{132333, 4.8848243}, {5490, 4.8848243}, {5915, 4.833097}, {3379, 4.7773905}, {6375, 4.7637954}]  |\n",
      "|6      |[{2563, 5.086253}, {7121, 4.836037}, {3404, 4.823554}, {1066, 4.797053}, {42730, 4.795869}]       |\n",
      "|7      |[{5222, 5.5025883}, {745, 5.3018274}, {7748, 5.231333}, {1223, 5.2188516}, {68945, 5.0884404}]    |\n",
      "|8      |[{158966, 4.815375}, {27611, 4.7751427}, {132333, 4.7572546}, {5490, 4.7572546}, {5915, 4.711523}]|\n",
      "|9      |[{6201, 4.9758706}, {4495, 4.9758706}, {2295, 4.863202}, {3200, 4.8438354}, {33649, 4.8253655}]   |\n",
      "|10     |[{74946, 5.0004973}, {42730, 4.897873}, {2563, 4.70581}, {90888, 4.6484265}, {71579, 4.639895}]   |\n",
      "+-------+--------------------------------------------------------------------------------------------------+\n",
      "\n"
     ]
    },
    {
     "name": "stderr",
     "output_type": "stream",
     "text": [
      "                                                                                \r"
     ]
    }
   ],
   "source": [
    "recommendations_for_users.limit(10).show(truncate=False)"
   ]
  },
  {
   "cell_type": "markdown",
   "id": "8cd425f9",
   "metadata": {},
   "source": [
    "We can turn this recommendations column into two columns for easier visualisation of the recommended movies. This gves the following:\n",
    "\n"
   ]
  },
  {
   "cell_type": "code",
   "execution_count": 49,
   "id": "1e2450d5",
   "metadata": {},
   "outputs": [],
   "source": [
    "# turn the recommendation column into multiple columns for easy visualisation\n",
    "user_rec_nd_unrounded_pred = recommendations_for_users.withColumn(\"exploded_rec\", explode(\"recommendations\"))\\\n",
    "                                                    .select('user_id', col(\"exploded_rec.movie_id\"), col(\"exploded_rec.rating\"))"
   ]
  },
  {
   "cell_type": "code",
   "execution_count": 50,
   "id": "d51e6dbd",
   "metadata": {},
   "outputs": [],
   "source": [
    "# round the predicted ratings\n",
    "user_rec_nd_pred_rating = user_rec_nd_unrounded_pred.withColumn(\"rating\", round(user_rec_nd_unrounded_pred[\"rating\"], 3))\n"
   ]
  },
  {
   "cell_type": "code",
   "execution_count": 51,
   "id": "1e1f1e19",
   "metadata": {},
   "outputs": [
    {
     "name": "stderr",
     "output_type": "stream",
     "text": [
      "[Stage 324:===============================================>     (90 + 10) / 100]\r"
     ]
    },
    {
     "name": "stdout",
     "output_type": "stream",
     "text": [
      "+-------+--------+------+\n",
      "|user_id|movie_id|rating|\n",
      "+-------+--------+------+\n",
      "|      1|  132333| 5.771|\n",
      "|      1|    5490| 5.771|\n",
      "|      1|    5915| 5.751|\n",
      "|      1|     945| 5.747|\n",
      "|      1|    3983| 5.667|\n",
      "|      2|    1218| 5.021|\n",
      "|      2|  131724| 4.892|\n",
      "|      2|    7842| 4.867|\n",
      "|      2|   60943|  4.85|\n",
      "|      2|   59018|  4.85|\n",
      "+-------+--------+------+\n",
      "\n"
     ]
    },
    {
     "name": "stderr",
     "output_type": "stream",
     "text": [
      "                                                                                \r"
     ]
    }
   ],
   "source": [
    "user_rec_nd_pred_rating.limit(10).show()"
   ]
  },
  {
   "cell_type": "markdown",
   "id": "4ec410fe",
   "metadata": {},
   "source": [
    "Each user now has 5 recommended movies assigned to them by the recommender system. These movies are based of a predicted rating of what each user would rate each movie and the top 'n' predicted rated movies for each user are chosen."
   ]
  },
  {
   "cell_type": "markdown",
   "id": "d659664a",
   "metadata": {},
   "source": [
    "We can further dive into a specific user and see **how the recommendations compare to the users actual highly rated movies.**"
   ]
  },
  {
   "cell_type": "markdown",
   "id": "3bc42e1b",
   "metadata": {},
   "source": [
    "The example below follows the user with user_id of 12.\n",
    "\n",
    "- Users top rated movies\n"
   ]
  },
  {
   "cell_type": "code",
   "execution_count": 52,
   "id": "1eec0fef",
   "metadata": {},
   "outputs": [
    {
     "name": "stdout",
     "output_type": "stream",
     "text": [
      "+-------+--------+--------------------------+----+--------------------+------+\n",
      "|user_id|movie_id|title                     |year|genres              |rating|\n",
      "+-------+--------+--------------------------+----+--------------------+------+\n",
      "|12     |168     |First Knight              |1995|Action|Drama|Romance|5.0   |\n",
      "|12     |222     |Circle of Friends         |1995|Drama|Romance       |5.0   |\n",
      "|12     |256     |Junior                    |1994|Comedy|Sci-Fi       |5.0   |\n",
      "|12     |838     |Emma                      |1996|Comedy|Drama|Romance|5.0   |\n",
      "|12     |2581    |Never Been Kissed         |1999|Comedy|Romance      |5.0   |\n",
      "|12     |1357    |Shine                     |1996|Drama|Romance       |5.0   |\n",
      "|12     |1721    |Titanic                   |1997|Drama|Romance       |5.0   |\n",
      "|12     |2072    |'burbs, The               |1989|Comedy              |5.0   |\n",
      "|12     |2485    |She's All That            |1999|Comedy|Romance      |5.0   |\n",
      "|12     |2572    |10 Things I Hate About You|1999|Comedy|Romance      |5.0   |\n",
      "+-------+--------+--------------------------+----+--------------------+------+\n",
      "\n"
     ]
    }
   ],
   "source": [
    "df.select(df.user_id, df.movie_id, df.title, df.year, df.genres, df.rating) \\\n",
    "  .filter('user_id = 12') \\\n",
    "  .sort('rating', ascending=False).limit(10).show(truncate=False)"
   ]
  },
  {
   "cell_type": "markdown",
   "id": "87328ce2",
   "metadata": {},
   "source": [
    "- Recommended movies"
   ]
  },
  {
   "cell_type": "code",
   "execution_count": 53,
   "id": "6c1e00aa",
   "metadata": {},
   "outputs": [
    {
     "name": "stderr",
     "output_type": "stream",
     "text": [
      "                                                                                \r"
     ]
    },
    {
     "name": "stdout",
     "output_type": "stream",
     "text": [
      "+-------+--------+------------------+----+-------------------------------+------+\n",
      "|user_id|movie_id|title             |year|genres                         |rating|\n",
      "+-------+--------+------------------+----+-------------------------------+------+\n",
      "|12     |7121    |Adam's Rib        |1949|Comedy|Romance                 |6.007 |\n",
      "|12     |2563    |Dangerous Beauty  |1998|Drama                          |5.987 |\n",
      "|12     |67618   |Strictly Sexual   |2008|Comedy|Drama|Romance           |5.927 |\n",
      "|12     |33649   |Saving Face       |2004|Comedy|Drama|Romance           |5.923 |\n",
      "|12     |1011    |Herbie Rides Again|1974|Children|Comedy|Fantasy|Romance|5.833 |\n",
      "+-------+--------+------------------+----+-------------------------------+------+\n",
      "\n"
     ]
    }
   ],
   "source": [
    "user_rec_nd_pred_rating.join(df.drop('user_id', 'rating').dropDuplicates(), ['movie_id'], how='left') \\\n",
    "                       .select(col('user_id'), col('movie_id'), col('title'), col('year'), col('genres'), col('rating')) \\\n",
    "                       .filter('user_id = 12') \\\n",
    "                       .sort('rating', ascending=False).limit(10).show(truncate=False)"
   ]
  },
  {
   "cell_type": "markdown",
   "id": "489e827f",
   "metadata": {},
   "source": [
    "Here we have shown the users top 10 rated movies and the 5 movies that the system recommends for this given user. As you can see from the users highly rated movies, the genres of these movies are most commonly Drama, Romance and Comody. It can also be seen that our recommendation system has taken this on board and has recommended movies with the genres Comody, Drama and Romance.\n",
    "\n",
    "This shows the effectiveness of the recommender system's recommendations."
   ]
  }
 ],
 "metadata": {
  "kernelspec": {
   "display_name": "spark310",
   "language": "python",
   "name": "python3"
  },
  "language_info": {
   "codemirror_mode": {
    "name": "ipython",
    "version": 3
   },
   "file_extension": ".py",
   "mimetype": "text/x-python",
   "name": "python",
   "nbconvert_exporter": "python",
   "pygments_lexer": "ipython3",
   "version": "3.10.16"
  }
 },
 "nbformat": 4,
 "nbformat_minor": 5
}
